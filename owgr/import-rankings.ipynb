{
 "cells": [
  {
   "cell_type": "code",
   "execution_count": 1,
   "metadata": {},
   "outputs": [],
   "source": [
    "import csv"
   ]
  },
  {
   "cell_type": "code",
   "execution_count": 2,
   "metadata": {},
   "outputs": [],
   "source": [
    "RANKING_FILE = '../data/owgr-{0}-{1}.csv'\n",
    "HISTORY_FILE = '../data/owgr-history.csv'"
   ]
  },
  {
   "cell_type": "code",
   "execution_count": null,
   "metadata": {},
   "outputs": [],
   "source": [
    "with open(HISTORY_FILE, 'r') as f:\n",
    "    reader = csv.reader(f)\n",
    "    history = list(reader)\n",
    "    \n",
    "len(history)"
   ]
  },
  {
   "cell_type": "markdown",
   "metadata": {},
   "source": [
    "#### TODO\n",
    "\n",
    "- parse (Am) out of player name as is_amatuer\n",
    "- parse first and last names from player_name\n",
    "- import row by row into MySql (on SiteGround)\n",
    "- build 2nd script to parse and import full weekly data\n",
    "- redo weekly ranking download to csv and new filename (owgr-20190310.csv)\n",
    "- figure out how to schedule weekly download of rankings and import"
   ]
  },
  {
   "cell_type": "code",
   "execution_count": null,
   "metadata": {},
   "outputs": [],
   "source": []
  }
 ],
 "metadata": {
  "kernelspec": {
   "display_name": "Python 3",
   "language": "python",
   "name": "python3"
  },
  "language_info": {
   "codemirror_mode": {
    "name": "ipython",
    "version": 3
   },
   "file_extension": ".py",
   "mimetype": "text/x-python",
   "name": "python",
   "nbconvert_exporter": "python",
   "pygments_lexer": "ipython3",
   "version": "3.6.5"
  }
 },
 "nbformat": 4,
 "nbformat_minor": 2
}

{
 "cells": [
  {
   "cell_type": "code",
   "execution_count": 1,
   "metadata": {},
   "outputs": [],
   "source": [
    "import numpy as np\n",
    "import pandas as pd\n",
    "from IPython.display import display\n",
    "import matplotlib.pyplot as plt\n",
    "import time\n",
    "import math\n",
    "import pickle\n",
    "\n",
    "from sklearn.preprocessing import MinMaxScaler\n",
    "from sklearn.preprocessing import LabelEncoder\n",
    "from sklearn.preprocessing import OneHotEncoder\n",
    "\n",
    "from sklearn.ensemble import RandomForestClassifier\n",
    "\n",
    "from sklearn import metrics\n",
    "from sklearn.model_selection import cross_val_score\n",
    "\n",
    "from scipy.stats import poisson,skellam\n",
    "from statsmodels.stats.outliers_influence import variance_inflation_factor\n",
    "import statsmodels.api as sm\n",
    "import statsmodels.formula.api as smf\n",
    "\n",
    "%matplotlib inline\n",
    "pd.set_option('display.max_columns', None)\n",
    "\n",
    "import warnings\n",
    "warnings.filterwarnings('ignore')"
   ]
  },
  {
   "cell_type": "code",
   "execution_count": 2,
   "metadata": {},
   "outputs": [],
   "source": [
    "TRAIN_FILE = './data/holes-2016.csv'\n",
    "VAL_FILE = './data/holes-2017.csv'\n",
    "TEST_FILE = './data/holes-2018.csv'"
   ]
  },
  {
   "cell_type": "code",
   "execution_count": 3,
   "metadata": {},
   "outputs": [],
   "source": [
    "def parse_time_to_hour(x):\n",
    "    return int(x[:2])\n",
    "\n",
    "def is_morning(x):\n",
    "    return x < 13\n",
    "\n",
    "def get_wind(t, a, p):\n",
    "    if is_morning(t):\n",
    "        return a\n",
    "    else:\n",
    "        return p"
   ]
  },
  {
   "cell_type": "code",
   "execution_count": 4,
   "metadata": {},
   "outputs": [],
   "source": [
    "def multicollinearity_check(X, inplace=True, thresh=5.0, debug=False):\n",
    "    # adapted from: https://stackoverflow.com/a/48826255\n",
    "    # https://www.statsmodels.org/stable/generated/statsmodels.stats.outliers_influence.variance_inflation_factor.html\n",
    "    data_type = X.dtypes\n",
    "    int_cols = \\\n",
    "    X.select_dtypes(include=['uint8', 'int', 'int16', 'int32', 'int64', 'float', 'float16', 'float32', 'float64']).shape[1]\n",
    "    total_cols = X.shape[1]\n",
    "    try:\n",
    "        if int_cols != total_cols:\n",
    "            raise Exception('All the columns should be integer or float, for multicollinearity test.')\n",
    "        else:\n",
    "            variables = list(range(X.shape[1]))\n",
    "            dropped = True\n",
    "            if debug:\n",
    "                print('''\\n\\nThe VIF calculator will now iterate through the features and calculate their respective values.\n",
    "                It shall continue dropping the highest VIF features until all the features have VIF less than the threshold of 5.\\n\\n''')\n",
    "            while dropped:\n",
    "                dropped = False\n",
    "                vif = [variance_inflation_factor(X.iloc[:, variables].values, ix) for ix in variables]\n",
    "                if debug:\n",
    "                    print('\\n\\nvif is: ', vif)\n",
    "                maxloc = vif.index(max(vif))\n",
    "                if max(vif) > thresh:\n",
    "                    if debug:\n",
    "                        print('dropping \\'' + X.iloc[:, variables].columns[maxloc] + '\\' at index: ' + str(maxloc))\n",
    "                    # del variables[maxloc]\n",
    "                    X.drop(X.columns[variables[maxloc]], 1, inplace=inplace)\n",
    "                    variables = list(range(X.shape[1]))\n",
    "                    dropped = True\n",
    "\n",
    "            if debug:\n",
    "                print('\\n\\nRemaining variables:\\n')\n",
    "                print(X.columns[variables])\n",
    "            # return X.iloc[:,variables]\n",
    "            return X\n",
    "    except Exception as e:\n",
    "        print('Error caught: ', e)"
   ]
  },
  {
   "cell_type": "code",
   "execution_count": 93,
   "metadata": {},
   "outputs": [],
   "source": [
    "def load_and_process_simple(file):\n",
    "    columns = [\n",
    "        'Id', 'Name', 'Tournament Year', 'Tournament Schedule', 'Event Name', 'Course Name', 'Round', \n",
    "        'Hole', 'Driving Accuracy', 'Driving Distance', 'Green in Regulation', 'Scrambling Success',\n",
    "        'Putts Per Hole', 'Putts Per Hole GIR',\n",
    "        'Total SG Putting', 'Avg SG Putting', 'Total SG OTT', 'Avg SG OTT', 'Total SG Approach', \n",
    "        'Avg SG Approach', 'Total SG Around the Green', 'Avg SG Around the Green', 'Par', 'Actual Yard', \n",
    "        'Fwy Firmness', 'Grn Firmness', 'Stimp', 'Fwy Height', 'Grn Height', 'Rough Height', 'Tee Grass', \n",
    "        'Fwy. Grass', 'Rough Grass', 'Actual 250 Distance', 'Actual 275 Distance', 'Actual 300 Distance', \n",
    "        'Actual 325 Distance', 'Actual 350 Distance', 'AM Wind Spd', 'AM Wind Dir', 'PM Wind Spd', \n",
    "        'PM Wind Dir', 'Time Hole Finished', 'Hit Fwy', 'Hit Green', 'Hit Greenside Bunker', 'Tee Shot Landing Loc', \n",
    "        'Score'\n",
    "    ]    \n",
    "    df = pd.read_csv(file, index_col=None, names=columns)\n",
    "    \n",
    "    # drop SG totals, use averages only\n",
    "    df.drop(['Total SG Putting', 'Total SG OTT', 'Total SG Approach', 'Total SG Around the Green'], axis=1, inplace=True)\n",
    "    \n",
    "    # drop wind and time\n",
    "    df.drop(['AM Wind Dir', 'AM Wind Spd', 'PM Wind Dir', 'PM Wind Spd'], axis=1, inplace=True)\n",
    "    df.drop(['Time Hole Finished'], axis=1, inplace=True)\n",
    "    \n",
    "    # drop result columns (include later for potential simulations?)\n",
    "    df.drop(['Hit Fwy', 'Hit Green', 'Hit Greenside Bunker', 'Tee Shot Landing Loc'], axis=1, inplace=True)\n",
    "    \n",
    "    # drop non-features (only for identification)\n",
    "    df.drop(['Id', 'Name', 'Tournament Year', 'Tournament Schedule', 'Event Name', 'Course Name', 'Round', 'Hole'], axis=1, inplace=True)\n",
    "    \n",
    "    # drop categorical firmness and grass\n",
    "    df.drop(['Fwy Firmness', 'Grn Firmness', 'Tee Grass', 'Fwy. Grass', 'Rough Grass'], axis=1, inplace=True)\n",
    "    \n",
    "    # rename columns to remove non-alpha chars\n",
    "    renamed_cols = {}\n",
    "    for x in df.columns:\n",
    "        renamed_cols[x] = x.replace('/','').replace('&','').replace('#','').replace(' ','').replace('.','')\n",
    "        \n",
    "    df.rename(columns=renamed_cols, inplace=True)\n",
    "        \n",
    "    return df"
   ]
  },
  {
   "cell_type": "code",
   "execution_count": 49,
   "metadata": {},
   "outputs": [],
   "source": [
    "def load_and_process(file):\n",
    "    columns = [\n",
    "        'Id', 'Name', 'Tournament Year', 'Tournament Schedule', 'Event Name', 'Course Name', 'Round', \n",
    "        'Hole', 'Driving Accuracy', 'Driving Distance', 'Green in Regulation', 'Scrambling Success',\n",
    "        'Putts Per Hole', 'Putts Per Hole GIR',\n",
    "        'Total SG Putting', 'Avg SG Putting', 'Total SG OTT', 'Avg SG OTT', 'Total SG Approach', \n",
    "        'Avg SG Approach', 'Total SG Around the Green', 'Avg SG Around the Green', 'Par', 'Actual Yard', \n",
    "        'Fwy Firmness', 'Grn Firmness', 'Stimp', 'Fwy Height', 'Grn Height', 'Rough Height', 'Tee Grass', \n",
    "        'Fwy. Grass', 'Rough Grass', 'Actual 250 Distance', 'Actual 275 Distance', 'Actual 300 Distance', \n",
    "        'Actual 325 Distance', 'Actual 350 Distance', 'AM Wind Spd', 'AM Wind Dir', 'PM Wind Spd', \n",
    "        'PM Wind Dir', 'Time Hole Finished', 'Hit Fwy', 'Hit Green', 'Hit Greenside Bunker', 'Tee Shot Landing Loc', \n",
    "        'Score'\n",
    "    ]   \n",
    "    df = pd.read_csv(file, index_col=None, names=columns)\n",
    "    \n",
    "    # convert time to just the hour (24-hour)\n",
    "    df['Time Hole Finished'] = df['Time Hole Finished'].apply(parse_time_to_hour)\n",
    "    \n",
    "    # determine wind speed and direction at time of hole played (am/pm)\n",
    "    # drop old columns\n",
    "    df['Wind Dir'] = np.vectorize(get_wind)(df['Time Hole Finished'], df['AM Wind Dir'], df['PM Wind Dir'])\n",
    "    df['Wind Spd'] = np.vectorize(get_wind)(df['Time Hole Finished'], df['AM Wind Spd'], df['PM Wind Spd'])\n",
    "    df.drop(['AM Wind Dir', 'AM Wind Spd', 'PM Wind Dir', 'PM Wind Spd'], axis=1, inplace=True)\n",
    "    df.drop(['Time Hole Finished'], axis=1, inplace=True)\n",
    "    \n",
    "    # drop result columns (include later for potential simulations?)\n",
    "    df.drop(['Hit Fwy', 'Hit Green', 'Hit Greenside Bunker', 'Tee Shot Landing Loc'], axis=1, inplace=True)\n",
    "    \n",
    "    # drop non-features (only for identification)\n",
    "    df.drop(['Id', 'Name', 'Tournament Year', 'Tournament Schedule', 'Event Name', 'Course Name', 'Hole'], axis=1, inplace=True)\n",
    "    \n",
    "    ## one hot encode firmness and grasses\n",
    "    #df = pd.get_dummies(df, columns=['Fwy Firmness', 'Grn Firmness', 'Tee Grass', 'Fwy. Grass', 'Rough Grass'])\n",
    "    df.drop(['Fwy Firmness', 'Grn Firmness', 'Tee Grass', 'Fwy. Grass', 'Rough Grass'], axis=1, inplace=True)\n",
    "    \n",
    "    ## one hot encode wind dir ({' G', '0', 'C', 'DW', 'IW', 'LR', 'RL', 'SW'})\n",
    "    #df = pd.get_dummies(df, columns=['Wind Dir'])\n",
    "    df.drop(['Wind Dir'], axis=1, inplace=True)\n",
    "    \n",
    "    # drop wind spd for now until method of parsing can be determined\n",
    "    df.drop(['Wind Spd'], axis=1, inplace=True)\n",
    "    \n",
    "    # rename columns to remove non-alpha chars\n",
    "    renamed_cols = {}\n",
    "    for x in df.columns:\n",
    "        renamed_cols[x] = x.replace('/','').replace('&','').replace('#','').replace(' ','').replace('.','')\n",
    "        \n",
    "    df.rename(columns=renamed_cols, inplace=True)\n",
    "    \n",
    "    # run values through a standard scalar?\n",
    "        \n",
    "    return df"
   ]
  },
  {
   "cell_type": "code",
   "execution_count": 50,
   "metadata": {},
   "outputs": [],
   "source": [
    "def split_data(data):\n",
    "    X = data.drop('Score', axis=1, inplace=False)\n",
    "    y = data['Score']\n",
    "    return X, y\n",
    "\n",
    "def normalize_data(X):\n",
    "    cols = X.columns\n",
    "    return pd.DataFrame(MinMaxScaler().fit_transform(X), columns=cols)"
   ]
  },
  {
   "cell_type": "code",
   "execution_count": 94,
   "metadata": {},
   "outputs": [
    {
     "data": {
      "text/html": [
       "<div>\n",
       "<style scoped>\n",
       "    .dataframe tbody tr th:only-of-type {\n",
       "        vertical-align: middle;\n",
       "    }\n",
       "\n",
       "    .dataframe tbody tr th {\n",
       "        vertical-align: top;\n",
       "    }\n",
       "\n",
       "    .dataframe thead th {\n",
       "        text-align: right;\n",
       "    }\n",
       "</style>\n",
       "<table border=\"1\" class=\"dataframe\">\n",
       "  <thead>\n",
       "    <tr style=\"text-align: right;\">\n",
       "      <th></th>\n",
       "      <th>AvgSGPutting</th>\n",
       "      <th>AvgSGOTT</th>\n",
       "      <th>AvgSGApproach</th>\n",
       "      <th>AvgSGAroundtheGreen</th>\n",
       "      <th>Par</th>\n",
       "      <th>ActualYard</th>\n",
       "      <th>Stimp</th>\n",
       "      <th>FwyHeight</th>\n",
       "      <th>GrnHeight</th>\n",
       "      <th>RoughHeight</th>\n",
       "      <th>Actual250Distance</th>\n",
       "      <th>Actual275Distance</th>\n",
       "      <th>Actual300Distance</th>\n",
       "      <th>Actual325Distance</th>\n",
       "      <th>Actual350Distance</th>\n",
       "      <th>Score</th>\n",
       "    </tr>\n",
       "  </thead>\n",
       "  <tbody>\n",
       "    <tr>\n",
       "      <th>0</th>\n",
       "      <td>0.00701</td>\n",
       "      <td>0.00065</td>\n",
       "      <td>0.00359</td>\n",
       "      <td>0.00215</td>\n",
       "      <td>4</td>\n",
       "      <td>444</td>\n",
       "      <td>11.0</td>\n",
       "      <td>0.44</td>\n",
       "      <td>0.1</td>\n",
       "      <td>2.0</td>\n",
       "      <td>26.0</td>\n",
       "      <td>28.0</td>\n",
       "      <td>31.0</td>\n",
       "      <td>33.0</td>\n",
       "      <td>0.0</td>\n",
       "      <td>4.0</td>\n",
       "    </tr>\n",
       "    <tr>\n",
       "      <th>1</th>\n",
       "      <td>0.00701</td>\n",
       "      <td>0.00065</td>\n",
       "      <td>0.00359</td>\n",
       "      <td>0.00215</td>\n",
       "      <td>4</td>\n",
       "      <td>358</td>\n",
       "      <td>11.0</td>\n",
       "      <td>0.44</td>\n",
       "      <td>0.1</td>\n",
       "      <td>2.0</td>\n",
       "      <td>25.0</td>\n",
       "      <td>28.0</td>\n",
       "      <td>30.0</td>\n",
       "      <td>33.0</td>\n",
       "      <td>0.0</td>\n",
       "      <td>3.0</td>\n",
       "    </tr>\n",
       "    <tr>\n",
       "      <th>2</th>\n",
       "      <td>0.00701</td>\n",
       "      <td>0.00065</td>\n",
       "      <td>0.00359</td>\n",
       "      <td>0.00215</td>\n",
       "      <td>4</td>\n",
       "      <td>455</td>\n",
       "      <td>11.0</td>\n",
       "      <td>0.44</td>\n",
       "      <td>0.1</td>\n",
       "      <td>2.0</td>\n",
       "      <td>25.0</td>\n",
       "      <td>28.0</td>\n",
       "      <td>30.0</td>\n",
       "      <td>33.0</td>\n",
       "      <td>35.0</td>\n",
       "      <td>4.0</td>\n",
       "    </tr>\n",
       "    <tr>\n",
       "      <th>3</th>\n",
       "      <td>0.00701</td>\n",
       "      <td>0.00065</td>\n",
       "      <td>0.00359</td>\n",
       "      <td>0.00215</td>\n",
       "      <td>3</td>\n",
       "      <td>160</td>\n",
       "      <td>11.0</td>\n",
       "      <td>0.44</td>\n",
       "      <td>0.1</td>\n",
       "      <td>2.0</td>\n",
       "      <td>0.0</td>\n",
       "      <td>0.0</td>\n",
       "      <td>0.0</td>\n",
       "      <td>0.0</td>\n",
       "      <td>0.0</td>\n",
       "      <td>3.0</td>\n",
       "    </tr>\n",
       "    <tr>\n",
       "      <th>4</th>\n",
       "      <td>0.00701</td>\n",
       "      <td>0.00065</td>\n",
       "      <td>0.00359</td>\n",
       "      <td>0.00215</td>\n",
       "      <td>5</td>\n",
       "      <td>531</td>\n",
       "      <td>11.0</td>\n",
       "      <td>0.44</td>\n",
       "      <td>0.1</td>\n",
       "      <td>2.0</td>\n",
       "      <td>25.0</td>\n",
       "      <td>28.0</td>\n",
       "      <td>30.0</td>\n",
       "      <td>33.0</td>\n",
       "      <td>35.0</td>\n",
       "      <td>5.0</td>\n",
       "    </tr>\n",
       "  </tbody>\n",
       "</table>\n",
       "</div>"
      ],
      "text/plain": [
       "   AvgSGPutting  AvgSGOTT  AvgSGApproach  AvgSGAroundtheGreen  Par  \\\n",
       "0       0.00701   0.00065        0.00359              0.00215    4   \n",
       "1       0.00701   0.00065        0.00359              0.00215    4   \n",
       "2       0.00701   0.00065        0.00359              0.00215    4   \n",
       "3       0.00701   0.00065        0.00359              0.00215    3   \n",
       "4       0.00701   0.00065        0.00359              0.00215    5   \n",
       "\n",
       "   ActualYard  Stimp  FwyHeight  GrnHeight  RoughHeight  Actual250Distance  \\\n",
       "0         444   11.0       0.44        0.1          2.0               26.0   \n",
       "1         358   11.0       0.44        0.1          2.0               25.0   \n",
       "2         455   11.0       0.44        0.1          2.0               25.0   \n",
       "3         160   11.0       0.44        0.1          2.0                0.0   \n",
       "4         531   11.0       0.44        0.1          2.0               25.0   \n",
       "\n",
       "   Actual275Distance  Actual300Distance  Actual325Distance  Actual350Distance  \\\n",
       "0               28.0               31.0               33.0                0.0   \n",
       "1               28.0               30.0               33.0                0.0   \n",
       "2               28.0               30.0               33.0               35.0   \n",
       "3                0.0                0.0                0.0                0.0   \n",
       "4               28.0               30.0               33.0               35.0   \n",
       "\n",
       "   Score  \n",
       "0    4.0  \n",
       "1    3.0  \n",
       "2    4.0  \n",
       "3    3.0  \n",
       "4    5.0  "
      ]
     },
     "execution_count": 94,
     "metadata": {},
     "output_type": "execute_result"
    }
   ],
   "source": [
    "df_train = load_and_process_simple(TRAIN_FILE)\n",
    "df_train.head()"
   ]
  },
  {
   "cell_type": "code",
   "execution_count": 95,
   "metadata": {},
   "outputs": [
    {
     "name": "stdout",
     "output_type": "stream",
     "text": [
      "Total columns BEFORE multicollinearity check: 15\n",
      "Total columns AFTER multicollinearity check: 15\n"
     ]
    }
   ],
   "source": [
    "X_train, y_train = split_data(df_train)\n",
    "old_columns = list(X_train.columns)\n",
    "\n",
    "print('Total columns BEFORE multicollinearity check:', len(X_train.columns))\n",
    "#multicollinearity_check(X_train, debug=False)\n",
    "print('Total columns AFTER multicollinearity check:', len(X_train.columns))\n",
    "\n",
    "new_columns = list(X_train.columns)"
   ]
  },
  {
   "cell_type": "code",
   "execution_count": 96,
   "metadata": {},
   "outputs": [
    {
     "data": {
      "text/html": [
       "<div>\n",
       "<style scoped>\n",
       "    .dataframe tbody tr th:only-of-type {\n",
       "        vertical-align: middle;\n",
       "    }\n",
       "\n",
       "    .dataframe tbody tr th {\n",
       "        vertical-align: top;\n",
       "    }\n",
       "\n",
       "    .dataframe thead th {\n",
       "        text-align: right;\n",
       "    }\n",
       "</style>\n",
       "<table border=\"1\" class=\"dataframe\">\n",
       "  <thead>\n",
       "    <tr style=\"text-align: right;\">\n",
       "      <th></th>\n",
       "      <th>AvgSGPutting</th>\n",
       "      <th>AvgSGOTT</th>\n",
       "      <th>AvgSGApproach</th>\n",
       "      <th>AvgSGAroundtheGreen</th>\n",
       "      <th>Par</th>\n",
       "      <th>ActualYard</th>\n",
       "      <th>Stimp</th>\n",
       "      <th>FwyHeight</th>\n",
       "      <th>GrnHeight</th>\n",
       "      <th>RoughHeight</th>\n",
       "      <th>Actual250Distance</th>\n",
       "      <th>Actual275Distance</th>\n",
       "      <th>Actual300Distance</th>\n",
       "      <th>Actual325Distance</th>\n",
       "      <th>Actual350Distance</th>\n",
       "    </tr>\n",
       "  </thead>\n",
       "  <tbody>\n",
       "    <tr>\n",
       "      <th>0</th>\n",
       "      <td>0.00701</td>\n",
       "      <td>0.00065</td>\n",
       "      <td>0.00359</td>\n",
       "      <td>0.00215</td>\n",
       "      <td>4</td>\n",
       "      <td>444</td>\n",
       "      <td>11.0</td>\n",
       "      <td>0.44</td>\n",
       "      <td>0.1</td>\n",
       "      <td>2.0</td>\n",
       "      <td>26.0</td>\n",
       "      <td>28.0</td>\n",
       "      <td>31.0</td>\n",
       "      <td>33.0</td>\n",
       "      <td>0.0</td>\n",
       "    </tr>\n",
       "    <tr>\n",
       "      <th>1</th>\n",
       "      <td>0.00701</td>\n",
       "      <td>0.00065</td>\n",
       "      <td>0.00359</td>\n",
       "      <td>0.00215</td>\n",
       "      <td>4</td>\n",
       "      <td>358</td>\n",
       "      <td>11.0</td>\n",
       "      <td>0.44</td>\n",
       "      <td>0.1</td>\n",
       "      <td>2.0</td>\n",
       "      <td>25.0</td>\n",
       "      <td>28.0</td>\n",
       "      <td>30.0</td>\n",
       "      <td>33.0</td>\n",
       "      <td>0.0</td>\n",
       "    </tr>\n",
       "    <tr>\n",
       "      <th>2</th>\n",
       "      <td>0.00701</td>\n",
       "      <td>0.00065</td>\n",
       "      <td>0.00359</td>\n",
       "      <td>0.00215</td>\n",
       "      <td>4</td>\n",
       "      <td>455</td>\n",
       "      <td>11.0</td>\n",
       "      <td>0.44</td>\n",
       "      <td>0.1</td>\n",
       "      <td>2.0</td>\n",
       "      <td>25.0</td>\n",
       "      <td>28.0</td>\n",
       "      <td>30.0</td>\n",
       "      <td>33.0</td>\n",
       "      <td>35.0</td>\n",
       "    </tr>\n",
       "    <tr>\n",
       "      <th>3</th>\n",
       "      <td>0.00701</td>\n",
       "      <td>0.00065</td>\n",
       "      <td>0.00359</td>\n",
       "      <td>0.00215</td>\n",
       "      <td>3</td>\n",
       "      <td>160</td>\n",
       "      <td>11.0</td>\n",
       "      <td>0.44</td>\n",
       "      <td>0.1</td>\n",
       "      <td>2.0</td>\n",
       "      <td>0.0</td>\n",
       "      <td>0.0</td>\n",
       "      <td>0.0</td>\n",
       "      <td>0.0</td>\n",
       "      <td>0.0</td>\n",
       "    </tr>\n",
       "    <tr>\n",
       "      <th>4</th>\n",
       "      <td>0.00701</td>\n",
       "      <td>0.00065</td>\n",
       "      <td>0.00359</td>\n",
       "      <td>0.00215</td>\n",
       "      <td>5</td>\n",
       "      <td>531</td>\n",
       "      <td>11.0</td>\n",
       "      <td>0.44</td>\n",
       "      <td>0.1</td>\n",
       "      <td>2.0</td>\n",
       "      <td>25.0</td>\n",
       "      <td>28.0</td>\n",
       "      <td>30.0</td>\n",
       "      <td>33.0</td>\n",
       "      <td>35.0</td>\n",
       "    </tr>\n",
       "  </tbody>\n",
       "</table>\n",
       "</div>"
      ],
      "text/plain": [
       "   AvgSGPutting  AvgSGOTT  AvgSGApproach  AvgSGAroundtheGreen  Par  \\\n",
       "0       0.00701   0.00065        0.00359              0.00215    4   \n",
       "1       0.00701   0.00065        0.00359              0.00215    4   \n",
       "2       0.00701   0.00065        0.00359              0.00215    4   \n",
       "3       0.00701   0.00065        0.00359              0.00215    3   \n",
       "4       0.00701   0.00065        0.00359              0.00215    5   \n",
       "\n",
       "   ActualYard  Stimp  FwyHeight  GrnHeight  RoughHeight  Actual250Distance  \\\n",
       "0         444   11.0       0.44        0.1          2.0               26.0   \n",
       "1         358   11.0       0.44        0.1          2.0               25.0   \n",
       "2         455   11.0       0.44        0.1          2.0               25.0   \n",
       "3         160   11.0       0.44        0.1          2.0                0.0   \n",
       "4         531   11.0       0.44        0.1          2.0               25.0   \n",
       "\n",
       "   Actual275Distance  Actual300Distance  Actual325Distance  Actual350Distance  \n",
       "0               28.0               31.0               33.0                0.0  \n",
       "1               28.0               30.0               33.0                0.0  \n",
       "2               28.0               30.0               33.0               35.0  \n",
       "3                0.0                0.0                0.0                0.0  \n",
       "4               28.0               30.0               33.0               35.0  "
      ]
     },
     "execution_count": 96,
     "metadata": {},
     "output_type": "execute_result"
    }
   ],
   "source": [
    "X_train.head()"
   ]
  },
  {
   "cell_type": "code",
   "execution_count": 97,
   "metadata": {},
   "outputs": [],
   "source": [
    "def load_and_process_filter(file, columns_filter):\n",
    "    df = load_and_process(file)\n",
    "    X, y = split_data(df)\n",
    "    \n",
    "    same_cols = list(set(columns_filter).intersection(set(X.columns)))\n",
    "    diff_cols = list(set(columns_filter).difference(set(X.columns)))\n",
    "    X = X[same_cols]\n",
    "    for col in diff_cols:\n",
    "        X[col] = 0\n",
    "    return X, y"
   ]
  },
  {
   "cell_type": "code",
   "execution_count": 98,
   "metadata": {},
   "outputs": [
    {
     "data": {
      "text/html": [
       "<div>\n",
       "<style scoped>\n",
       "    .dataframe tbody tr th:only-of-type {\n",
       "        vertical-align: middle;\n",
       "    }\n",
       "\n",
       "    .dataframe tbody tr th {\n",
       "        vertical-align: top;\n",
       "    }\n",
       "\n",
       "    .dataframe thead th {\n",
       "        text-align: right;\n",
       "    }\n",
       "</style>\n",
       "<table border=\"1\" class=\"dataframe\">\n",
       "  <thead>\n",
       "    <tr style=\"text-align: right;\">\n",
       "      <th></th>\n",
       "      <th>AvgSGPutting</th>\n",
       "      <th>AvgSGOTT</th>\n",
       "      <th>AvgSGApproach</th>\n",
       "      <th>AvgSGAroundtheGreen</th>\n",
       "      <th>Par</th>\n",
       "      <th>ActualYard</th>\n",
       "      <th>Stimp</th>\n",
       "      <th>FwyHeight</th>\n",
       "      <th>GrnHeight</th>\n",
       "      <th>RoughHeight</th>\n",
       "      <th>Actual250Distance</th>\n",
       "      <th>Actual275Distance</th>\n",
       "      <th>Actual300Distance</th>\n",
       "      <th>Actual325Distance</th>\n",
       "      <th>Actual350Distance</th>\n",
       "    </tr>\n",
       "  </thead>\n",
       "  <tbody>\n",
       "    <tr>\n",
       "      <th>0</th>\n",
       "      <td>0.00203</td>\n",
       "      <td>-0.00812</td>\n",
       "      <td>0.01908</td>\n",
       "      <td>-0.00044</td>\n",
       "      <td>4</td>\n",
       "      <td>439</td>\n",
       "      <td>11.6</td>\n",
       "      <td>0.44</td>\n",
       "      <td>0.11</td>\n",
       "      <td>2.5</td>\n",
       "      <td>25.0</td>\n",
       "      <td>28.0</td>\n",
       "      <td>30.0</td>\n",
       "      <td>33.0</td>\n",
       "      <td>35.0</td>\n",
       "    </tr>\n",
       "    <tr>\n",
       "      <th>1</th>\n",
       "      <td>0.00203</td>\n",
       "      <td>-0.00812</td>\n",
       "      <td>0.01908</td>\n",
       "      <td>-0.00044</td>\n",
       "      <td>3</td>\n",
       "      <td>200</td>\n",
       "      <td>11.6</td>\n",
       "      <td>0.44</td>\n",
       "      <td>0.11</td>\n",
       "      <td>2.5</td>\n",
       "      <td>0.0</td>\n",
       "      <td>0.0</td>\n",
       "      <td>0.0</td>\n",
       "      <td>0.0</td>\n",
       "      <td>0.0</td>\n",
       "    </tr>\n",
       "    <tr>\n",
       "      <th>2</th>\n",
       "      <td>0.00203</td>\n",
       "      <td>-0.00812</td>\n",
       "      <td>0.01908</td>\n",
       "      <td>-0.00044</td>\n",
       "      <td>4</td>\n",
       "      <td>432</td>\n",
       "      <td>11.6</td>\n",
       "      <td>0.44</td>\n",
       "      <td>0.11</td>\n",
       "      <td>2.5</td>\n",
       "      <td>25.0</td>\n",
       "      <td>27.0</td>\n",
       "      <td>30.0</td>\n",
       "      <td>32.0</td>\n",
       "      <td>35.0</td>\n",
       "    </tr>\n",
       "    <tr>\n",
       "      <th>3</th>\n",
       "      <td>0.00203</td>\n",
       "      <td>-0.00812</td>\n",
       "      <td>0.01908</td>\n",
       "      <td>-0.00044</td>\n",
       "      <td>4</td>\n",
       "      <td>407</td>\n",
       "      <td>11.6</td>\n",
       "      <td>0.44</td>\n",
       "      <td>0.11</td>\n",
       "      <td>2.5</td>\n",
       "      <td>25.0</td>\n",
       "      <td>27.0</td>\n",
       "      <td>30.0</td>\n",
       "      <td>32.0</td>\n",
       "      <td>35.0</td>\n",
       "    </tr>\n",
       "    <tr>\n",
       "      <th>4</th>\n",
       "      <td>0.00203</td>\n",
       "      <td>-0.00812</td>\n",
       "      <td>0.01908</td>\n",
       "      <td>-0.00044</td>\n",
       "      <td>5</td>\n",
       "      <td>535</td>\n",
       "      <td>11.6</td>\n",
       "      <td>0.44</td>\n",
       "      <td>0.11</td>\n",
       "      <td>2.5</td>\n",
       "      <td>25.0</td>\n",
       "      <td>27.0</td>\n",
       "      <td>30.0</td>\n",
       "      <td>32.0</td>\n",
       "      <td>35.0</td>\n",
       "    </tr>\n",
       "  </tbody>\n",
       "</table>\n",
       "</div>"
      ],
      "text/plain": [
       "   AvgSGPutting  AvgSGOTT  AvgSGApproach  AvgSGAroundtheGreen  Par  \\\n",
       "0       0.00203  -0.00812        0.01908             -0.00044    4   \n",
       "1       0.00203  -0.00812        0.01908             -0.00044    3   \n",
       "2       0.00203  -0.00812        0.01908             -0.00044    4   \n",
       "3       0.00203  -0.00812        0.01908             -0.00044    4   \n",
       "4       0.00203  -0.00812        0.01908             -0.00044    5   \n",
       "\n",
       "   ActualYard  Stimp  FwyHeight  GrnHeight  RoughHeight  Actual250Distance  \\\n",
       "0         439   11.6       0.44       0.11          2.5               25.0   \n",
       "1         200   11.6       0.44       0.11          2.5                0.0   \n",
       "2         432   11.6       0.44       0.11          2.5               25.0   \n",
       "3         407   11.6       0.44       0.11          2.5               25.0   \n",
       "4         535   11.6       0.44       0.11          2.5               25.0   \n",
       "\n",
       "   Actual275Distance  Actual300Distance  Actual325Distance  Actual350Distance  \n",
       "0               28.0               30.0               33.0               35.0  \n",
       "1                0.0                0.0                0.0                0.0  \n",
       "2               27.0               30.0               32.0               35.0  \n",
       "3               27.0               30.0               32.0               35.0  \n",
       "4               27.0               30.0               32.0               35.0  "
      ]
     },
     "execution_count": 98,
     "metadata": {},
     "output_type": "execute_result"
    }
   ],
   "source": [
    "#X_val, y_val = load_and_process_filter(VAL_FILE, new_columns)\n",
    "df_val = load_and_process_simple(VAL_FILE)\n",
    "X_val, y_val = split_data(df_val)\n",
    "X_val.head()"
   ]
  },
  {
   "cell_type": "code",
   "execution_count": 99,
   "metadata": {},
   "outputs": [
    {
     "data": {
      "text/html": [
       "<div>\n",
       "<style scoped>\n",
       "    .dataframe tbody tr th:only-of-type {\n",
       "        vertical-align: middle;\n",
       "    }\n",
       "\n",
       "    .dataframe tbody tr th {\n",
       "        vertical-align: top;\n",
       "    }\n",
       "\n",
       "    .dataframe thead th {\n",
       "        text-align: right;\n",
       "    }\n",
       "</style>\n",
       "<table border=\"1\" class=\"dataframe\">\n",
       "  <thead>\n",
       "    <tr style=\"text-align: right;\">\n",
       "      <th></th>\n",
       "      <th>AvgSGPutting</th>\n",
       "      <th>AvgSGOTT</th>\n",
       "      <th>AvgSGApproach</th>\n",
       "      <th>AvgSGAroundtheGreen</th>\n",
       "      <th>Par</th>\n",
       "      <th>ActualYard</th>\n",
       "      <th>Stimp</th>\n",
       "      <th>FwyHeight</th>\n",
       "      <th>GrnHeight</th>\n",
       "      <th>RoughHeight</th>\n",
       "      <th>Actual250Distance</th>\n",
       "      <th>Actual275Distance</th>\n",
       "      <th>Actual300Distance</th>\n",
       "      <th>Actual325Distance</th>\n",
       "      <th>Actual350Distance</th>\n",
       "    </tr>\n",
       "  </thead>\n",
       "  <tbody>\n",
       "    <tr>\n",
       "      <th>0</th>\n",
       "      <td>0.00338</td>\n",
       "      <td>0.01169</td>\n",
       "      <td>0.00049</td>\n",
       "      <td>-0.00363</td>\n",
       "      <td>4</td>\n",
       "      <td>430</td>\n",
       "      <td>11.75</td>\n",
       "      <td>0.44</td>\n",
       "      <td>0.11</td>\n",
       "      <td>2.5</td>\n",
       "      <td>25.0</td>\n",
       "      <td>27.0</td>\n",
       "      <td>30.0</td>\n",
       "      <td>32.0</td>\n",
       "      <td>35.0</td>\n",
       "    </tr>\n",
       "    <tr>\n",
       "      <th>1</th>\n",
       "      <td>0.00338</td>\n",
       "      <td>0.01169</td>\n",
       "      <td>0.00049</td>\n",
       "      <td>-0.00363</td>\n",
       "      <td>3</td>\n",
       "      <td>203</td>\n",
       "      <td>11.75</td>\n",
       "      <td>0.44</td>\n",
       "      <td>0.11</td>\n",
       "      <td>2.5</td>\n",
       "      <td>0.0</td>\n",
       "      <td>0.0</td>\n",
       "      <td>0.0</td>\n",
       "      <td>0.0</td>\n",
       "      <td>0.0</td>\n",
       "    </tr>\n",
       "    <tr>\n",
       "      <th>2</th>\n",
       "      <td>0.00338</td>\n",
       "      <td>0.01169</td>\n",
       "      <td>0.00049</td>\n",
       "      <td>-0.00363</td>\n",
       "      <td>4</td>\n",
       "      <td>433</td>\n",
       "      <td>11.75</td>\n",
       "      <td>0.44</td>\n",
       "      <td>0.11</td>\n",
       "      <td>2.5</td>\n",
       "      <td>25.0</td>\n",
       "      <td>27.0</td>\n",
       "      <td>30.0</td>\n",
       "      <td>32.0</td>\n",
       "      <td>35.0</td>\n",
       "    </tr>\n",
       "    <tr>\n",
       "      <th>3</th>\n",
       "      <td>0.00338</td>\n",
       "      <td>0.01169</td>\n",
       "      <td>0.00049</td>\n",
       "      <td>-0.00363</td>\n",
       "      <td>4</td>\n",
       "      <td>407</td>\n",
       "      <td>11.75</td>\n",
       "      <td>0.44</td>\n",
       "      <td>0.11</td>\n",
       "      <td>2.5</td>\n",
       "      <td>25.0</td>\n",
       "      <td>27.0</td>\n",
       "      <td>30.0</td>\n",
       "      <td>32.0</td>\n",
       "      <td>35.0</td>\n",
       "    </tr>\n",
       "    <tr>\n",
       "      <th>4</th>\n",
       "      <td>0.00338</td>\n",
       "      <td>0.01169</td>\n",
       "      <td>0.00049</td>\n",
       "      <td>-0.00363</td>\n",
       "      <td>5</td>\n",
       "      <td>525</td>\n",
       "      <td>11.75</td>\n",
       "      <td>0.44</td>\n",
       "      <td>0.11</td>\n",
       "      <td>2.5</td>\n",
       "      <td>25.0</td>\n",
       "      <td>27.0</td>\n",
       "      <td>30.0</td>\n",
       "      <td>32.0</td>\n",
       "      <td>35.0</td>\n",
       "    </tr>\n",
       "  </tbody>\n",
       "</table>\n",
       "</div>"
      ],
      "text/plain": [
       "   AvgSGPutting  AvgSGOTT  AvgSGApproach  AvgSGAroundtheGreen  Par  \\\n",
       "0       0.00338   0.01169        0.00049             -0.00363    4   \n",
       "1       0.00338   0.01169        0.00049             -0.00363    3   \n",
       "2       0.00338   0.01169        0.00049             -0.00363    4   \n",
       "3       0.00338   0.01169        0.00049             -0.00363    4   \n",
       "4       0.00338   0.01169        0.00049             -0.00363    5   \n",
       "\n",
       "   ActualYard  Stimp  FwyHeight  GrnHeight  RoughHeight  Actual250Distance  \\\n",
       "0         430  11.75       0.44       0.11          2.5               25.0   \n",
       "1         203  11.75       0.44       0.11          2.5                0.0   \n",
       "2         433  11.75       0.44       0.11          2.5               25.0   \n",
       "3         407  11.75       0.44       0.11          2.5               25.0   \n",
       "4         525  11.75       0.44       0.11          2.5               25.0   \n",
       "\n",
       "   Actual275Distance  Actual300Distance  Actual325Distance  Actual350Distance  \n",
       "0               27.0               30.0               32.0               35.0  \n",
       "1                0.0                0.0                0.0                0.0  \n",
       "2               27.0               30.0               32.0               35.0  \n",
       "3               27.0               30.0               32.0               35.0  \n",
       "4               27.0               30.0               32.0               35.0  "
      ]
     },
     "execution_count": 99,
     "metadata": {},
     "output_type": "execute_result"
    }
   ],
   "source": [
    "#X_test, y_test = load_and_process_filter(TEST_FILE, new_columns)\n",
    "df_test = load_and_process_simple(TEST_FILE)\n",
    "X_test, y_test = split_data(df_test)\n",
    "X_test.head()"
   ]
  },
  {
   "cell_type": "code",
   "execution_count": 100,
   "metadata": {},
   "outputs": [
    {
     "name": "stdout",
     "output_type": "stream",
     "text": [
      "Training X Shape (12244, 15)\n",
      "Training y Shape (12244,)\n",
      "Validation X Shape (13137, 15)\n",
      "Validation y Shape (13137,)\n",
      "Test X Shape (13184, 15)\n",
      "Test y Shape (13184,)\n"
     ]
    }
   ],
   "source": [
    "print('Training X Shape', X_train.shape)\n",
    "print('Training y Shape', y_train.shape)\n",
    "print('Validation X Shape', X_val.shape)\n",
    "print('Validation y Shape', y_val.shape)\n",
    "print('Test X Shape', X_test.shape)\n",
    "print('Test y Shape', y_test.shape)"
   ]
  },
  {
   "cell_type": "code",
   "execution_count": 173,
   "metadata": {},
   "outputs": [],
   "source": [
    "THRESHOLD = 2\n",
    "\n",
    "def scoring(model, X, y):\n",
    "    return score(y, model.predict(X))\n",
    "\n",
    "def score(y, y_hat):\n",
    "    return np.mean((y_hat > THRESHOLD) == (y > 2))\n",
    "\n",
    "def run_cross_val(model, X, y, s=scoring):\n",
    "    return cross_val_score(model, X, y, scoring=s)"
   ]
  },
  {
   "cell_type": "code",
   "execution_count": 175,
   "metadata": {},
   "outputs": [
    {
     "data": {
      "text/plain": [
       "array([0.96692798, 0.96593972, 0.97010537])"
      ]
     },
     "execution_count": 175,
     "metadata": {},
     "output_type": "execute_result"
    }
   ],
   "source": [
    "run_cross_val(rf_reg, X_train, y_train, s=scoring)"
   ]
  },
  {
   "cell_type": "code",
   "execution_count": 91,
   "metadata": {},
   "outputs": [
    {
     "data": {
      "text/plain": [
       "array([0.95524092, 0.95798127, 0.96323361])"
      ]
     },
     "execution_count": 91,
     "metadata": {},
     "output_type": "execute_result"
    }
   ],
   "source": [
    "run_cross_val(rf_reg, X_val, y_val, s=scoring)"
   ]
  },
  {
   "cell_type": "code",
   "execution_count": 2,
   "metadata": {},
   "outputs": [
    {
     "ename": "NameError",
     "evalue": "name 'X_train' is not defined",
     "output_type": "error",
     "traceback": [
      "\u001b[1;31m---------------------------------------------------------------------------\u001b[0m",
      "\u001b[1;31mNameError\u001b[0m                                 Traceback (most recent call last)",
      "\u001b[1;32m<ipython-input-2-b73d90b2dde7>\u001b[0m in \u001b[0;36m<module>\u001b[1;34m()\u001b[0m\n\u001b[1;32m----> 1\u001b[1;33m \u001b[0mcol_list\u001b[0m \u001b[1;33m=\u001b[0m \u001b[0mlist\u001b[0m\u001b[1;33m(\u001b[0m\u001b[0mX_train\u001b[0m\u001b[1;33m.\u001b[0m\u001b[0mcolumns\u001b[0m\u001b[1;33m)\u001b[0m\u001b[1;33m\u001b[0m\u001b[0m\n\u001b[0m\u001b[0;32m      2\u001b[0m \u001b[0mpoisson_formula\u001b[0m \u001b[1;33m=\u001b[0m \u001b[1;34m' + '\u001b[0m\u001b[1;33m.\u001b[0m\u001b[0mjoin\u001b[0m\u001b[1;33m(\u001b[0m\u001b[0mcol_list\u001b[0m\u001b[1;33m)\u001b[0m\u001b[1;33m\u001b[0m\u001b[0m\n\u001b[0;32m      3\u001b[0m \u001b[1;33m\u001b[0m\u001b[0m\n\u001b[0;32m      4\u001b[0m \u001b[0mpoisson_model\u001b[0m \u001b[1;33m=\u001b[0m \u001b[0msmf\u001b[0m\u001b[1;33m.\u001b[0m\u001b[0mglm\u001b[0m\u001b[1;33m(\u001b[0m\u001b[0mformula\u001b[0m\u001b[1;33m=\u001b[0m\u001b[1;34m\"Score ~ \"\u001b[0m \u001b[1;33m+\u001b[0m \u001b[0mpoisson_formula\u001b[0m\u001b[1;33m,\u001b[0m \u001b[0mdata\u001b[0m\u001b[1;33m=\u001b[0m\u001b[0mdf_train\u001b[0m\u001b[1;33m,\u001b[0m \u001b[0mfamily\u001b[0m\u001b[1;33m=\u001b[0m\u001b[0msm\u001b[0m\u001b[1;33m.\u001b[0m\u001b[0mfamilies\u001b[0m\u001b[1;33m.\u001b[0m\u001b[0mPoisson\u001b[0m\u001b[1;33m(\u001b[0m\u001b[1;33m)\u001b[0m\u001b[1;33m)\u001b[0m\u001b[1;33m.\u001b[0m\u001b[0mfit\u001b[0m\u001b[1;33m(\u001b[0m\u001b[1;33m)\u001b[0m\u001b[1;33m\u001b[0m\u001b[0m\n\u001b[0;32m      5\u001b[0m \u001b[0mpoisson_model\u001b[0m\u001b[1;33m.\u001b[0m\u001b[0msummary\u001b[0m\u001b[1;33m(\u001b[0m\u001b[1;33m)\u001b[0m\u001b[1;33m\u001b[0m\u001b[0m\n",
      "\u001b[1;31mNameError\u001b[0m: name 'X_train' is not defined"
     ]
    }
   ],
   "source": [
    "col_list = list(X_train.columns)\n",
    "poisson_formula = ' + '.join(col_list)\n",
    "\n",
    "poisson_model = smf.glm(formula=\"Score ~ \" + poisson_formula, data=df_train, family=sm.families.Poisson()).fit()\n",
    "poisson_model.summary()"
   ]
  },
  {
   "cell_type": "code",
   "execution_count": 1,
   "metadata": {},
   "outputs": [
    {
     "ename": "NameError",
     "evalue": "name 'poisson_model' is not defined",
     "output_type": "error",
     "traceback": [
      "\u001b[1;31m---------------------------------------------------------------------------\u001b[0m",
      "\u001b[1;31mNameError\u001b[0m                                 Traceback (most recent call last)",
      "\u001b[1;32m<ipython-input-1-96c96171cce6>\u001b[0m in \u001b[0;36m<module>\u001b[1;34m()\u001b[0m\n\u001b[1;32m----> 1\u001b[1;33m \u001b[0mpoisson_model\u001b[0m\u001b[1;33m.\u001b[0m\u001b[0mpredict\u001b[0m\u001b[1;33m(\u001b[0m\u001b[0mX_train\u001b[0m\u001b[1;33m)\u001b[0m\u001b[1;33m\u001b[0m\u001b[0m\n\u001b[0m",
      "\u001b[1;31mNameError\u001b[0m: name 'poisson_model' is not defined"
     ]
    }
   ],
   "source": [
    "poisson_model.predict(X_train)"
   ]
  },
  {
   "cell_type": "code",
   "execution_count": 112,
   "metadata": {},
   "outputs": [
    {
     "name": "stdout",
     "output_type": "stream",
     "text": [
      "Index(['AvgSGPutting', 'AvgSGOTT', 'AvgSGApproach', 'AvgSGAroundtheGreen',\n",
      "       'Par', 'ActualYard', 'Stimp', 'FwyHeight', 'GrnHeight', 'RoughHeight',\n",
      "       'Actual250Distance', 'Actual275Distance', 'Actual300Distance',\n",
      "       'Actual325Distance', 'Actual350Distance'],\n",
      "      dtype='object')\n"
     ]
    }
   ],
   "source": [
    "print(X_train.columns)"
   ]
  },
  {
   "cell_type": "code",
   "execution_count": 116,
   "metadata": {},
   "outputs": [
    {
     "data": {
      "text/plain": [
       "1    4.783581\n",
       "dtype: float64"
      ]
     },
     "execution_count": 116,
     "metadata": {},
     "output_type": "execute_result"
    }
   ],
   "source": [
    "# predict Phil 2018 at firestone round 1, hole 16 (tournament 450)\n",
    "\n",
    "test_data = pd.DataFrame(data={\n",
    "    'DrivingAccuracy': 0,\n",
    "    'DrivingDistance': 0,\n",
    "    'GreenInRegulation': 0,\n",
    "    'ScramblingSuccess': 0,\n",
    "    'PuttsPerHole': 0,\n",
    "    'PuttsPerHoleGIR': 0,\n",
    "    'AvgSGPutting': 0.01209, \n",
    "    'AvgSGOTT': 0.00163, \n",
    "    'AvgSGApproach': 0.00439, \n",
    "    'AvgSGAroundtheGreen': -0.00642,\n",
    "    'Par': 5, \n",
    "    'ActualYard': 652, \n",
    "    'Stimp': 12.5, \n",
    "    'FwyHeight': 0.300000012, \n",
    "    'GrnHeight': 0.100000001, \n",
    "    'RoughHeight': 3,\n",
    "    'Actual250Distance': 31, \n",
    "    'Actual275Distance': 33, \n",
    "    'Actual300Distance': 36,\n",
    "    'Actual325Distance': 38, \n",
    "    'Actual350Distance': 41\n",
    "}, index=[1])\n",
    "\n",
    "poisson_model.predict(test_data)"
   ]
  },
  {
   "cell_type": "code",
   "execution_count": 124,
   "metadata": {},
   "outputs": [],
   "source": [
    "def poisson_probabilities(model, df, max_score=9):\n",
    "    hole_avg = model.predict(df).values[0]\n",
    "    #hole_pred = [[poisson.pmf(i, h_avg) for i in range(0, max_score+1)] for h_avg in [hole_avg]]\n",
    "    hole_pred = [poisson.pmf(i, hole_avg) for i in range(0, max_score+1)]\n",
    "    return hole_pred"
   ]
  },
  {
   "cell_type": "code",
   "execution_count": 125,
   "metadata": {},
   "outputs": [
    {
     "data": {
      "text/plain": [
       "[0.008365986832551577,\n",
       " 0.04001937549018214,\n",
       " 0.09571796171090359,\n",
       " 0.1526248736912895,\n",
       " 0.18252336071184228,\n",
       " 0.17462305533725922,\n",
       " 0.13922058769352272,\n",
       " 0.09513899361421158,\n",
       " 0.056888135037321395,\n",
       " 0.03023655563842188]"
      ]
     },
     "execution_count": 125,
     "metadata": {},
     "output_type": "execute_result"
    }
   ],
   "source": [
    "poisson_probabilities(poisson_model, test_data)"
   ]
  },
  {
   "cell_type": "code",
   "execution_count": 127,
   "metadata": {},
   "outputs": [],
   "source": [
    "pickle.dump(poisson_model, open('./models/hole-prediction-poisson.pkl', 'wb'))"
   ]
  },
  {
   "cell_type": "code",
   "execution_count": 128,
   "metadata": {},
   "outputs": [
    {
     "data": {
      "text/plain": [
       "array([4.8])"
      ]
     },
     "execution_count": 128,
     "metadata": {},
     "output_type": "execute_result"
    }
   ],
   "source": [
    "rf_reg.predict(test_data)"
   ]
  },
  {
   "cell_type": "code",
   "execution_count": 176,
   "metadata": {},
   "outputs": [
    {
     "data": {
      "text/plain": [
       "0.5827814569536424"
      ]
     },
     "execution_count": 176,
     "metadata": {},
     "output_type": "execute_result"
    }
   ],
   "source": [
    "rf_clf = RandomForestClassifier()\n",
    "rf_clf.fit(X_train, y_train)\n",
    "y_pred_clf = rf_clf.predict(X_val)\n",
    "rf_clf.score(X_val, y_val)"
   ]
  },
  {
   "cell_type": "code",
   "execution_count": 171,
   "metadata": {},
   "outputs": [],
   "source": [
    "pickle.dump(rf_clf, open('./models/hole-prediction-rf-clf.pkl', 'wb'))"
   ]
  },
  {
   "cell_type": "code",
   "execution_count": 177,
   "metadata": {},
   "outputs": [
    {
     "name": "stdout",
     "output_type": "stream",
     "text": [
      "[4. 3. 4. 4. 5.]\n"
     ]
    }
   ],
   "source": [
    "print(y_pred_clf[:5])"
   ]
  },
  {
   "cell_type": "code",
   "execution_count": 178,
   "metadata": {},
   "outputs": [
    {
     "name": "stdout",
     "output_type": "stream",
     "text": [
      "0    5.0\n",
      "1    4.0\n",
      "2    3.0\n",
      "3    3.0\n",
      "4    4.0\n",
      "Name: Score, dtype: float64\n"
     ]
    }
   ],
   "source": [
    "print(np.round(y_val[0:5],0))"
   ]
  },
  {
   "cell_type": "code",
   "execution_count": 138,
   "metadata": {},
   "outputs": [
    {
     "name": "stdout",
     "output_type": "stream",
     "text": [
      "Mean score: 3.8657988886351524\n",
      "Mean predicted: 3.7749866788460076\n"
     ]
    }
   ],
   "source": [
    "print('Mean score:', y_val.mean())\n",
    "print('Mean predicted:', y_pred_clf.mean())"
   ]
  },
  {
   "cell_type": "code",
   "execution_count": 160,
   "metadata": {},
   "outputs": [
    {
     "data": {
      "text/plain": [
       "DecisionTreeClassifier(class_weight=None, criterion='gini', max_depth=None,\n",
       "            max_features=5, max_leaf_nodes=None, min_impurity_decrease=0.0,\n",
       "            min_impurity_split=None, min_samples_leaf=1,\n",
       "            min_samples_split=2, min_weight_fraction_leaf=0.0,\n",
       "            presort=False, random_state=1934392477, splitter='best')"
      ]
     },
     "execution_count": 160,
     "metadata": {},
     "output_type": "execute_result"
    }
   ],
   "source": [
    "rf_clf.estimators_[0]"
   ]
  },
  {
   "cell_type": "code",
   "execution_count": 157,
   "metadata": {},
   "outputs": [
    {
     "data": {
      "text/html": [
       "<div>\n",
       "<style scoped>\n",
       "    .dataframe tbody tr th:only-of-type {\n",
       "        vertical-align: middle;\n",
       "    }\n",
       "\n",
       "    .dataframe tbody tr th {\n",
       "        vertical-align: top;\n",
       "    }\n",
       "\n",
       "    .dataframe thead th {\n",
       "        text-align: right;\n",
       "    }\n",
       "</style>\n",
       "<table border=\"1\" class=\"dataframe\">\n",
       "  <thead>\n",
       "    <tr style=\"text-align: right;\">\n",
       "      <th></th>\n",
       "      <th>importance</th>\n",
       "    </tr>\n",
       "  </thead>\n",
       "  <tbody>\n",
       "    <tr>\n",
       "      <th>ActualYard</th>\n",
       "      <td>0.406839</td>\n",
       "    </tr>\n",
       "    <tr>\n",
       "      <th>Par</th>\n",
       "      <td>0.103282</td>\n",
       "    </tr>\n",
       "    <tr>\n",
       "      <th>AvgSGApproach</th>\n",
       "      <td>0.058297</td>\n",
       "    </tr>\n",
       "    <tr>\n",
       "      <th>AvgSGPutting</th>\n",
       "      <td>0.057032</td>\n",
       "    </tr>\n",
       "    <tr>\n",
       "      <th>AvgSGAroundtheGreen</th>\n",
       "      <td>0.056831</td>\n",
       "    </tr>\n",
       "    <tr>\n",
       "      <th>AvgSGOTT</th>\n",
       "      <td>0.056703</td>\n",
       "    </tr>\n",
       "    <tr>\n",
       "      <th>Actual250Distance</th>\n",
       "      <td>0.052579</td>\n",
       "    </tr>\n",
       "    <tr>\n",
       "      <th>Actual275Distance</th>\n",
       "      <td>0.043762</td>\n",
       "    </tr>\n",
       "    <tr>\n",
       "      <th>Actual325Distance</th>\n",
       "      <td>0.033318</td>\n",
       "    </tr>\n",
       "    <tr>\n",
       "      <th>Actual350Distance</th>\n",
       "      <td>0.030900</td>\n",
       "    </tr>\n",
       "    <tr>\n",
       "      <th>RoughHeight</th>\n",
       "      <td>0.024372</td>\n",
       "    </tr>\n",
       "    <tr>\n",
       "      <th>Actual300Distance</th>\n",
       "      <td>0.022048</td>\n",
       "    </tr>\n",
       "    <tr>\n",
       "      <th>FwyHeight</th>\n",
       "      <td>0.020470</td>\n",
       "    </tr>\n",
       "    <tr>\n",
       "      <th>Stimp</th>\n",
       "      <td>0.019831</td>\n",
       "    </tr>\n",
       "    <tr>\n",
       "      <th>GrnHeight</th>\n",
       "      <td>0.013735</td>\n",
       "    </tr>\n",
       "  </tbody>\n",
       "</table>\n",
       "</div>"
      ],
      "text/plain": [
       "                     importance\n",
       "ActualYard             0.406839\n",
       "Par                    0.103282\n",
       "AvgSGApproach          0.058297\n",
       "AvgSGPutting           0.057032\n",
       "AvgSGAroundtheGreen    0.056831\n",
       "AvgSGOTT               0.056703\n",
       "Actual250Distance      0.052579\n",
       "Actual275Distance      0.043762\n",
       "Actual325Distance      0.033318\n",
       "Actual350Distance      0.030900\n",
       "RoughHeight            0.024372\n",
       "Actual300Distance      0.022048\n",
       "FwyHeight              0.020470\n",
       "Stimp                  0.019831\n",
       "GrnHeight              0.013735"
      ]
     },
     "execution_count": 157,
     "metadata": {},
     "output_type": "execute_result"
    }
   ],
   "source": [
    "feature_importances = pd.DataFrame(rf_clf.feature_importances_,\n",
    "                                   index = X_train.columns,\n",
    "                                   columns=['importance']).sort_values('importance', ascending=False)\n",
    "feature_importances.loc[feature_importances['importance'] >= 0.01]"
   ]
  },
  {
   "cell_type": "code",
   "execution_count": 141,
   "metadata": {},
   "outputs": [
    {
     "data": {
      "text/plain": [
       "array([0.9630355 , 0.95270767, 0.96027464])"
      ]
     },
     "execution_count": 141,
     "metadata": {},
     "output_type": "execute_result"
    }
   ],
   "source": [
    "cross_val_score(rf_clf, X_train, y_train, scoring=scoring)"
   ]
  },
  {
   "cell_type": "code",
   "execution_count": 142,
   "metadata": {},
   "outputs": [
    {
     "data": {
      "text/plain": [
       "array([0.95667047, 0.93899931, 0.95794286])"
      ]
     },
     "execution_count": 142,
     "metadata": {},
     "output_type": "execute_result"
    }
   ],
   "source": [
    "cross_val_score(rf_clf, X_val, y_val, scoring=scoring)"
   ]
  },
  {
   "cell_type": "code",
   "execution_count": 146,
   "metadata": {},
   "outputs": [],
   "source": [
    "# random vs grid search tests:  https://scikit-learn.org/stable/auto_examples/model_selection/plot_randomized_search.html\n",
    "\n",
    "from scipy.stats import randint as sp_randint\n",
    "from time import time\n",
    "from sklearn.model_selection import GridSearchCV\n",
    "from sklearn.model_selection import RandomizedSearchCV"
   ]
  },
  {
   "cell_type": "code",
   "execution_count": 147,
   "metadata": {},
   "outputs": [],
   "source": [
    "def report(results, n_top=3):\n",
    "    for i in range(1, n_top + 1):\n",
    "        candidates = np.flatnonzero(results['rank_test_score'] == i)\n",
    "        for candidate in candidates:\n",
    "            print(\"Model with rank: {0}\".format(i))\n",
    "            print(\"Mean validation score: {0:.3f} (std: {1:.3f})\".format(\n",
    "                  results['mean_test_score'][candidate],\n",
    "                  results['std_test_score'][candidate]))\n",
    "            print(\"Parameters: {0}\".format(results['params'][candidate]))\n",
    "            print(\"\")"
   ]
  },
  {
   "cell_type": "code",
   "execution_count": 149,
   "metadata": {},
   "outputs": [
    {
     "name": "stdout",
     "output_type": "stream",
     "text": [
      "RandomizedSearchCV took 16.12 seconds for 20 candidates parameter settings.\n",
      "Model with rank: 1\n",
      "Mean validation score: 0.634 (std: 0.010)\n",
      "Parameters: {'bootstrap': True, 'criterion': 'entropy', 'max_depth': 3, 'max_features': 9, 'min_samples_split': 4}\n",
      "\n",
      "Model with rank: 2\n",
      "Mean validation score: 0.634 (std: 0.010)\n",
      "Parameters: {'bootstrap': True, 'criterion': 'entropy', 'max_depth': 3, 'max_features': 9, 'min_samples_split': 10}\n",
      "\n",
      "Model with rank: 3\n",
      "Mean validation score: 0.633 (std: 0.012)\n",
      "Parameters: {'bootstrap': True, 'criterion': 'gini', 'max_depth': 3, 'max_features': 7, 'min_samples_split': 8}\n",
      "\n"
     ]
    }
   ],
   "source": [
    "clf = RandomForestClassifier(n_estimators=20, n_jobs=-1)\n",
    "param_dist = {\"max_depth\": [3, None],\n",
    "              \"max_features\": sp_randint(1, 11),\n",
    "              \"min_samples_split\": sp_randint(2, 11),\n",
    "              \"bootstrap\": [True, False],\n",
    "              \"criterion\": [\"gini\", \"entropy\"]}\n",
    "n_iter_search = 20\n",
    "random_search = RandomizedSearchCV(clf, param_distributions=param_dist, n_iter=n_iter_search, cv=5)\n",
    "\n",
    "start = time()\n",
    "random_search.fit(X_train, y_train)\n",
    "print(\"RandomizedSearchCV took %.2f seconds for %d candidates\"\n",
    "      \" parameter settings.\" % ((time() - start), n_iter_search))\n",
    "report(random_search.cv_results_)"
   ]
  },
  {
   "cell_type": "code",
   "execution_count": 151,
   "metadata": {},
   "outputs": [
    {
     "name": "stdout",
     "output_type": "stream",
     "text": [
      "GridSearchCV took 46.53 seconds for 72 candidate parameter settings.\n",
      "Model with rank: 1\n",
      "Mean validation score: 0.637 (std: 0.010)\n",
      "Parameters: {'bootstrap': True, 'criterion': 'entropy', 'max_depth': 3, 'max_features': 10, 'min_samples_split': 3}\n",
      "\n",
      "Model with rank: 2\n",
      "Mean validation score: 0.636 (std: 0.010)\n",
      "Parameters: {'bootstrap': True, 'criterion': 'gini', 'max_depth': 3, 'max_features': 10, 'min_samples_split': 2}\n",
      "\n",
      "Model with rank: 3\n",
      "Mean validation score: 0.635 (std: 0.009)\n",
      "Parameters: {'bootstrap': True, 'criterion': 'entropy', 'max_depth': 3, 'max_features': 10, 'min_samples_split': 10}\n",
      "\n"
     ]
    }
   ],
   "source": [
    "param_grid = {\"max_depth\": [3, None],\n",
    "              \"max_features\": [1, 3, 10],\n",
    "              \"min_samples_split\": [2, 3, 10],\n",
    "              \"bootstrap\": [True, False],\n",
    "              \"criterion\": [\"gini\", \"entropy\"]}\n",
    "\n",
    "# run grid search\n",
    "grid_search = GridSearchCV(clf, param_grid=param_grid, cv=5)\n",
    "start = time()\n",
    "grid_search.fit(X_train, y_train)\n",
    "\n",
    "print(\"GridSearchCV took %.2f seconds for %d candidate parameter settings.\"\n",
    "      % (time() - start, len(grid_search.cv_results_['params'])))\n",
    "report(grid_search.cv_results_)"
   ]
  },
  {
   "cell_type": "markdown",
   "metadata": {},
   "source": [
    "#### TODO\n",
    "- run larger grid search\n",
    "- add in ALL golfers and train\n",
    "- test against full 18 hole round (RF Classifier vs Poisson)\n",
    "- Remove course features and see about differences\n",
    "- Add in additional golfer features\n",
    "- Run cumulative stats against last 450 HOLES played (25 rounds or 6.25 events) - future work: see what amount history is best\n",
    "- visualize decision tree graph"
   ]
  },
  {
   "cell_type": "code",
   "execution_count": 167,
   "metadata": {},
   "outputs": [
    {
     "data": {
      "text/plain": [
       "0.6292151937276395"
      ]
     },
     "execution_count": 167,
     "metadata": {},
     "output_type": "execute_result"
    }
   ],
   "source": [
    "from sklearn.ensemble import RandomForestClassifier\n",
    "best_rf_clf = RandomForestClassifier(max_features=10, oob_score=True, bootstrap=True, criterion='entropy', \n",
    "                                    max_depth=3, min_samples_split=3)\n",
    "best_rf_clf.fit(X_train, y_train)\n",
    "y_pred_best_clf = best_rf_clf.predict(X_val)\n",
    "best_rf_clf.score(X_val, y_val)"
   ]
  },
  {
   "cell_type": "code",
   "execution_count": 168,
   "metadata": {},
   "outputs": [
    {
     "name": "stdout",
     "output_type": "stream",
     "text": [
      "Mean score: 3.8657988886351524\n",
      "Mean predicted: 3.82735784425668\n"
     ]
    }
   ],
   "source": [
    "print('Mean score:', y_val.mean())\n",
    "print('Mean predicted:', y_pred_best_clf.mean())"
   ]
  },
  {
   "cell_type": "code",
   "execution_count": 170,
   "metadata": {},
   "outputs": [
    {
     "data": {
      "text/html": [
       "<div>\n",
       "<style scoped>\n",
       "    .dataframe tbody tr th:only-of-type {\n",
       "        vertical-align: middle;\n",
       "    }\n",
       "\n",
       "    .dataframe tbody tr th {\n",
       "        vertical-align: top;\n",
       "    }\n",
       "\n",
       "    .dataframe thead th {\n",
       "        text-align: right;\n",
       "    }\n",
       "</style>\n",
       "<table border=\"1\" class=\"dataframe\">\n",
       "  <thead>\n",
       "    <tr style=\"text-align: right;\">\n",
       "      <th></th>\n",
       "      <th>importance</th>\n",
       "    </tr>\n",
       "  </thead>\n",
       "  <tbody>\n",
       "    <tr>\n",
       "      <th>Par</th>\n",
       "      <td>0.559594</td>\n",
       "    </tr>\n",
       "    <tr>\n",
       "      <th>ActualYard</th>\n",
       "      <td>0.415392</td>\n",
       "    </tr>\n",
       "  </tbody>\n",
       "</table>\n",
       "</div>"
      ],
      "text/plain": [
       "            importance\n",
       "Par           0.559594\n",
       "ActualYard    0.415392"
      ]
     },
     "execution_count": 170,
     "metadata": {},
     "output_type": "execute_result"
    }
   ],
   "source": [
    "feature_importances = pd.DataFrame(best_rf_clf.feature_importances_,\n",
    "                                   index = X_train.columns,\n",
    "                                   columns=['importance']).sort_values('importance', ascending=False)\n",
    "feature_importances.loc[feature_importances['importance'] >= 0.01]"
   ]
  },
  {
   "cell_type": "code",
   "execution_count": 172,
   "metadata": {},
   "outputs": [],
   "source": [
    "pickle.dump(best_rf_clf, open('./models/hole-prediction-best-rf-clf.pkl', 'wb'))"
   ]
  },
  {
   "cell_type": "code",
   "execution_count": null,
   "metadata": {},
   "outputs": [],
   "source": []
  }
 ],
 "metadata": {
  "kernelspec": {
   "display_name": "Python 3",
   "language": "python",
   "name": "python3"
  },
  "language_info": {
   "codemirror_mode": {
    "name": "ipython",
    "version": 3
   },
   "file_extension": ".py",
   "mimetype": "text/x-python",
   "name": "python",
   "nbconvert_exporter": "python",
   "pygments_lexer": "ipython3",
   "version": "3.6.5"
  }
 },
 "nbformat": 4,
 "nbformat_minor": 2
}

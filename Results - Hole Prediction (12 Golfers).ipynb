{
 "cells": [
  {
   "cell_type": "markdown",
   "metadata": {},
   "source": [
    "#### TODO\n",
    "- run larger grid search\n",
    "- add in ALL golfers and train\n",
    "- test against full 18 hole round (RF Classifier vs Poisson)\n",
    "- Remove course features and see about differences\n",
    "- Add in additional golfer features\n",
    "- Run cumulative stats against last 450 HOLES played (25 rounds or 6.25 events) - future work: see what amount history is best\n",
    "- visualize decision tree graph\n",
    "- fill NA values for golfer features with mean values\n",
    "\n",
    "#### RESULTS\n",
    "- course features don't matter (63.7% best accuracy for both)\n",
    "- most important features are par and yardage of hole\n",
    "- SG approach and driving distance are next best predictors\n",
    "- 10 out of 21 features in best model with course data\n",
    "- 12 out of 12 features in best model without course data"
   ]
  },
  {
   "cell_type": "code",
   "execution_count": 17,
   "metadata": {},
   "outputs": [],
   "source": [
    "import numpy as np\n",
    "import pandas as pd\n",
    "from IPython.display import display\n",
    "import matplotlib.pyplot as plt\n",
    "from time import time\n",
    "import math\n",
    "import pickle\n",
    "\n",
    "from sklearn.preprocessing import MinMaxScaler\n",
    "from sklearn.preprocessing import LabelEncoder\n",
    "from sklearn.preprocessing import OneHotEncoder\n",
    "\n",
    "from sklearn.ensemble import RandomForestClassifier\n",
    "\n",
    "from sklearn import metrics\n",
    "from sklearn.model_selection import cross_val_score\n",
    "from sklearn.model_selection import GridSearchCV\n",
    "from sklearn.model_selection import RandomizedSearchCV\n",
    "\n",
    "from scipy.stats import poisson,skellam\n",
    "from scipy.stats import randint as sp_randint\n",
    "\n",
    "from statsmodels.stats.outliers_influence import variance_inflation_factor\n",
    "import statsmodels.api as sm\n",
    "import statsmodels.formula.api as smf\n",
    "\n",
    "%matplotlib inline\n",
    "pd.set_option('display.max_columns', None)\n",
    "\n",
    "import warnings\n",
    "warnings.filterwarnings('ignore')"
   ]
  },
  {
   "cell_type": "code",
   "execution_count": 2,
   "metadata": {},
   "outputs": [],
   "source": [
    "TRAIN_FILE = './data/holes-2016.csv'\n",
    "VAL_FILE = './data/holes-2017.csv'\n",
    "TEST_FILE = './data/holes-2018.csv'"
   ]
  },
  {
   "cell_type": "code",
   "execution_count": 142,
   "metadata": {},
   "outputs": [],
   "source": [
    "def load_and_process_simple(file):\n",
    "    columns = [\n",
    "        'Id', 'Name', 'Tournament Year', 'Tournament Schedule', 'Event Name', 'Course Name', 'Round', \n",
    "        'Hole', 'Driving Accuracy', 'Driving Distance', 'Green in Regulation', 'Scrambling Success',\n",
    "        'Putts Per Hole', 'Putts Per Hole GIR',\n",
    "        'Total SG Putting', 'Avg SG Putting', 'Total SG OTT', 'Avg SG OTT', 'Total SG Approach', \n",
    "        'Avg SG Approach', 'Total SG Around the Green', 'Avg SG Around the Green', 'Par', 'Actual Yard', \n",
    "        'Fwy Firmness', 'Grn Firmness', 'Stimp', 'Fwy Height', 'Grn Height', 'Rough Height', 'Tee Grass', \n",
    "        'Fwy. Grass', 'Rough Grass', 'Actual 250 Distance', 'Actual 275 Distance', 'Actual 300 Distance', \n",
    "        'Actual 325 Distance', 'Actual 350 Distance', 'AM Wind Spd', 'AM Wind Dir', 'PM Wind Spd', \n",
    "        'PM Wind Dir', 'Time Hole Finished', 'Hit Fwy', 'Hit Green', 'Hit Greenside Bunker', 'Tee Shot Landing Loc', \n",
    "        'Score'\n",
    "    ]    \n",
    "    df = pd.read_csv(file, index_col=None, names=columns)\n",
    "    \n",
    "    # drop SG totals, use averages only\n",
    "    df.drop(['Total SG Putting', 'Total SG OTT', 'Total SG Approach', 'Total SG Around the Green'], axis=1, inplace=True)\n",
    "    \n",
    "    # drop wind and time\n",
    "    df.drop(['AM Wind Dir', 'AM Wind Spd', 'PM Wind Dir', 'PM Wind Spd'], axis=1, inplace=True)\n",
    "    df.drop(['Time Hole Finished'], axis=1, inplace=True)\n",
    "    \n",
    "    # drop result columns (include later for potential simulations?)\n",
    "    df.drop(['Hit Fwy', 'Hit Green', 'Hit Greenside Bunker', 'Tee Shot Landing Loc'], axis=1, inplace=True)\n",
    "    \n",
    "    # drop non-features (only for identification)\n",
    "    df.drop(['Id', 'Name', 'Tournament Year', 'Tournament Schedule', 'Event Name', 'Course Name', 'Round', 'Hole'], axis=1, inplace=True)\n",
    "    \n",
    "    # drop categorical firmness and grass\n",
    "    df.drop(['Fwy Firmness', 'Grn Firmness', 'Tee Grass', 'Fwy. Grass', 'Rough Grass'], axis=1, inplace=True)\n",
    "    \n",
    "    # replace na values with column mean\n",
    "    df.fillna(df.mean(), inplace=True)\n",
    "    \n",
    "    # rename columns to remove non-alpha chars\n",
    "    renamed_cols = {}\n",
    "    for x in df.columns:\n",
    "        renamed_cols[x] = x.replace('/','').replace('&','').replace('#','').replace(' ','').replace('.','')\n",
    "        \n",
    "    df.rename(columns=renamed_cols, inplace=True)\n",
    "        \n",
    "    return df"
   ]
  },
  {
   "cell_type": "code",
   "execution_count": 143,
   "metadata": {},
   "outputs": [],
   "source": [
    "def load_and_process_no_course(file):\n",
    "    columns = [\n",
    "        'Id', 'Name', 'Tournament Year', 'Tournament Schedule', 'Event Name', 'Course Name', 'Round', \n",
    "        'Hole', 'Driving Accuracy', 'Driving Distance', 'Green in Regulation', 'Scrambling Success',\n",
    "        'Putts Per Hole', 'Putts Per Hole GIR',\n",
    "        'Total SG Putting', 'Avg SG Putting', 'Total SG OTT', 'Avg SG OTT', 'Total SG Approach', \n",
    "        'Avg SG Approach', 'Total SG Around the Green', 'Avg SG Around the Green', 'Par', 'Actual Yard', \n",
    "        'Fwy Firmness', 'Grn Firmness', 'Stimp', 'Fwy Height', 'Grn Height', 'Rough Height', 'Tee Grass', \n",
    "        'Fwy. Grass', 'Rough Grass', 'Actual 250 Distance', 'Actual 275 Distance', 'Actual 300 Distance', \n",
    "        'Actual 325 Distance', 'Actual 350 Distance', 'AM Wind Spd', 'AM Wind Dir', 'PM Wind Spd', \n",
    "        'PM Wind Dir', 'Time Hole Finished', 'Hit Fwy', 'Hit Green', 'Hit Greenside Bunker', 'Tee Shot Landing Loc', \n",
    "        'Score'\n",
    "    ]    \n",
    "    df = pd.read_csv(file, index_col=None, names=columns)\n",
    "    \n",
    "    # drop course features\n",
    "    df.drop(['Stimp', 'Fwy Height', 'Grn Height', 'Rough Height', 'Actual 250 Distance', 'Actual 275 Distance', 'Actual 300 Distance', 'Actual 325 Distance', 'Actual 350 Distance'], axis=1, inplace=True)\n",
    "    \n",
    "    # drop SG totals, use averages only\n",
    "    df.drop(['Total SG Putting', 'Total SG OTT', 'Total SG Approach', 'Total SG Around the Green'], axis=1, inplace=True)\n",
    "    \n",
    "    # drop wind and time\n",
    "    df.drop(['AM Wind Dir', 'AM Wind Spd', 'PM Wind Dir', 'PM Wind Spd'], axis=1, inplace=True)\n",
    "    df.drop(['Time Hole Finished'], axis=1, inplace=True)\n",
    "    \n",
    "    # drop result columns (include later for potential simulations?)\n",
    "    df.drop(['Hit Fwy', 'Hit Green', 'Hit Greenside Bunker', 'Tee Shot Landing Loc'], axis=1, inplace=True)\n",
    "    \n",
    "    # drop non-features (only for identification)\n",
    "    df.drop(['Id', 'Name', 'Tournament Year', 'Tournament Schedule', 'Event Name', 'Course Name', 'Round', 'Hole'], axis=1, inplace=True)\n",
    "    \n",
    "    # drop categorical firmness and grass\n",
    "    df.drop(['Fwy Firmness', 'Grn Firmness', 'Tee Grass', 'Fwy. Grass', 'Rough Grass'], axis=1, inplace=True)\n",
    "    \n",
    "    # replace na values with column mean\n",
    "    df.fillna(df.mean(), inplace=True)\n",
    "    \n",
    "    # rename columns to remove non-alpha chars\n",
    "    renamed_cols = {}\n",
    "    for x in df.columns:\n",
    "        renamed_cols[x] = x.replace('/','').replace('&','').replace('#','').replace(' ','').replace('.','')\n",
    "        \n",
    "    df.rename(columns=renamed_cols, inplace=True)\n",
    "        \n",
    "    return df"
   ]
  },
  {
   "cell_type": "code",
   "execution_count": 5,
   "metadata": {},
   "outputs": [],
   "source": [
    "def split_data(data):\n",
    "    X = data.drop('Score', axis=1, inplace=False)\n",
    "    y = data['Score']\n",
    "    return X, y\n",
    "\n",
    "# not used\n",
    "def normalize_data(X):\n",
    "    cols = X.columns\n",
    "    return pd.DataFrame(MinMaxScaler().fit_transform(X), columns=cols)"
   ]
  },
  {
   "cell_type": "code",
   "execution_count": 16,
   "metadata": {},
   "outputs": [],
   "source": [
    "THRESHOLD = 2\n",
    "\n",
    "def scoring(model, X, y):\n",
    "    return score(y, model.predict(X))\n",
    "\n",
    "def score(y, y_hat):\n",
    "    return np.mean((y_hat > THRESHOLD) == (y > 2))\n",
    "\n",
    "def run_cross_val(model, X, y, s=scoring):\n",
    "    return cross_val_score(model, X, y, scoring=s)"
   ]
  },
  {
   "cell_type": "code",
   "execution_count": 144,
   "metadata": {},
   "outputs": [],
   "source": [
    "df_train = load_and_process_simple(TRAIN_FILE)\n",
    "df_val = load_and_process_simple(VAL_FILE)\n",
    "df_test = load_and_process_simple(TEST_FILE)"
   ]
  },
  {
   "cell_type": "code",
   "execution_count": 145,
   "metadata": {},
   "outputs": [
    {
     "data": {
      "text/html": [
       "<div>\n",
       "<style scoped>\n",
       "    .dataframe tbody tr th:only-of-type {\n",
       "        vertical-align: middle;\n",
       "    }\n",
       "\n",
       "    .dataframe tbody tr th {\n",
       "        vertical-align: top;\n",
       "    }\n",
       "\n",
       "    .dataframe thead th {\n",
       "        text-align: right;\n",
       "    }\n",
       "</style>\n",
       "<table border=\"1\" class=\"dataframe\">\n",
       "  <thead>\n",
       "    <tr style=\"text-align: right;\">\n",
       "      <th></th>\n",
       "      <th>DrivingAccuracy</th>\n",
       "      <th>DrivingDistance</th>\n",
       "      <th>GreeninRegulation</th>\n",
       "      <th>ScramblingSuccess</th>\n",
       "      <th>PuttsPerHole</th>\n",
       "      <th>PuttsPerHoleGIR</th>\n",
       "      <th>AvgSGPutting</th>\n",
       "      <th>AvgSGOTT</th>\n",
       "      <th>AvgSGApproach</th>\n",
       "      <th>AvgSGAroundtheGreen</th>\n",
       "      <th>Par</th>\n",
       "      <th>ActualYard</th>\n",
       "      <th>Stimp</th>\n",
       "      <th>FwyHeight</th>\n",
       "      <th>GrnHeight</th>\n",
       "      <th>RoughHeight</th>\n",
       "      <th>Actual250Distance</th>\n",
       "      <th>Actual275Distance</th>\n",
       "      <th>Actual300Distance</th>\n",
       "      <th>Actual325Distance</th>\n",
       "      <th>Actual350Distance</th>\n",
       "      <th>Score</th>\n",
       "    </tr>\n",
       "  </thead>\n",
       "  <tbody>\n",
       "    <tr>\n",
       "      <th>0</th>\n",
       "      <td>0.53073</td>\n",
       "      <td>290.38214</td>\n",
       "      <td>0.60222</td>\n",
       "      <td>0.60894</td>\n",
       "      <td>1.56667</td>\n",
       "      <td>1.73432</td>\n",
       "      <td>0.00886</td>\n",
       "      <td>-0.00866</td>\n",
       "      <td>-0.00952</td>\n",
       "      <td>0.01008</td>\n",
       "      <td>4</td>\n",
       "      <td>444</td>\n",
       "      <td>11.0</td>\n",
       "      <td>0.44</td>\n",
       "      <td>0.1</td>\n",
       "      <td>2.0</td>\n",
       "      <td>26.0</td>\n",
       "      <td>28.0</td>\n",
       "      <td>31.0</td>\n",
       "      <td>33.0</td>\n",
       "      <td>0.0</td>\n",
       "      <td>4.0</td>\n",
       "    </tr>\n",
       "    <tr>\n",
       "      <th>1</th>\n",
       "      <td>0.53073</td>\n",
       "      <td>290.38214</td>\n",
       "      <td>0.60222</td>\n",
       "      <td>0.60894</td>\n",
       "      <td>1.56667</td>\n",
       "      <td>1.73432</td>\n",
       "      <td>0.00886</td>\n",
       "      <td>-0.00866</td>\n",
       "      <td>-0.00952</td>\n",
       "      <td>0.01008</td>\n",
       "      <td>4</td>\n",
       "      <td>358</td>\n",
       "      <td>11.0</td>\n",
       "      <td>0.44</td>\n",
       "      <td>0.1</td>\n",
       "      <td>2.0</td>\n",
       "      <td>25.0</td>\n",
       "      <td>28.0</td>\n",
       "      <td>30.0</td>\n",
       "      <td>33.0</td>\n",
       "      <td>0.0</td>\n",
       "      <td>3.0</td>\n",
       "    </tr>\n",
       "    <tr>\n",
       "      <th>2</th>\n",
       "      <td>0.53073</td>\n",
       "      <td>290.38214</td>\n",
       "      <td>0.60222</td>\n",
       "      <td>0.60894</td>\n",
       "      <td>1.56667</td>\n",
       "      <td>1.73432</td>\n",
       "      <td>0.00886</td>\n",
       "      <td>-0.00866</td>\n",
       "      <td>-0.00952</td>\n",
       "      <td>0.01008</td>\n",
       "      <td>4</td>\n",
       "      <td>455</td>\n",
       "      <td>11.0</td>\n",
       "      <td>0.44</td>\n",
       "      <td>0.1</td>\n",
       "      <td>2.0</td>\n",
       "      <td>25.0</td>\n",
       "      <td>28.0</td>\n",
       "      <td>30.0</td>\n",
       "      <td>33.0</td>\n",
       "      <td>35.0</td>\n",
       "      <td>4.0</td>\n",
       "    </tr>\n",
       "    <tr>\n",
       "      <th>3</th>\n",
       "      <td>0.53073</td>\n",
       "      <td>290.38214</td>\n",
       "      <td>0.60222</td>\n",
       "      <td>0.60894</td>\n",
       "      <td>1.56667</td>\n",
       "      <td>1.73432</td>\n",
       "      <td>0.00886</td>\n",
       "      <td>-0.00866</td>\n",
       "      <td>-0.00952</td>\n",
       "      <td>0.01008</td>\n",
       "      <td>3</td>\n",
       "      <td>160</td>\n",
       "      <td>11.0</td>\n",
       "      <td>0.44</td>\n",
       "      <td>0.1</td>\n",
       "      <td>2.0</td>\n",
       "      <td>0.0</td>\n",
       "      <td>0.0</td>\n",
       "      <td>0.0</td>\n",
       "      <td>0.0</td>\n",
       "      <td>0.0</td>\n",
       "      <td>3.0</td>\n",
       "    </tr>\n",
       "    <tr>\n",
       "      <th>4</th>\n",
       "      <td>0.53073</td>\n",
       "      <td>290.38214</td>\n",
       "      <td>0.60222</td>\n",
       "      <td>0.60894</td>\n",
       "      <td>1.56667</td>\n",
       "      <td>1.73432</td>\n",
       "      <td>0.00886</td>\n",
       "      <td>-0.00866</td>\n",
       "      <td>-0.00952</td>\n",
       "      <td>0.01008</td>\n",
       "      <td>5</td>\n",
       "      <td>531</td>\n",
       "      <td>11.0</td>\n",
       "      <td>0.44</td>\n",
       "      <td>0.1</td>\n",
       "      <td>2.0</td>\n",
       "      <td>25.0</td>\n",
       "      <td>28.0</td>\n",
       "      <td>30.0</td>\n",
       "      <td>33.0</td>\n",
       "      <td>35.0</td>\n",
       "      <td>5.0</td>\n",
       "    </tr>\n",
       "  </tbody>\n",
       "</table>\n",
       "</div>"
      ],
      "text/plain": [
       "   DrivingAccuracy  DrivingDistance  GreeninRegulation  ScramblingSuccess  \\\n",
       "0          0.53073        290.38214            0.60222            0.60894   \n",
       "1          0.53073        290.38214            0.60222            0.60894   \n",
       "2          0.53073        290.38214            0.60222            0.60894   \n",
       "3          0.53073        290.38214            0.60222            0.60894   \n",
       "4          0.53073        290.38214            0.60222            0.60894   \n",
       "\n",
       "   PuttsPerHole  PuttsPerHoleGIR  AvgSGPutting  AvgSGOTT  AvgSGApproach  \\\n",
       "0       1.56667          1.73432       0.00886  -0.00866       -0.00952   \n",
       "1       1.56667          1.73432       0.00886  -0.00866       -0.00952   \n",
       "2       1.56667          1.73432       0.00886  -0.00866       -0.00952   \n",
       "3       1.56667          1.73432       0.00886  -0.00866       -0.00952   \n",
       "4       1.56667          1.73432       0.00886  -0.00866       -0.00952   \n",
       "\n",
       "   AvgSGAroundtheGreen  Par  ActualYard  Stimp  FwyHeight  GrnHeight  \\\n",
       "0              0.01008    4         444   11.0       0.44        0.1   \n",
       "1              0.01008    4         358   11.0       0.44        0.1   \n",
       "2              0.01008    4         455   11.0       0.44        0.1   \n",
       "3              0.01008    3         160   11.0       0.44        0.1   \n",
       "4              0.01008    5         531   11.0       0.44        0.1   \n",
       "\n",
       "   RoughHeight  Actual250Distance  Actual275Distance  Actual300Distance  \\\n",
       "0          2.0               26.0               28.0               31.0   \n",
       "1          2.0               25.0               28.0               30.0   \n",
       "2          2.0               25.0               28.0               30.0   \n",
       "3          2.0                0.0                0.0                0.0   \n",
       "4          2.0               25.0               28.0               30.0   \n",
       "\n",
       "   Actual325Distance  Actual350Distance  Score  \n",
       "0               33.0                0.0    4.0  \n",
       "1               33.0                0.0    3.0  \n",
       "2               33.0               35.0    4.0  \n",
       "3                0.0                0.0    3.0  \n",
       "4               33.0               35.0    5.0  "
      ]
     },
     "execution_count": 145,
     "metadata": {},
     "output_type": "execute_result"
    }
   ],
   "source": [
    "df_train.head()"
   ]
  },
  {
   "cell_type": "code",
   "execution_count": 8,
   "metadata": {},
   "outputs": [],
   "source": [
    "X_train, y_train = split_data(df_train)\n",
    "X_val, y_val = split_data(df_val)\n",
    "X_test, y_test = split_data(df_test)"
   ]
  },
  {
   "cell_type": "code",
   "execution_count": 9,
   "metadata": {},
   "outputs": [
    {
     "name": "stdout",
     "output_type": "stream",
     "text": [
      "Training X Shape (12244, 21)\n",
      "Training y Shape (12244,)\n",
      "Validation X Shape (13137, 21)\n",
      "Validation y Shape (13137,)\n",
      "Test X Shape (13184, 21)\n",
      "Test y Shape (13184,)\n"
     ]
    }
   ],
   "source": [
    "print('Training X Shape', X_train.shape)\n",
    "print('Training y Shape', y_train.shape)\n",
    "print('Validation X Shape', X_val.shape)\n",
    "print('Validation y Shape', y_val.shape)\n",
    "print('Test X Shape', X_test.shape)\n",
    "print('Test y Shape', y_test.shape)"
   ]
  },
  {
   "cell_type": "code",
   "execution_count": 120,
   "metadata": {},
   "outputs": [],
   "source": [
    "def create_test_dataframe():\n",
    "    return pd.DataFrame(data={\n",
    "        'DrivingAccuracy': 0.48023,\n",
    "        'DrivingDistance': 292.38235,\n",
    "        'GreeninRegulation': 0.55333,\n",
    "        'ScramblingSuccess': 0.51938,\n",
    "        'PuttsPerHole': 1.31333,\n",
    "        'PuttsPerHoleGIR': 1.67871,\n",
    "        'AvgSGPutting': 0.03364, \n",
    "        'AvgSGOTT': -0.00313, \n",
    "        'AvgSGApproach': 0.00649, \n",
    "        'AvgSGAroundtheGreen': -0.00318,\n",
    "        'Par': 5, \n",
    "        'ActualYard': 652, \n",
    "        'Stimp': 12.5, \n",
    "        'FwyHeight': 0.300000012, \n",
    "        'GrnHeight': 0.100000001, \n",
    "        'RoughHeight': 3,\n",
    "        'Actual250Distance': 31, \n",
    "        'Actual275Distance': 33, \n",
    "        'Actual300Distance': 36,\n",
    "        'Actual325Distance': 38, \n",
    "        'Actual350Distance': 41\n",
    "    }, index=[1])\n",
    "\n",
    "def create_test_nocourse_dataframe():\n",
    "    return pd.DataFrame(data={\n",
    "        'DrivingAccuracy': 0.48023,\n",
    "        'DrivingDistance': 292.38235,\n",
    "        'GreeninRegulation': 0.55333,\n",
    "        'ScramblingSuccess': 0.51938,\n",
    "        'PuttsPerHole': 1.31333,\n",
    "        'PuttsPerHoleGIR': 1.67871,\n",
    "        'AvgSGPutting': 0.03364, \n",
    "        'AvgSGOTT': -0.00313, \n",
    "        'AvgSGApproach': 0.00649, \n",
    "        'AvgSGAroundtheGreen': -0.00318,\n",
    "        'Par': 5, \n",
    "        'ActualYard': 652\n",
    "    }, index=[1])\n",
    "\n",
    "def poisson_probabilities(model, df, max_score=9):\n",
    "    hole_avg = model.predict(df).values[0]\n",
    "    hole_pred = [poisson.pmf(i, hole_avg) for i in range(0, max_score+1)]\n",
    "    return hole_pred"
   ]
  },
  {
   "cell_type": "code",
   "execution_count": 121,
   "metadata": {},
   "outputs": [],
   "source": [
    "def run_test_hole(model, is_nocourse=False):\n",
    "    # testing Phil Mickelson, 2018, Round 1, Hole 16 at Firestone South\n",
    "    if is_nocourse:\n",
    "        test_data = create_test_nocourse_dataframe()\n",
    "    else:\n",
    "        test_data = create_test_dataframe()\n",
    "    \n",
    "    print('Actual Score:', 5)\n",
    "    print('Predicted Score:', model.predict(test_data))\n",
    "    return test_data"
   ]
  },
  {
   "cell_type": "code",
   "execution_count": 35,
   "metadata": {},
   "outputs": [],
   "source": [
    "def run_simple_model_eval(model, X, y, y_pred, is_rf=True):\n",
    "    print('Actual Scores:',y[:5])\n",
    "    print('Predicted Scores:', y_pred[:5])\n",
    "    print('Mean Actual Scores:', y.mean())\n",
    "    print('Mean Predicted Scores:', y_pred.mean())\n",
    "    \n",
    "    if is_rf:\n",
    "        print('Cross Validation:', run_cross_val(model, X, y, s=scoring))\n",
    "        print()\n",
    "        feature_importances = pd.DataFrame(model.feature_importances_,\n",
    "                                   index = X.columns,\n",
    "                                   columns=['importance']).sort_values('importance', ascending=False)\n",
    "        print(feature_importances.loc[feature_importances['importance'] >= 0.01])"
   ]
  },
  {
   "cell_type": "code",
   "execution_count": 19,
   "metadata": {},
   "outputs": [],
   "source": [
    "def search_cv_report(results, n_top=3):\n",
    "    for i in range(1, n_top + 1):\n",
    "        candidates = np.flatnonzero(results['rank_test_score'] == i)\n",
    "        for candidate in candidates:\n",
    "            print(\"Model with rank: {0}\".format(i))\n",
    "            print(\"Mean validation score: {0:.3f} (std: {1:.3f})\".format(\n",
    "                  results['mean_test_score'][candidate],\n",
    "                  results['std_test_score'][candidate]))\n",
    "            print(\"Parameters: {0}\".format(results['params'][candidate]))\n",
    "            print(\"\")"
   ]
  },
  {
   "cell_type": "code",
   "execution_count": 20,
   "metadata": {},
   "outputs": [],
   "source": [
    "def run_search_cv(X, y, is_random=True):\n",
    "    model = RandomForestClassifier(n_estimators=20, n_jobs=-1)\n",
    "    \n",
    "    if is_random:\n",
    "        param_dist = {\"max_depth\": [3, None],\n",
    "                      \"max_features\": sp_randint(1, len(X.columns)),\n",
    "                      \"min_samples_split\": sp_randint(2, 11),\n",
    "                      \"bootstrap\": [True, False],\n",
    "                      \"criterion\": [\"gini\", \"entropy\"]}\n",
    "        n_iter_search = 20\n",
    "        random_search = RandomizedSearchCV(model, \n",
    "                                           param_distributions=param_dist, \n",
    "                                           n_iter=n_iter_search, cv=5)\n",
    "\n",
    "        start = time()\n",
    "        random_search.fit(X, y)\n",
    "        print(\"RandomizedSearchCV took %.2f seconds for %d candidates\"\n",
    "              \" parameter settings.\" % ((time() - start), n_iter_search))\n",
    "        search_cv_report(random_search.cv_results_)\n",
    "    else:\n",
    "        param_grid = {\"max_depth\": [3, None],\n",
    "                      \"max_features\": [1, 3, 10, len(X.columns)],\n",
    "                      \"min_samples_split\": [2, 3, 10],\n",
    "                      \"bootstrap\": [True, False],\n",
    "                      \"criterion\": [\"gini\", \"entropy\"]}\n",
    "\n",
    "        # run grid search\n",
    "        grid_search = GridSearchCV(model, param_grid=param_grid, cv=5)\n",
    "        start = time()\n",
    "        grid_search.fit(X, y)\n",
    "\n",
    "        print(\"GridSearchCV took %.2f seconds for %d candidate parameter settings.\"\n",
    "              % (time() - start, len(grid_search.cv_results_['params'])))\n",
    "        search_cv_report(grid_search.cv_results_)"
   ]
  },
  {
   "cell_type": "code",
   "execution_count": 44,
   "metadata": {},
   "outputs": [
    {
     "data": {
      "text/html": [
       "<table class=\"simpletable\">\n",
       "<caption>Generalized Linear Model Regression Results</caption>\n",
       "<tr>\n",
       "  <th>Dep. Variable:</th>        <td>Score</td>      <th>  No. Observations:  </th>  <td> 12244</td>  \n",
       "</tr>\n",
       "<tr>\n",
       "  <th>Model:</th>                 <td>GLM</td>       <th>  Df Residuals:      </th>  <td> 12222</td>  \n",
       "</tr>\n",
       "<tr>\n",
       "  <th>Model Family:</th>        <td>Poisson</td>     <th>  Df Model:          </th>  <td>    21</td>  \n",
       "</tr>\n",
       "<tr>\n",
       "  <th>Link Function:</th>         <td>log</td>       <th>  Scale:             </th> <td>  1.0000</td> \n",
       "</tr>\n",
       "<tr>\n",
       "  <th>Method:</th>               <td>IRLS</td>       <th>  Log-Likelihood:    </th> <td> -20431.</td> \n",
       "</tr>\n",
       "<tr>\n",
       "  <th>Date:</th>           <td>Thu, 28 Mar 2019</td> <th>  Deviance:          </th> <td>  1502.1</td> \n",
       "</tr>\n",
       "<tr>\n",
       "  <th>Time:</th>               <td>21:43:09</td>     <th>  Pearson chi2:      </th> <td>1.44e+03</td> \n",
       "</tr>\n",
       "<tr>\n",
       "  <th>No. Iterations:</th>         <td>4</td>        <th>  Covariance Type:   </th> <td>nonrobust</td>\n",
       "</tr>\n",
       "</table>\n",
       "<table class=\"simpletable\">\n",
       "<tr>\n",
       "           <td></td>              <th>coef</th>     <th>std err</th>      <th>z</th>      <th>P>|z|</th>  <th>[0.025</th>    <th>0.975]</th>  \n",
       "</tr>\n",
       "<tr>\n",
       "  <th>Intercept</th>           <td>    0.9368</td> <td>    0.496</td> <td>    1.888</td> <td> 0.059</td> <td>   -0.036</td> <td>    1.909</td>\n",
       "</tr>\n",
       "<tr>\n",
       "  <th>DrivingAccuracy</th>     <td>   -0.0076</td> <td>    0.149</td> <td>   -0.051</td> <td> 0.959</td> <td>   -0.299</td> <td>    0.284</td>\n",
       "</tr>\n",
       "<tr>\n",
       "  <th>DrivingDistance</th>     <td>    0.0002</td> <td>    0.001</td> <td>    0.201</td> <td> 0.841</td> <td>   -0.002</td> <td>    0.002</td>\n",
       "</tr>\n",
       "<tr>\n",
       "  <th>GreeninRegulation</th>   <td>    0.0803</td> <td>    0.224</td> <td>    0.358</td> <td> 0.720</td> <td>   -0.359</td> <td>    0.520</td>\n",
       "</tr>\n",
       "<tr>\n",
       "  <th>ScramblingSuccess</th>   <td>    0.0484</td> <td>    0.164</td> <td>    0.295</td> <td> 0.768</td> <td>   -0.273</td> <td>    0.370</td>\n",
       "</tr>\n",
       "<tr>\n",
       "  <th>PuttsPerHole</th>        <td>   -0.1557</td> <td>    0.275</td> <td>   -0.567</td> <td> 0.571</td> <td>   -0.694</td> <td>    0.382</td>\n",
       "</tr>\n",
       "<tr>\n",
       "  <th>PuttsPerHoleGIR</th>     <td>   -0.0425</td> <td>    0.256</td> <td>   -0.166</td> <td> 0.868</td> <td>   -0.545</td> <td>    0.460</td>\n",
       "</tr>\n",
       "<tr>\n",
       "  <th>AvgSGPutting</th>        <td>   -0.5075</td> <td>    0.389</td> <td>   -1.305</td> <td> 0.192</td> <td>   -1.269</td> <td>    0.254</td>\n",
       "</tr>\n",
       "<tr>\n",
       "  <th>AvgSGOTT</th>            <td>   -0.3177</td> <td>    0.428</td> <td>   -0.743</td> <td> 0.458</td> <td>   -1.156</td> <td>    0.521</td>\n",
       "</tr>\n",
       "<tr>\n",
       "  <th>AvgSGApproach</th>       <td>   -0.2421</td> <td>    0.275</td> <td>   -0.879</td> <td> 0.379</td> <td>   -0.782</td> <td>    0.297</td>\n",
       "</tr>\n",
       "<tr>\n",
       "  <th>AvgSGAroundtheGreen</th> <td>   -0.1436</td> <td>    0.499</td> <td>   -0.288</td> <td> 0.773</td> <td>   -1.122</td> <td>    0.834</td>\n",
       "</tr>\n",
       "<tr>\n",
       "  <th>Par</th>                 <td>    0.1429</td> <td>    0.013</td> <td>   10.688</td> <td> 0.000</td> <td>    0.117</td> <td>    0.169</td>\n",
       "</tr>\n",
       "<tr>\n",
       "  <th>ActualYard</th>          <td> 4.151e-05</td> <td>  8.4e-05</td> <td>    0.494</td> <td> 0.621</td> <td>   -0.000</td> <td>    0.000</td>\n",
       "</tr>\n",
       "<tr>\n",
       "  <th>Stimp</th>               <td>-4.685e-05</td> <td>    0.002</td> <td>   -0.023</td> <td> 0.981</td> <td>   -0.004</td> <td>    0.004</td>\n",
       "</tr>\n",
       "<tr>\n",
       "  <th>FwyHeight</th>           <td>   -0.1372</td> <td>    0.088</td> <td>   -1.553</td> <td> 0.120</td> <td>   -0.310</td> <td>    0.036</td>\n",
       "</tr>\n",
       "<tr>\n",
       "  <th>GrnHeight</th>           <td>   -0.0066</td> <td>    0.016</td> <td>   -0.400</td> <td> 0.689</td> <td>   -0.039</td> <td>    0.026</td>\n",
       "</tr>\n",
       "<tr>\n",
       "  <th>RoughHeight</th>         <td>    0.0011</td> <td>    0.007</td> <td>    0.162</td> <td> 0.872</td> <td>   -0.012</td> <td>    0.014</td>\n",
       "</tr>\n",
       "<tr>\n",
       "  <th>Actual250Distance</th>   <td>    0.0017</td> <td>    0.001</td> <td>    1.161</td> <td> 0.246</td> <td>   -0.001</td> <td>    0.004</td>\n",
       "</tr>\n",
       "<tr>\n",
       "  <th>Actual275Distance</th>   <td>    0.0003</td> <td>    0.001</td> <td>    0.226</td> <td> 0.821</td> <td>   -0.003</td> <td>    0.003</td>\n",
       "</tr>\n",
       "<tr>\n",
       "  <th>Actual300Distance</th>   <td>    0.0005</td> <td>    0.001</td> <td>    0.504</td> <td> 0.614</td> <td>   -0.001</td> <td>    0.003</td>\n",
       "</tr>\n",
       "<tr>\n",
       "  <th>Actual325Distance</th>   <td>    0.0006</td> <td>    0.001</td> <td>    0.841</td> <td> 0.400</td> <td>   -0.001</td> <td>    0.002</td>\n",
       "</tr>\n",
       "<tr>\n",
       "  <th>Actual350Distance</th>   <td>    0.0007</td> <td>    0.000</td> <td>    1.715</td> <td> 0.086</td> <td>   -0.000</td> <td>    0.002</td>\n",
       "</tr>\n",
       "</table>"
      ],
      "text/plain": [
       "<class 'statsmodels.iolib.summary.Summary'>\n",
       "\"\"\"\n",
       "                 Generalized Linear Model Regression Results                  \n",
       "==============================================================================\n",
       "Dep. Variable:                  Score   No. Observations:                12244\n",
       "Model:                            GLM   Df Residuals:                    12222\n",
       "Model Family:                 Poisson   Df Model:                           21\n",
       "Link Function:                    log   Scale:                          1.0000\n",
       "Method:                          IRLS   Log-Likelihood:                -20431.\n",
       "Date:                Thu, 28 Mar 2019   Deviance:                       1502.1\n",
       "Time:                        21:43:09   Pearson chi2:                 1.44e+03\n",
       "No. Iterations:                     4   Covariance Type:             nonrobust\n",
       "=======================================================================================\n",
       "                          coef    std err          z      P>|z|      [0.025      0.975]\n",
       "---------------------------------------------------------------------------------------\n",
       "Intercept               0.9368      0.496      1.888      0.059      -0.036       1.909\n",
       "DrivingAccuracy        -0.0076      0.149     -0.051      0.959      -0.299       0.284\n",
       "DrivingDistance         0.0002      0.001      0.201      0.841      -0.002       0.002\n",
       "GreeninRegulation       0.0803      0.224      0.358      0.720      -0.359       0.520\n",
       "ScramblingSuccess       0.0484      0.164      0.295      0.768      -0.273       0.370\n",
       "PuttsPerHole           -0.1557      0.275     -0.567      0.571      -0.694       0.382\n",
       "PuttsPerHoleGIR        -0.0425      0.256     -0.166      0.868      -0.545       0.460\n",
       "AvgSGPutting           -0.5075      0.389     -1.305      0.192      -1.269       0.254\n",
       "AvgSGOTT               -0.3177      0.428     -0.743      0.458      -1.156       0.521\n",
       "AvgSGApproach          -0.2421      0.275     -0.879      0.379      -0.782       0.297\n",
       "AvgSGAroundtheGreen    -0.1436      0.499     -0.288      0.773      -1.122       0.834\n",
       "Par                     0.1429      0.013     10.688      0.000       0.117       0.169\n",
       "ActualYard           4.151e-05    8.4e-05      0.494      0.621      -0.000       0.000\n",
       "Stimp               -4.685e-05      0.002     -0.023      0.981      -0.004       0.004\n",
       "FwyHeight              -0.1372      0.088     -1.553      0.120      -0.310       0.036\n",
       "GrnHeight              -0.0066      0.016     -0.400      0.689      -0.039       0.026\n",
       "RoughHeight             0.0011      0.007      0.162      0.872      -0.012       0.014\n",
       "Actual250Distance       0.0017      0.001      1.161      0.246      -0.001       0.004\n",
       "Actual275Distance       0.0003      0.001      0.226      0.821      -0.003       0.003\n",
       "Actual300Distance       0.0005      0.001      0.504      0.614      -0.001       0.003\n",
       "Actual325Distance       0.0006      0.001      0.841      0.400      -0.001       0.002\n",
       "Actual350Distance       0.0007      0.000      1.715      0.086      -0.000       0.002\n",
       "=======================================================================================\n",
       "\"\"\""
      ]
     },
     "execution_count": 44,
     "metadata": {},
     "output_type": "execute_result"
    }
   ],
   "source": [
    "col_list = list(X_train.columns)\n",
    "poisson_formula = ' + '.join(col_list)\n",
    "\n",
    "poisson_model = smf.glm(formula=\"Score ~ \" + poisson_formula, data=df_train, family=sm.families.Poisson()).fit()\n",
    "poisson_model.summary()"
   ]
  },
  {
   "cell_type": "code",
   "execution_count": 45,
   "metadata": {},
   "outputs": [
    {
     "data": {
      "text/plain": [
       "0        4.063705\n",
       "1        3.117942\n",
       "2        4.058668\n",
       "3        4.054458\n",
       "4        4.702102\n",
       "5        4.074998\n",
       "6        3.118848\n",
       "7        3.943098\n",
       "8        4.707962\n",
       "9        3.827717\n",
       "10       3.114449\n",
       "11       4.052439\n",
       "12       4.065764\n",
       "13       4.056647\n",
       "14       3.113544\n",
       "15       4.709721\n",
       "16       3.947684\n",
       "17       4.709135\n",
       "18       4.063368\n",
       "19       3.116519\n",
       "20       4.055468\n",
       "21       4.054458\n",
       "22       4.702298\n",
       "23       4.072326\n",
       "24       3.120661\n",
       "25       3.915431\n",
       "26       4.708939\n",
       "27       3.826751\n",
       "28       3.115484\n",
       "29       4.050085\n",
       "           ...   \n",
       "13107    3.950658\n",
       "13108    3.941832\n",
       "13109    3.031079\n",
       "13110    3.939051\n",
       "13111    3.026176\n",
       "13112    3.934455\n",
       "13113    3.940981\n",
       "13114    3.930097\n",
       "13115    3.029569\n",
       "13116    3.959190\n",
       "13117    3.956377\n",
       "13118    4.575259\n",
       "13119    3.946756\n",
       "13120    3.026929\n",
       "13121    3.936252\n",
       "13122    3.945270\n",
       "13123    3.945741\n",
       "13124    4.567858\n",
       "13125    3.952462\n",
       "13126    3.944451\n",
       "13127    3.027055\n",
       "13128    3.939051\n",
       "13129    3.028940\n",
       "13130    3.936743\n",
       "13131    3.943600\n",
       "13132    3.928629\n",
       "13133    3.027306\n",
       "13134    3.958533\n",
       "13135    3.953114\n",
       "13136    4.569967\n",
       "Length: 13137, dtype: float64"
      ]
     },
     "execution_count": 45,
     "metadata": {},
     "output_type": "execute_result"
    }
   ],
   "source": [
    "y_pred_poisson = poisson_model.predict(df_val)\n",
    "y_pred_poisson"
   ]
  },
  {
   "cell_type": "code",
   "execution_count": 14,
   "metadata": {},
   "outputs": [
    {
     "data": {
      "text/plain": [
       "0.591078632868996"
      ]
     },
     "execution_count": 14,
     "metadata": {},
     "output_type": "execute_result"
    }
   ],
   "source": [
    "rf_default_model = RandomForestClassifier()\n",
    "rf_default_model.fit(X_train, y_train)\n",
    "y_pred_rf_default = rf_default_model.predict(X_val)\n",
    "rf_default_model.score(X_val, y_val)"
   ]
  },
  {
   "cell_type": "code",
   "execution_count": 21,
   "metadata": {},
   "outputs": [
    {
     "name": "stdout",
     "output_type": "stream",
     "text": [
      "RandomizedSearchCV took 39.06 seconds for 20 candidates parameter settings.\n",
      "Model with rank: 1\n",
      "Mean validation score: 0.635 (std: 0.011)\n",
      "Parameters: {'bootstrap': True, 'criterion': 'entropy', 'max_depth': 3, 'max_features': 13, 'min_samples_split': 9}\n",
      "\n",
      "Model with rank: 2\n",
      "Mean validation score: 0.635 (std: 0.008)\n",
      "Parameters: {'bootstrap': True, 'criterion': 'entropy', 'max_depth': 3, 'max_features': 13, 'min_samples_split': 6}\n",
      "\n",
      "Model with rank: 3\n",
      "Mean validation score: 0.635 (std: 0.008)\n",
      "Parameters: {'bootstrap': False, 'criterion': 'entropy', 'max_depth': 3, 'max_features': 13, 'min_samples_split': 10}\n",
      "\n"
     ]
    }
   ],
   "source": [
    "# run random search for best classifier\n",
    "run_search_cv(X_train, y_train, True)"
   ]
  },
  {
   "cell_type": "code",
   "execution_count": 22,
   "metadata": {},
   "outputs": [
    {
     "name": "stdout",
     "output_type": "stream",
     "text": [
      "GridSearchCV took 185.66 seconds for 96 candidate parameter settings.\n",
      "Model with rank: 1\n",
      "Mean validation score: 0.635 (std: 0.008)\n",
      "Parameters: {'bootstrap': False, 'criterion': 'entropy', 'max_depth': 3, 'max_features': 10, 'min_samples_split': 2}\n",
      "\n",
      "Model with rank: 2\n",
      "Mean validation score: 0.635 (std: 0.008)\n",
      "Parameters: {'bootstrap': True, 'criterion': 'gini', 'max_depth': 3, 'max_features': 21, 'min_samples_split': 2}\n",
      "\n",
      "Model with rank: 3\n",
      "Mean validation score: 0.635 (std: 0.010)\n",
      "Parameters: {'bootstrap': True, 'criterion': 'gini', 'max_depth': 3, 'max_features': 21, 'min_samples_split': 10}\n",
      "\n",
      "Model with rank: 3\n",
      "Mean validation score: 0.635 (std: 0.008)\n",
      "Parameters: {'bootstrap': True, 'criterion': 'entropy', 'max_depth': 3, 'max_features': 21, 'min_samples_split': 10}\n",
      "\n"
     ]
    }
   ],
   "source": [
    "# run grid search for best classifier\n",
    "run_search_cv(X_train, y_train, False)"
   ]
  },
  {
   "cell_type": "code",
   "execution_count": 29,
   "metadata": {},
   "outputs": [
    {
     "data": {
      "text/plain": [
       "0.6295957981274264"
      ]
     },
     "execution_count": 29,
     "metadata": {},
     "output_type": "execute_result"
    }
   ],
   "source": [
    "# create model for best model from searches\n",
    "rf_best_model = RandomForestClassifier(bootstrap=True, criterion='entropy', max_depth=3,\n",
    "                                      max_features=10, min_samples_split=2)\n",
    "rf_best_model.fit(X_train, y_train)\n",
    "y_pred_rf_best = rf_best_model.predict(X_val)\n",
    "rf_best_model.score(X_val, y_val)"
   ]
  },
  {
   "cell_type": "code",
   "execution_count": 46,
   "metadata": {},
   "outputs": [],
   "source": [
    "pickle.dump(rf_default_model, open('./models/hole-prediction-rf-default.pkl', 'wb'))\n",
    "pickle.dump(rf_best_model, open('./models/hole-prediction-rf-best.pkl', 'wb'))\n",
    "pickle.dump(poisson_model, open('./models/hole-prediction-poisson.pkl', 'wb'))"
   ]
  },
  {
   "cell_type": "code",
   "execution_count": 32,
   "metadata": {},
   "outputs": [
    {
     "name": "stdout",
     "output_type": "stream",
     "text": [
      "Actual Scores: 0    4.0\n",
      "1    3.0\n",
      "2    4.0\n",
      "3    3.0\n",
      "4    5.0\n",
      "Name: Score, dtype: float64\n",
      "Predicted Scores: [4. 3. 4. 4. 4.]\n",
      "Mean Actual Scores: 3.893988892518785\n",
      "Mean Predicted Scores: 3.8093171957067824\n",
      "Cross Validation: [0.9627907  0.90884587 0.96493379]\n",
      "\n",
      "                     importance\n",
      "ActualYard             0.484666\n",
      "Par                    0.077043\n",
      "Actual275Distance      0.050660\n",
      "Actual325Distance      0.045333\n",
      "Actual250Distance      0.041854\n",
      "Actual300Distance      0.036939\n",
      "Actual350Distance      0.028449\n",
      "AvgSGApproach          0.020862\n",
      "PuttsPerHoleGIR        0.020167\n",
      "DrivingDistance        0.019994\n",
      "ScramblingSuccess      0.019645\n",
      "AvgSGAroundtheGreen    0.019306\n",
      "AvgSGPutting           0.019096\n",
      "DrivingAccuracy        0.018928\n",
      "AvgSGOTT               0.018821\n",
      "GreeninRegulation      0.018524\n",
      "PuttsPerHole           0.016413\n",
      "Stimp                  0.013600\n",
      "FwyHeight              0.011421\n",
      "RoughHeight            0.010966\n"
     ]
    }
   ],
   "source": [
    "run_simple_model_eval(rf_default_model, X_train, y_train, y_pred_rf_default)"
   ]
  },
  {
   "cell_type": "code",
   "execution_count": 33,
   "metadata": {},
   "outputs": [
    {
     "name": "stdout",
     "output_type": "stream",
     "text": [
      "Actual Scores: 0    4.0\n",
      "1    3.0\n",
      "2    4.0\n",
      "3    3.0\n",
      "4    5.0\n",
      "Name: Score, dtype: float64\n",
      "Predicted Scores: [4. 3. 4. 4. 4.]\n",
      "Mean Actual Scores: 3.893988892518785\n",
      "Mean Predicted Scores: 3.830707162974804\n",
      "Cross Validation: [0.96768666 0.96814506 0.96812163]\n",
      "\n",
      "                   importance\n",
      "Par                  0.546671\n",
      "ActualYard           0.225564\n",
      "Actual250Distance    0.138425\n",
      "Actual300Distance    0.067795\n"
     ]
    }
   ],
   "source": [
    "run_simple_model_eval(rf_best_model, X_train, y_train, y_pred_rf_best)"
   ]
  },
  {
   "cell_type": "code",
   "execution_count": 36,
   "metadata": {},
   "outputs": [
    {
     "name": "stdout",
     "output_type": "stream",
     "text": [
      "Actual Scores: 0    4.0\n",
      "1    3.0\n",
      "2    4.0\n",
      "3    3.0\n",
      "4    5.0\n",
      "Name: Score, dtype: float64\n",
      "Predicted Scores: 0    4.063705\n",
      "1    3.117942\n",
      "2    4.058668\n",
      "3    4.054458\n",
      "4    4.702102\n",
      "dtype: float64\n",
      "Mean Actual Scores: 3.893988892518785\n",
      "Mean Predicted Scores: 3.8758726162133437\n"
     ]
    }
   ],
   "source": [
    "run_simple_model_eval(poisson_model, X_train, y_train, y_pred_poisson, False)"
   ]
  },
  {
   "cell_type": "code",
   "execution_count": 62,
   "metadata": {},
   "outputs": [
    {
     "name": "stdout",
     "output_type": "stream",
     "text": [
      "Actual Score: 5\n",
      "Predicted Score: [4.]\n"
     ]
    }
   ],
   "source": [
    "test_data = run_test_hole(rf_default_model)"
   ]
  },
  {
   "cell_type": "code",
   "execution_count": 63,
   "metadata": {},
   "outputs": [
    {
     "name": "stdout",
     "output_type": "stream",
     "text": [
      "Actual Score: 5\n",
      "Predicted Score: [5.]\n"
     ]
    },
    {
     "data": {
      "text/plain": [
       "pandas.core.frame.DataFrame"
      ]
     },
     "execution_count": 63,
     "metadata": {},
     "output_type": "execute_result"
    }
   ],
   "source": [
    "test_data = run_test_hole(rf_best_model)"
   ]
  },
  {
   "cell_type": "code",
   "execution_count": 66,
   "metadata": {},
   "outputs": [
    {
     "name": "stdout",
     "output_type": "stream",
     "text": [
      "Actual Score: 5\n",
      "Predicted Score: 1    4.994491\n",
      "dtype: float64\n"
     ]
    }
   ],
   "source": [
    "test_data = run_test_hole(poisson_model)"
   ]
  },
  {
   "cell_type": "code",
   "execution_count": 67,
   "metadata": {},
   "outputs": [
    {
     "data": {
      "text/plain": [
       "[0.006775170419789624,\n",
       " 0.03383852604768396,\n",
       " 0.08450310281016818,\n",
       " 0.1406833220115902,\n",
       " 0.1756603879091694,\n",
       " 0.1754668368030591,\n",
       " 0.14606124913409432,\n",
       " 0.10421450842127776,\n",
       " 0.06506229989911982,\n",
       " 0.036105895062357146]"
      ]
     },
     "execution_count": 67,
     "metadata": {},
     "output_type": "execute_result"
    }
   ],
   "source": [
    "poisson_probabilities(poisson_model, test_data)"
   ]
  },
  {
   "cell_type": "code",
   "execution_count": 68,
   "metadata": {},
   "outputs": [],
   "source": [
    "# run test of a full 18 holes\n",
    "file = './data/holes-phil-test.csv'\n",
    "\n",
    "df_sample = load_and_process_simple(file)\n",
    "X_sample, y_sample = split_data(df_sample)"
   ]
  },
  {
   "cell_type": "code",
   "execution_count": 69,
   "metadata": {},
   "outputs": [
    {
     "data": {
      "text/plain": [
       "0.5555555555555556"
      ]
     },
     "execution_count": 69,
     "metadata": {},
     "output_type": "execute_result"
    }
   ],
   "source": [
    "rf_default_model.score(X_sample, y_sample)"
   ]
  },
  {
   "cell_type": "code",
   "execution_count": 70,
   "metadata": {},
   "outputs": [
    {
     "data": {
      "text/plain": [
       "0.7222222222222222"
      ]
     },
     "execution_count": 70,
     "metadata": {},
     "output_type": "execute_result"
    }
   ],
   "source": [
    "rf_best_model.score(X_sample, y_sample)"
   ]
  },
  {
   "cell_type": "code",
   "execution_count": 107,
   "metadata": {},
   "outputs": [],
   "source": [
    "y_sample_rf_default = rf_default_model.predict(X_sample)\n",
    "y_sample_rf_best = rf_best_model.predict(X_sample)\n",
    "y_sample_poisson = np.round(poisson_model.predict(X_sample),0)"
   ]
  },
  {
   "cell_type": "code",
   "execution_count": 108,
   "metadata": {},
   "outputs": [],
   "source": [
    "results = [\n",
    "    ['Actual'] + list(y_sample),\n",
    "    ['Default'] + list(y_sample_rf_default),\n",
    "    ['Best'] + list(y_sample_rf_best),\n",
    "    ['Poisson'] + list(y_sample_poisson)\n",
    "]"
   ]
  },
  {
   "cell_type": "code",
   "execution_count": 109,
   "metadata": {},
   "outputs": [
    {
     "data": {
      "text/html": [
       "<div>\n",
       "<style scoped>\n",
       "    .dataframe tbody tr th:only-of-type {\n",
       "        vertical-align: middle;\n",
       "    }\n",
       "\n",
       "    .dataframe tbody tr th {\n",
       "        vertical-align: top;\n",
       "    }\n",
       "\n",
       "    .dataframe thead th {\n",
       "        text-align: right;\n",
       "    }\n",
       "</style>\n",
       "<table border=\"1\" class=\"dataframe\">\n",
       "  <thead>\n",
       "    <tr style=\"text-align: right;\">\n",
       "      <th></th>\n",
       "      <th>Type</th>\n",
       "      <th>1</th>\n",
       "      <th>2</th>\n",
       "      <th>3</th>\n",
       "      <th>4</th>\n",
       "      <th>5</th>\n",
       "      <th>6</th>\n",
       "      <th>7</th>\n",
       "      <th>8</th>\n",
       "      <th>9</th>\n",
       "      <th>10</th>\n",
       "      <th>11</th>\n",
       "      <th>12</th>\n",
       "      <th>13</th>\n",
       "      <th>14</th>\n",
       "      <th>15</th>\n",
       "      <th>16</th>\n",
       "      <th>17</th>\n",
       "      <th>18</th>\n",
       "    </tr>\n",
       "  </thead>\n",
       "  <tbody>\n",
       "    <tr>\n",
       "      <th>0</th>\n",
       "      <td>Actual</td>\n",
       "      <td>4.0</td>\n",
       "      <td>3.0</td>\n",
       "      <td>4.0</td>\n",
       "      <td>4.0</td>\n",
       "      <td>2.0</td>\n",
       "      <td>5.0</td>\n",
       "      <td>2.0</td>\n",
       "      <td>4.0</td>\n",
       "      <td>4.0</td>\n",
       "      <td>3.0</td>\n",
       "      <td>4.0</td>\n",
       "      <td>3.0</td>\n",
       "      <td>4.0</td>\n",
       "      <td>4.0</td>\n",
       "      <td>3.0</td>\n",
       "      <td>5.0</td>\n",
       "      <td>4.0</td>\n",
       "      <td>4.0</td>\n",
       "    </tr>\n",
       "    <tr>\n",
       "      <th>1</th>\n",
       "      <td>Default</td>\n",
       "      <td>4.0</td>\n",
       "      <td>4.0</td>\n",
       "      <td>4.0</td>\n",
       "      <td>4.0</td>\n",
       "      <td>3.0</td>\n",
       "      <td>3.0</td>\n",
       "      <td>3.0</td>\n",
       "      <td>5.0</td>\n",
       "      <td>4.0</td>\n",
       "      <td>4.0</td>\n",
       "      <td>4.0</td>\n",
       "      <td>3.0</td>\n",
       "      <td>4.0</td>\n",
       "      <td>4.0</td>\n",
       "      <td>3.0</td>\n",
       "      <td>4.0</td>\n",
       "      <td>4.0</td>\n",
       "      <td>3.0</td>\n",
       "    </tr>\n",
       "    <tr>\n",
       "      <th>2</th>\n",
       "      <td>Best</td>\n",
       "      <td>4.0</td>\n",
       "      <td>4.0</td>\n",
       "      <td>4.0</td>\n",
       "      <td>4.0</td>\n",
       "      <td>3.0</td>\n",
       "      <td>4.0</td>\n",
       "      <td>3.0</td>\n",
       "      <td>4.0</td>\n",
       "      <td>4.0</td>\n",
       "      <td>4.0</td>\n",
       "      <td>4.0</td>\n",
       "      <td>3.0</td>\n",
       "      <td>4.0</td>\n",
       "      <td>4.0</td>\n",
       "      <td>3.0</td>\n",
       "      <td>5.0</td>\n",
       "      <td>4.0</td>\n",
       "      <td>4.0</td>\n",
       "    </tr>\n",
       "    <tr>\n",
       "      <th>3</th>\n",
       "      <td>Poisson</td>\n",
       "      <td>4.0</td>\n",
       "      <td>5.0</td>\n",
       "      <td>4.0</td>\n",
       "      <td>4.0</td>\n",
       "      <td>3.0</td>\n",
       "      <td>4.0</td>\n",
       "      <td>3.0</td>\n",
       "      <td>4.0</td>\n",
       "      <td>4.0</td>\n",
       "      <td>4.0</td>\n",
       "      <td>4.0</td>\n",
       "      <td>3.0</td>\n",
       "      <td>4.0</td>\n",
       "      <td>4.0</td>\n",
       "      <td>3.0</td>\n",
       "      <td>5.0</td>\n",
       "      <td>4.0</td>\n",
       "      <td>4.0</td>\n",
       "    </tr>\n",
       "  </tbody>\n",
       "</table>\n",
       "</div>"
      ],
      "text/plain": [
       "      Type    1    2    3    4    5    6    7    8    9   10   11   12   13  \\\n",
       "0   Actual  4.0  3.0  4.0  4.0  2.0  5.0  2.0  4.0  4.0  3.0  4.0  3.0  4.0   \n",
       "1  Default  4.0  4.0  4.0  4.0  3.0  3.0  3.0  5.0  4.0  4.0  4.0  3.0  4.0   \n",
       "2     Best  4.0  4.0  4.0  4.0  3.0  4.0  3.0  4.0  4.0  4.0  4.0  3.0  4.0   \n",
       "3  Poisson  4.0  5.0  4.0  4.0  3.0  4.0  3.0  4.0  4.0  4.0  4.0  3.0  4.0   \n",
       "\n",
       "    14   15   16   17   18  \n",
       "0  4.0  3.0  5.0  4.0  4.0  \n",
       "1  4.0  3.0  4.0  4.0  3.0  \n",
       "2  4.0  3.0  5.0  4.0  4.0  \n",
       "3  4.0  3.0  5.0  4.0  4.0  "
      ]
     },
     "execution_count": 109,
     "metadata": {},
     "output_type": "execute_result"
    }
   ],
   "source": [
    "df_results = pd.DataFrame(results, columns=['Type',1,2,3,4,5,6,7,8,9,10,11,12,13,14,15,16,17,18])\n",
    "df_results.head()"
   ]
  },
  {
   "cell_type": "code",
   "execution_count": 110,
   "metadata": {},
   "outputs": [
    {
     "name": "stdout",
     "output_type": "stream",
     "text": [
      "Round total (Actual): 66.0\n",
      "Round total (Default): 67.0\n",
      "Round total (Best): 69.0\n",
      "Round total (Poisson): 70.0\n"
     ]
    }
   ],
   "source": [
    "print('Round total (Actual):', y_sample.sum())\n",
    "print('Round total (Default):', y_sample_rf_default.sum())\n",
    "print('Round total (Best):', y_sample_rf_best.sum())\n",
    "print('Round total (Poisson):', y_sample_poisson.sum())"
   ]
  },
  {
   "cell_type": "code",
   "execution_count": 111,
   "metadata": {},
   "outputs": [
    {
     "name": "stdout",
     "output_type": "stream",
     "text": [
      "Accuracy (Default): 0.6007281553398058\n",
      "Accuracy (Best): 0.6378944174757282\n"
     ]
    }
   ],
   "source": [
    "# full test data prediction\n",
    "print('Accuracy (Default):', rf_default_model.score(X_test, y_test))\n",
    "print('Accuracy (Best):', rf_best_model.score(X_test, y_test))"
   ]
  },
  {
   "cell_type": "code",
   "execution_count": 113,
   "metadata": {},
   "outputs": [
    {
     "data": {
      "text/plain": [
       "[0.014973643202322985,\n",
       " 0.06291121901923442,\n",
       " 0.13215960287714323,\n",
       " 0.1850879266044648,\n",
       " 0.1944100532364599,\n",
       " 0.16336135800006948,\n",
       " 0.1143928037814641,\n",
       " 0.06865960251127441,\n",
       " 0.03605885382231366,\n",
       " 0.016833329662039497]"
      ]
     },
     "execution_count": 113,
     "metadata": {},
     "output_type": "execute_result"
    }
   ],
   "source": [
    "poisson_probabilities(poisson_model, df_sample)"
   ]
  },
  {
   "cell_type": "code",
   "execution_count": 129,
   "metadata": {},
   "outputs": [],
   "source": [
    "df_train_nocourse = load_and_process_no_course(TRAIN_FILE)\n",
    "df_val_nocourse = load_and_process_no_course(VAL_FILE)\n",
    "\n",
    "X_train_nocourse, y_train_nocourse = split_data(df_train_nocourse)\n",
    "X_val_nocourse, y_val_nocourse = split_data(df_val_nocourse)"
   ]
  },
  {
   "cell_type": "code",
   "execution_count": 130,
   "metadata": {},
   "outputs": [
    {
     "data": {
      "text/plain": [
       "0.5944279515871204"
      ]
     },
     "execution_count": 130,
     "metadata": {},
     "output_type": "execute_result"
    }
   ],
   "source": [
    "rf_default_nocourse_model = RandomForestClassifier()\n",
    "rf_default_nocourse_model.fit(X_train_nocourse, y_train_nocourse)\n",
    "y_pred_rf_default_nocourse = rf_default_nocourse_model.predict(X_val_nocourse)\n",
    "rf_default_nocourse_model.score(X_val_nocourse, y_val_nocourse)"
   ]
  },
  {
   "cell_type": "code",
   "execution_count": 118,
   "metadata": {},
   "outputs": [
    {
     "name": "stdout",
     "output_type": "stream",
     "text": [
      "RandomizedSearchCV took 49.05 seconds for 20 candidates parameter settings.\n",
      "Model with rank: 1\n",
      "Mean validation score: 0.635 (std: 0.009)\n",
      "Parameters: {'bootstrap': True, 'criterion': 'entropy', 'max_depth': 3, 'max_features': 9, 'min_samples_split': 10}\n",
      "\n",
      "Model with rank: 2\n",
      "Mean validation score: 0.633 (std: 0.010)\n",
      "Parameters: {'bootstrap': False, 'criterion': 'gini', 'max_depth': 3, 'max_features': 10, 'min_samples_split': 4}\n",
      "\n",
      "Model with rank: 3\n",
      "Mean validation score: 0.631 (std: 0.011)\n",
      "Parameters: {'bootstrap': True, 'criterion': 'entropy', 'max_depth': 3, 'max_features': 7, 'min_samples_split': 5}\n",
      "\n"
     ]
    }
   ],
   "source": [
    "run_search_cv(X_train_nocourse, y_train_nocourse, True)"
   ]
  },
  {
   "cell_type": "code",
   "execution_count": 119,
   "metadata": {},
   "outputs": [
    {
     "name": "stdout",
     "output_type": "stream",
     "text": [
      "GridSearchCV took 225.21 seconds for 96 candidate parameter settings.\n",
      "Model with rank: 1\n",
      "Mean validation score: 0.635 (std: 0.008)\n",
      "Parameters: {'bootstrap': True, 'criterion': 'entropy', 'max_depth': 3, 'max_features': 12, 'min_samples_split': 3}\n",
      "\n",
      "Model with rank: 2\n",
      "Mean validation score: 0.635 (std: 0.008)\n",
      "Parameters: {'bootstrap': False, 'criterion': 'entropy', 'max_depth': 3, 'max_features': 10, 'min_samples_split': 2}\n",
      "\n",
      "Model with rank: 2\n",
      "Mean validation score: 0.635 (std: 0.008)\n",
      "Parameters: {'bootstrap': False, 'criterion': 'entropy', 'max_depth': 3, 'max_features': 10, 'min_samples_split': 3}\n",
      "\n",
      "Model with rank: 2\n",
      "Mean validation score: 0.635 (std: 0.008)\n",
      "Parameters: {'bootstrap': False, 'criterion': 'entropy', 'max_depth': 3, 'max_features': 10, 'min_samples_split': 10}\n",
      "\n",
      "Model with rank: 2\n",
      "Mean validation score: 0.635 (std: 0.008)\n",
      "Parameters: {'bootstrap': False, 'criterion': 'entropy', 'max_depth': 3, 'max_features': 12, 'min_samples_split': 2}\n",
      "\n",
      "Model with rank: 2\n",
      "Mean validation score: 0.635 (std: 0.008)\n",
      "Parameters: {'bootstrap': False, 'criterion': 'entropy', 'max_depth': 3, 'max_features': 12, 'min_samples_split': 3}\n",
      "\n",
      "Model with rank: 2\n",
      "Mean validation score: 0.635 (std: 0.008)\n",
      "Parameters: {'bootstrap': False, 'criterion': 'entropy', 'max_depth': 3, 'max_features': 12, 'min_samples_split': 10}\n",
      "\n"
     ]
    }
   ],
   "source": [
    "run_search_cv(X_train_nocourse, y_train_nocourse, False)"
   ]
  },
  {
   "cell_type": "code",
   "execution_count": 132,
   "metadata": {},
   "outputs": [
    {
     "data": {
      "text/plain": [
       "0.6295196772474689"
      ]
     },
     "execution_count": 132,
     "metadata": {},
     "output_type": "execute_result"
    }
   ],
   "source": [
    "# create model for best model from searches\n",
    "rf_best_nocourse_model = RandomForestClassifier(bootstrap=True, criterion='entropy', max_depth=3,\n",
    "                                      max_features=12, min_samples_split=3)\n",
    "rf_best_nocourse_model.fit(X_train_nocourse, y_train_nocourse)\n",
    "y_pred_rf_best_nocourse = rf_best_nocourse_model.predict(X_val_nocourse)\n",
    "rf_best_nocourse_model.score(X_val_nocourse, y_val_nocourse)"
   ]
  },
  {
   "cell_type": "code",
   "execution_count": 133,
   "metadata": {},
   "outputs": [],
   "source": [
    "pickle.dump(rf_default_nocourse_model, open('./models/hole-prediction-rf-default-nocourse.pkl', 'wb'))\n",
    "pickle.dump(rf_best_nocourse_model, open('./models/hole-prediction-rf-best-nocourse.pkl', 'wb'))"
   ]
  },
  {
   "cell_type": "code",
   "execution_count": 134,
   "metadata": {},
   "outputs": [
    {
     "name": "stdout",
     "output_type": "stream",
     "text": [
      "Actual Scores: 0    4.0\n",
      "1    3.0\n",
      "2    4.0\n",
      "3    3.0\n",
      "4    5.0\n",
      "Name: Score, dtype: float64\n",
      "Predicted Scores: [4. 3. 4. 3. 5.]\n",
      "Mean Actual Scores: 3.893988892518785\n",
      "Mean Predicted Scores: 3.8263682728172337\n",
      "Cross Validation: [0.9630355  0.66723842 0.96248161]\n",
      "\n",
      "                     importance\n",
      "ActualYard             0.729075\n",
      "Par                    0.090464\n",
      "DrivingDistance        0.019564\n",
      "AvgSGApproach          0.019094\n",
      "PuttsPerHoleGIR        0.018558\n",
      "AvgSGOTT               0.018350\n",
      "AvgSGAroundtheGreen    0.018149\n",
      "GreeninRegulation      0.018086\n",
      "AvgSGPutting           0.017874\n",
      "DrivingAccuracy        0.017459\n",
      "ScramblingSuccess      0.017389\n",
      "PuttsPerHole           0.015939\n"
     ]
    }
   ],
   "source": [
    "run_simple_model_eval(rf_default_nocourse_model, X_train_nocourse, y_train_nocourse, y_pred_rf_default_nocourse)"
   ]
  },
  {
   "cell_type": "code",
   "execution_count": 135,
   "metadata": {},
   "outputs": [
    {
     "name": "stdout",
     "output_type": "stream",
     "text": [
      "Actual Scores: 0    4.0\n",
      "1    3.0\n",
      "2    4.0\n",
      "3    3.0\n",
      "4    5.0\n",
      "Name: Score, dtype: float64\n",
      "Predicted Scores: [4. 3. 4. 4. 4.]\n",
      "Mean Actual Scores: 3.893988892518785\n",
      "Mean Predicted Scores: 3.829717591535358\n",
      "Cross Validation: [0.96768666 0.96814506 0.96812163]\n",
      "\n",
      "            importance\n",
      "Par           0.937325\n",
      "ActualYard    0.053690\n"
     ]
    }
   ],
   "source": [
    "run_simple_model_eval(rf_best_nocourse_model, X_train_nocourse, y_train_nocourse, y_pred_rf_best_nocourse)"
   ]
  },
  {
   "cell_type": "code",
   "execution_count": 136,
   "metadata": {},
   "outputs": [
    {
     "name": "stdout",
     "output_type": "stream",
     "text": [
      "Actual Score: 5\n",
      "Predicted Score: [5.]\n"
     ]
    }
   ],
   "source": [
    "test_data = run_test_hole(rf_default_nocourse_model, is_nocourse=True)"
   ]
  },
  {
   "cell_type": "code",
   "execution_count": 137,
   "metadata": {},
   "outputs": [
    {
     "name": "stdout",
     "output_type": "stream",
     "text": [
      "Actual Score: 5\n",
      "Predicted Score: [5.]\n"
     ]
    }
   ],
   "source": [
    "test_data = run_test_hole(rf_best_nocourse_model, is_nocourse=True)"
   ]
  },
  {
   "cell_type": "code",
   "execution_count": 138,
   "metadata": {},
   "outputs": [
    {
     "name": "stdout",
     "output_type": "stream",
     "text": [
      "Accuracy (Default): 0.6666666666666666\n",
      "Accuracy (Best): 0.7222222222222222\n"
     ]
    }
   ],
   "source": [
    "# run test of a full 18 holes\n",
    "file = './data/holes-phil-test.csv'\n",
    "\n",
    "df_sample_nocourse = load_and_process_no_course(file)\n",
    "X_sample_nocourse, y_sample_nocourse = split_data(df_sample_nocourse)\n",
    "\n",
    "print('Accuracy (Default):', rf_default_nocourse_model.score(X_sample_nocourse, y_sample_nocourse))\n",
    "print('Accuracy (Best):', rf_best_nocourse_model.score(X_sample_nocourse, y_sample_nocourse))"
   ]
  },
  {
   "cell_type": "code",
   "execution_count": 139,
   "metadata": {},
   "outputs": [
    {
     "data": {
      "text/html": [
       "<div>\n",
       "<style scoped>\n",
       "    .dataframe tbody tr th:only-of-type {\n",
       "        vertical-align: middle;\n",
       "    }\n",
       "\n",
       "    .dataframe tbody tr th {\n",
       "        vertical-align: top;\n",
       "    }\n",
       "\n",
       "    .dataframe thead th {\n",
       "        text-align: right;\n",
       "    }\n",
       "</style>\n",
       "<table border=\"1\" class=\"dataframe\">\n",
       "  <thead>\n",
       "    <tr style=\"text-align: right;\">\n",
       "      <th></th>\n",
       "      <th>Type</th>\n",
       "      <th>1</th>\n",
       "      <th>2</th>\n",
       "      <th>3</th>\n",
       "      <th>4</th>\n",
       "      <th>5</th>\n",
       "      <th>6</th>\n",
       "      <th>7</th>\n",
       "      <th>8</th>\n",
       "      <th>9</th>\n",
       "      <th>10</th>\n",
       "      <th>11</th>\n",
       "      <th>12</th>\n",
       "      <th>13</th>\n",
       "      <th>14</th>\n",
       "      <th>15</th>\n",
       "      <th>16</th>\n",
       "      <th>17</th>\n",
       "      <th>18</th>\n",
       "    </tr>\n",
       "  </thead>\n",
       "  <tbody>\n",
       "    <tr>\n",
       "      <th>0</th>\n",
       "      <td>Actual</td>\n",
       "      <td>4.0</td>\n",
       "      <td>3.0</td>\n",
       "      <td>4.0</td>\n",
       "      <td>4.0</td>\n",
       "      <td>2.0</td>\n",
       "      <td>5.0</td>\n",
       "      <td>2.0</td>\n",
       "      <td>4.0</td>\n",
       "      <td>4.0</td>\n",
       "      <td>3.0</td>\n",
       "      <td>4.0</td>\n",
       "      <td>3.0</td>\n",
       "      <td>4.0</td>\n",
       "      <td>4.0</td>\n",
       "      <td>3.0</td>\n",
       "      <td>5.0</td>\n",
       "      <td>4.0</td>\n",
       "      <td>4.0</td>\n",
       "    </tr>\n",
       "    <tr>\n",
       "      <th>1</th>\n",
       "      <td>Default</td>\n",
       "      <td>4.0</td>\n",
       "      <td>5.0</td>\n",
       "      <td>4.0</td>\n",
       "      <td>4.0</td>\n",
       "      <td>3.0</td>\n",
       "      <td>4.0</td>\n",
       "      <td>3.0</td>\n",
       "      <td>4.0</td>\n",
       "      <td>4.0</td>\n",
       "      <td>4.0</td>\n",
       "      <td>4.0</td>\n",
       "      <td>3.0</td>\n",
       "      <td>4.0</td>\n",
       "      <td>4.0</td>\n",
       "      <td>3.0</td>\n",
       "      <td>5.0</td>\n",
       "      <td>3.0</td>\n",
       "      <td>4.0</td>\n",
       "    </tr>\n",
       "    <tr>\n",
       "      <th>2</th>\n",
       "      <td>Best</td>\n",
       "      <td>4.0</td>\n",
       "      <td>4.0</td>\n",
       "      <td>4.0</td>\n",
       "      <td>4.0</td>\n",
       "      <td>3.0</td>\n",
       "      <td>4.0</td>\n",
       "      <td>3.0</td>\n",
       "      <td>4.0</td>\n",
       "      <td>4.0</td>\n",
       "      <td>4.0</td>\n",
       "      <td>4.0</td>\n",
       "      <td>3.0</td>\n",
       "      <td>4.0</td>\n",
       "      <td>4.0</td>\n",
       "      <td>3.0</td>\n",
       "      <td>5.0</td>\n",
       "      <td>4.0</td>\n",
       "      <td>4.0</td>\n",
       "    </tr>\n",
       "  </tbody>\n",
       "</table>\n",
       "</div>"
      ],
      "text/plain": [
       "      Type    1    2    3    4    5    6    7    8    9   10   11   12   13  \\\n",
       "0   Actual  4.0  3.0  4.0  4.0  2.0  5.0  2.0  4.0  4.0  3.0  4.0  3.0  4.0   \n",
       "1  Default  4.0  5.0  4.0  4.0  3.0  4.0  3.0  4.0  4.0  4.0  4.0  3.0  4.0   \n",
       "2     Best  4.0  4.0  4.0  4.0  3.0  4.0  3.0  4.0  4.0  4.0  4.0  3.0  4.0   \n",
       "\n",
       "    14   15   16   17   18  \n",
       "0  4.0  3.0  5.0  4.0  4.0  \n",
       "1  4.0  3.0  5.0  3.0  4.0  \n",
       "2  4.0  3.0  5.0  4.0  4.0  "
      ]
     },
     "execution_count": 139,
     "metadata": {},
     "output_type": "execute_result"
    }
   ],
   "source": [
    "y_sample_rf_default_nocourse = rf_default_nocourse_model.predict(X_sample_nocourse)\n",
    "y_sample_rf_best_nocourse = rf_best_nocourse_model.predict(X_sample_nocourse)\n",
    "\n",
    "results_nocourse = [\n",
    "    ['Actual'] + list(y_sample_nocourse),\n",
    "    ['Default'] + list(y_sample_rf_default_nocourse),\n",
    "    ['Best'] + list(y_sample_rf_best_nocourse)\n",
    "]\n",
    "df_results_nocourse = pd.DataFrame(results_nocourse, columns=['Type',1,2,3,4,5,6,7,8,9,10,11,12,13,14,15,16,17,18])\n",
    "df_results_nocourse.head()"
   ]
  },
  {
   "cell_type": "code",
   "execution_count": 140,
   "metadata": {},
   "outputs": [
    {
     "name": "stdout",
     "output_type": "stream",
     "text": [
      "Round total (Actual): 66.0\n",
      "Round total (Default): 69.0\n",
      "Round total (Best): 69.0\n"
     ]
    }
   ],
   "source": [
    "print('Round total (Actual):', y_sample_nocourse.sum())\n",
    "print('Round total (Default):', y_sample_rf_default_nocourse.sum())\n",
    "print('Round total (Best):', y_sample_rf_best_nocourse.sum())"
   ]
  },
  {
   "cell_type": "code",
   "execution_count": 141,
   "metadata": {},
   "outputs": [
    {
     "name": "stdout",
     "output_type": "stream",
     "text": [
      "Accuracy (Default): 0.6014866504854369\n",
      "Accuracy (Best): 0.6378185679611651\n"
     ]
    }
   ],
   "source": [
    "# full test data prediction\n",
    "df_test_nocourse = load_and_process_no_course(TEST_FILE)\n",
    "X_test_nocourse, y_test_nocourse = split_data(df_test_nocourse)\n",
    "print('Accuracy (Default):', rf_default_nocourse_model.score(X_test_nocourse, y_test_nocourse))\n",
    "print('Accuracy (Best):', rf_best_nocourse_model.score(X_test_nocourse, y_test_nocourse))"
   ]
  },
  {
   "cell_type": "code",
   "execution_count": 146,
   "metadata": {},
   "outputs": [
    {
     "name": "stdout",
     "output_type": "stream",
     "text": [
      "Actual Scores: 0    4.0\n",
      "1    3.0\n",
      "2    4.0\n",
      "3    3.0\n",
      "4    5.0\n",
      "Name: Score, dtype: float64\n",
      "Predicted Scores: [4. 3. 4. 4. 4.]\n",
      "Mean Actual Scores: 3.893988892518785\n",
      "Mean Predicted Scores: 3.829717591535358\n",
      "Cross Validation: [0.96768666 0.96814506 0.96812163]\n",
      "\n",
      "            importance\n",
      "Par           0.937325\n",
      "ActualYard    0.053690\n"
     ]
    }
   ],
   "source": [
    "run_simple_model_eval(rf_best_nocourse_model, X_train_nocourse, y_train_nocourse, y_pred_rf_best_nocourse)"
   ]
  },
  {
   "cell_type": "code",
   "execution_count": 148,
   "metadata": {},
   "outputs": [
    {
     "name": "stdout",
     "output_type": "stream",
     "text": [
      "Actual Scores: 0    4.0\n",
      "1    3.0\n",
      "2    4.0\n",
      "3    3.0\n",
      "4    5.0\n",
      "Name: Score, dtype: float64\n",
      "Predicted Scores: [4. 3. 4. 4. 4.]\n",
      "Mean Actual Scores: 3.893988892518785\n",
      "Mean Predicted Scores: 3.829717591535358\n",
      "Cross Validation: [0.96621787 0.73462387 0.96125552]\n",
      "\n",
      "                     importance\n",
      "ActualYard             0.729075\n",
      "Par                    0.090464\n",
      "DrivingDistance        0.019564\n",
      "AvgSGApproach          0.019094\n",
      "PuttsPerHoleGIR        0.018558\n",
      "AvgSGOTT               0.018350\n",
      "AvgSGAroundtheGreen    0.018149\n",
      "GreeninRegulation      0.018086\n",
      "AvgSGPutting           0.017874\n",
      "DrivingAccuracy        0.017459\n",
      "ScramblingSuccess      0.017389\n",
      "PuttsPerHole           0.015939\n"
     ]
    }
   ],
   "source": [
    "run_simple_model_eval(rf_default_nocourse_model, X_train_nocourse, y_train_nocourse, y_pred_rf_best_nocourse)"
   ]
  },
  {
   "cell_type": "code",
   "execution_count": 149,
   "metadata": {},
   "outputs": [
    {
     "data": {
      "text/plain": [
       "12"
      ]
     },
     "execution_count": 149,
     "metadata": {},
     "output_type": "execute_result"
    }
   ],
   "source": [
    "len(X_train_nocourse.columns)"
   ]
  },
  {
   "cell_type": "code",
   "execution_count": 150,
   "metadata": {},
   "outputs": [
    {
     "data": {
      "text/plain": [
       "21"
      ]
     },
     "execution_count": 150,
     "metadata": {},
     "output_type": "execute_result"
    }
   ],
   "source": [
    "len(X_train.columns)"
   ]
  },
  {
   "cell_type": "code",
   "execution_count": null,
   "metadata": {},
   "outputs": [],
   "source": []
  }
 ],
 "metadata": {
  "kernelspec": {
   "display_name": "Python 3",
   "language": "python",
   "name": "python3"
  },
  "language_info": {
   "codemirror_mode": {
    "name": "ipython",
    "version": 3
   },
   "file_extension": ".py",
   "mimetype": "text/x-python",
   "name": "python",
   "nbconvert_exporter": "python",
   "pygments_lexer": "ipython3",
   "version": "3.6.5"
  }
 },
 "nbformat": 4,
 "nbformat_minor": 2
}

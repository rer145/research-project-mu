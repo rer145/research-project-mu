{
 "cells": [
  {
   "cell_type": "code",
   "execution_count": 1,
   "metadata": {},
   "outputs": [],
   "source": [
    "import numpy as np\n",
    "import pandas as pd\n",
    "from IPython.display import display\n",
    "import matplotlib.pyplot as plt\n",
    "import time\n",
    "import math\n",
    "import pickle\n",
    "\n",
    "%matplotlib inline\n",
    "pd.set_option('display.max_columns', None)"
   ]
  },
  {
   "cell_type": "code",
   "execution_count": 2,
   "metadata": {},
   "outputs": [],
   "source": [
    "model = pickle.load(open('./models/hole-prediction-rf.pkl', 'rb'))"
   ]
  },
  {
   "cell_type": "code",
   "execution_count": 3,
   "metadata": {},
   "outputs": [],
   "source": [
    "features = [\n",
    "    'Round', 'TotalSGPutting', 'AvgSGOTT', 'AvgSGApproach',\n",
    "    'AvgSGAroundtheGreen', 'Actual350Distance', 'GrnFirmness_Medium',\n",
    "    'GrnFirmness_Soft', 'GrnFirmness_Unknown',\n",
    "    'TeeGrass_TifsportBermudagrass', 'FwyGrass_419BermudagrassRyegrass',\n",
    "    'FwyGrass_419HybridBermudagrass', 'FwyGrass_Bermudagrass',\n",
    "    'FwyGrass_BermudagrassRyegrass', 'FwyGrass_Bluegrass',\n",
    "    'FwyGrass_CreepingBentgrass', 'FwyGrass_Paspalum',\n",
    "    'FwyGrass_PenncrossBentgrassPoaa', 'FwyGrass_SouthshoreBentgrass',\n",
    "    'FwyGrass_TifsportBermudagrass', 'FwyGrass_Zoysiagrass',\n",
    "    'RoughGrass_328BermudagrassRyegrass',\n",
    "    'RoughGrass_419BermudagrassBuffal',\n",
    "    'RoughGrass_419BermudagrassRyegrass', 'RoughGrass_Bermudagrass',\n",
    "    'RoughGrass_BermudagrassOverseededR', 'RoughGrass_Bluegrass',\n",
    "    'RoughGrass_BluegrassFescue', 'RoughGrass_BluegrassRyegrass',\n",
    "    'RoughGrass_BluegrassRyegrassFescue',\n",
    "    'RoughGrass_Common419Bermudagrass', 'RoughGrass_KentuckyBluegrass',\n",
    "    'RoughGrass_KikuyugrassRyegrass', 'RoughGrass_PerennialRyegrass',\n",
    "    'RoughGrass_Ryegrass', 'RoughGrass_TallFescue',\n",
    "    'RoughGrass_TifsportBermudagrass', 'WindDir_G', 'WindDir_0',\n",
    "    'WindDir_C', 'WindDir_DW', 'WindDir_IW', 'WindDir_LR', 'WindDir_SW'\n",
    "]"
   ]
  },
  {
   "cell_type": "code",
   "execution_count": 4,
   "metadata": {},
   "outputs": [],
   "source": [
    "def parse_time_to_hour(x):\n",
    "    return int(x[:2])\n",
    "\n",
    "def is_morning(x):\n",
    "    return x < 13\n",
    "\n",
    "def get_wind(t, a, p):\n",
    "    if is_morning(t):\n",
    "        return a\n",
    "    else:\n",
    "        return p"
   ]
  },
  {
   "cell_type": "code",
   "execution_count": 22,
   "metadata": {},
   "outputs": [],
   "source": [
    "def load_and_process(file, player=None, tournament=None, year=None, r=None):\n",
    "    columns = [\n",
    "        'Id', 'Name', 'Tournament Year', 'Tournament Schedule', 'Event Name', 'Course Name', 'Round', \n",
    "        'Hole', 'Total SG Putting', 'Avg SG Putting', 'Total SG OTT', 'Avg SG OTT', 'Total SG Approach', \n",
    "        'Avg SG Approach', 'Total SG Around the Green', 'Avg SG Around the Green', 'Par', 'Actual Yard', \n",
    "        'Fwy Firmness', 'Grn Firmness', 'Stimp', 'Fwy Height', 'Grn Height', 'Rough Height', 'Tee Grass', \n",
    "        'Fwy. Grass', 'Rough Grass', 'Actual 250 Distance', 'Actual 275 Distance', 'Actual 300 Distance', \n",
    "        'Actual 325 Distance', 'Actual 350 Distance', 'AM Wind Spd', 'AM Wind Dir', 'PM Wind Spd', \n",
    "        'PM Wind Dir', 'Time Hole Finished', 'Hit Fwy', 'Hit Green', 'Hit Greenside Bunker', 'Tee Shot Landing Loc', \n",
    "        'Score'\n",
    "    ]    \n",
    "    df = pd.read_csv(file, index_col=None, names=columns)\n",
    "    \n",
    "    if player != None:\n",
    "        df = df.loc[(df['Id'] == player)]\n",
    "        \n",
    "    if tournament != None:\n",
    "        df = df.loc[(df['Tournament Schedule'] == tournament)]\n",
    "        \n",
    "    if year != None:\n",
    "        df = df.loc[(df['Tournament Year'] == year)]\n",
    "        \n",
    "    if r != None:\n",
    "        df = df.loc[(df['Round'] == r)]\n",
    "    \n",
    "    if df.shape[0] > 0:\n",
    "        # convert time to just the hour (24-hour)\n",
    "        df['Time Hole Finished'] = df['Time Hole Finished'].apply(parse_time_to_hour)\n",
    "\n",
    "        # determine wind speed and direction at time of hole played (am/pm)\n",
    "        # drop old columns\n",
    "        df['Wind Dir'] = np.vectorize(get_wind)(df['Time Hole Finished'], df['AM Wind Dir'], df['PM Wind Dir'])\n",
    "        df['Wind Spd'] = np.vectorize(get_wind)(df['Time Hole Finished'], df['AM Wind Spd'], df['PM Wind Spd'])\n",
    "        df.drop(['AM Wind Dir', 'AM Wind Spd', 'PM Wind Dir', 'PM Wind Spd'], axis=1, inplace=True)\n",
    "\n",
    "        # drop result columns (include later for potential simulations?)\n",
    "        df.drop(['Hit Fwy', 'Hit Green', 'Hit Greenside Bunker', 'Tee Shot Landing Loc'], axis=1, inplace=True)\n",
    "\n",
    "        # drop non-features (only for identification)\n",
    "        df.drop(['Id', 'Name', 'Tournament Year', 'Tournament Schedule', 'Event Name', 'Course Name', 'Hole'], axis=1, inplace=True)\n",
    "\n",
    "        # one hot encode firmness and grasses\n",
    "        df = pd.get_dummies(df, columns=['Fwy Firmness', 'Grn Firmness', 'Tee Grass', 'Fwy. Grass', 'Rough Grass'])\n",
    "\n",
    "        # one hot encode wind dir ({' G', '0', 'C', 'DW', 'IW', 'LR', 'RL', 'SW'})\n",
    "        df = pd.get_dummies(df, columns=['Wind Dir'])\n",
    "\n",
    "        # drop wind spd for now until method of parsing can be determined\n",
    "        df.drop(['Wind Spd'], axis=1, inplace=True)\n",
    "\n",
    "        # rename columns to remove non-alpha chars\n",
    "        renamed_cols = {}\n",
    "        for x in df.columns:\n",
    "            renamed_cols[x] = x.replace('/','').replace('&','').replace('#','').replace(' ','').replace('.','')\n",
    "\n",
    "        df.rename(columns=renamed_cols, inplace=True)\n",
    "\n",
    "        # run values through a standard scalar?\n",
    "\n",
    "    return df"
   ]
  },
  {
   "cell_type": "code",
   "execution_count": 23,
   "metadata": {},
   "outputs": [],
   "source": [
    "def split_data(data):\n",
    "    X = data.drop('Score', axis=1, inplace=False)\n",
    "    y = data['Score']\n",
    "    return X, y\n",
    "\n",
    "def normalize_data(X):\n",
    "    cols = X.columns\n",
    "    return pd.DataFrame(MinMaxScaler().fit_transform(X), columns=cols)"
   ]
  },
  {
   "cell_type": "code",
   "execution_count": 24,
   "metadata": {},
   "outputs": [],
   "source": [
    "def load_and_process_filter(file, columns_filter, player=None, tournament=None, year=None, r=None):\n",
    "    df = load_and_process(file, player=player, tournament=tournament, year=year, r=r)\n",
    "    X, y = split_data(df)\n",
    "    \n",
    "    same_cols = list(set(columns_filter).intersection(set(X.columns)))\n",
    "    diff_cols = list(set(columns_filter).difference(set(X.columns)))\n",
    "    X = X[same_cols]\n",
    "    for col in diff_cols:\n",
    "        X[col] = 0\n",
    "    return X, y"
   ]
  },
  {
   "cell_type": "code",
   "execution_count": 28,
   "metadata": {},
   "outputs": [
    {
     "data": {
      "text/plain": [
       "(18, 44)"
      ]
     },
     "execution_count": 28,
     "metadata": {},
     "output_type": "execute_result"
    }
   ],
   "source": [
    "X, y = load_and_process_filter('./data/holes-2018.csv', columns_filter=features, player=1810, r=1, year=2018, tournament=200)\n",
    "X.shape"
   ]
  },
  {
   "cell_type": "code",
   "execution_count": 31,
   "metadata": {},
   "outputs": [
    {
     "data": {
      "text/plain": [
       "69.0"
      ]
     },
     "execution_count": 31,
     "metadata": {},
     "output_type": "execute_result"
    }
   ],
   "source": [
    "np.sum(y)"
   ]
  },
  {
   "cell_type": "code",
   "execution_count": 32,
   "metadata": {},
   "outputs": [
    {
     "data": {
      "text/plain": [
       "58.84059523809524"
      ]
     },
     "execution_count": 32,
     "metadata": {},
     "output_type": "execute_result"
    }
   ],
   "source": [
    "y_pred = model.predict(X)\n",
    "np.sum(y_pred)"
   ]
  },
  {
   "cell_type": "code",
   "execution_count": 35,
   "metadata": {},
   "outputs": [
    {
     "data": {
      "text/plain": [
       "56.0"
      ]
     },
     "execution_count": 35,
     "metadata": {},
     "output_type": "execute_result"
    }
   ],
   "source": [
    "y_pred2 = np.round(y_pred,0)\n",
    "np.sum(y_pred2)"
   ]
  },
  {
   "cell_type": "code",
   "execution_count": 33,
   "metadata": {},
   "outputs": [
    {
     "data": {
      "text/plain": [
       "324    4.0\n",
       "325    3.0\n",
       "326    3.0\n",
       "327    4.0\n",
       "328    4.0\n",
       "329    4.0\n",
       "330    2.0\n",
       "331    4.0\n",
       "332    4.0\n",
       "333    4.0\n",
       "334    5.0\n",
       "335    3.0\n",
       "336    3.0\n",
       "337    6.0\n",
       "338    4.0\n",
       "339    4.0\n",
       "340    3.0\n",
       "341    5.0\n",
       "Name: Score, dtype: float64"
      ]
     },
     "execution_count": 33,
     "metadata": {},
     "output_type": "execute_result"
    }
   ],
   "source": [
    "y"
   ]
  },
  {
   "cell_type": "code",
   "execution_count": 34,
   "metadata": {},
   "outputs": [
    {
     "data": {
      "text/plain": [
       "array([3.08678571, 3.61666667, 3.18678571, 3.36666667, 3.36666667,\n",
       "       3.11      , 3.08678571, 3.11      , 3.18678571, 3.61666667,\n",
       "       3.36666667, 3.36666667, 3.3       , 3.36666667, 3.11      ,\n",
       "       3.11      , 3.3       , 3.18678571])"
      ]
     },
     "execution_count": 34,
     "metadata": {},
     "output_type": "execute_result"
    }
   ],
   "source": [
    "y_pred"
   ]
  },
  {
   "cell_type": "code",
   "execution_count": null,
   "metadata": {},
   "outputs": [],
   "source": []
  },
  {
   "cell_type": "code",
   "execution_count": null,
   "metadata": {},
   "outputs": [],
   "source": [
    "\n",
    "#dict(a, **b)"
   ]
  },
  {
   "cell_type": "markdown",
   "metadata": {},
   "source": []
  }
 ],
 "metadata": {
  "kernelspec": {
   "display_name": "Python 3",
   "language": "python",
   "name": "python3"
  },
  "language_info": {
   "codemirror_mode": {
    "name": "ipython",
    "version": 3
   },
   "file_extension": ".py",
   "mimetype": "text/x-python",
   "name": "python",
   "nbconvert_exporter": "python",
   "pygments_lexer": "ipython3",
   "version": "3.6.5"
  }
 },
 "nbformat": 4,
 "nbformat_minor": 2
}

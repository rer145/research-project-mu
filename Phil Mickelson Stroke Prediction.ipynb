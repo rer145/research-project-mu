{
 "cells": [
  {
   "cell_type": "code",
   "execution_count": 102,
   "metadata": {},
   "outputs": [],
   "source": [
    "import numpy as np\n",
    "import pandas as pd\n",
    "from IPython.display import display\n",
    "import matplotlib.pyplot as plt\n",
    "import time\n",
    "import math\n",
    "import pickle\n",
    "\n",
    "from sklearn.preprocessing import LabelEncoder\n",
    "from sklearn.preprocessing import OneHotEncoder\n",
    "from sklearn.utils import shuffle\n",
    "\n",
    "from sklearn import linear_model\n",
    "from sklearn import ensemble\n",
    "\n",
    "from sklearn import metrics\n",
    "\n",
    "%matplotlib inline\n",
    "pd.set_option('display.max_columns', None)"
   ]
  },
  {
   "cell_type": "code",
   "execution_count": 48,
   "metadata": {},
   "outputs": [],
   "source": [
    "TRAIN_FILE = './data/phil-mickelson-strokes-train.csv'\n",
    "TEST_FILE = './data/phil-mickelson-strokes-test.csv'"
   ]
  },
  {
   "cell_type": "code",
   "execution_count": 71,
   "metadata": {},
   "outputs": [],
   "source": [
    "def load_and_process_data(file):\n",
    "    df = pd.read_csv(file, index_col=None)\n",
    "    \n",
    "    df.drop(\n",
    "        columns=['Player Name', 'Course Name', 'AM Wind Spd', 'AM Wind Dir', 'PM Wind Spd', 'PM Wind Dir'],\n",
    "        axis=1,\n",
    "        inplace=True\n",
    "    )\n",
    "    \n",
    "    df.drop(\n",
    "        columns=['Tee Grass', 'Fwy. Grass', 'Green Grass', 'Rough Grass', 'From Location(Enhanced)', 'To Location(Enhanced)'],\n",
    "        axis=1,\n",
    "        inplace=True\n",
    "    )\n",
    "    \n",
    "    # year, tourn #, player #?, course #, round, hole, shot, time, one par, scorecard yrd, actual yrd, shot type, recovery shot\n",
    "    df.drop(\n",
    "        columns=['Tourn.#', 'Player #', 'Course #', 'Round', 'Hole', 'Shot', 'Time', 'Par', 'Scorecard Ydg', 'Actual Ydg', 'Shot Type(S/P/D)', 'Recovery Shot'],\n",
    "        axis=1,\n",
    "        inplace=True\n",
    "    )\n",
    "    \n",
    "    #df = pd.get_dummies(df, \n",
    "    #                    prefix=['Shot_Type', 'Around_the_Green', '1st_Putt', 'Left_Right', 'Recovery_Shot'], \n",
    "    #                    columns=['Shot Type(S/P/D)', 'Around the Green Flag', '1st Putt Flag', 'Left/Right', 'Recovery Shot'])\n",
    "    df = pd.get_dummies(df, \n",
    "                        prefix=['Around_the_Green', '1st_Putt', 'Left_Right'], \n",
    "                        columns=['Around the Green Flag', '1st Putt Flag', 'Left/Right'])\n",
    "    \n",
    "    encodings = {\n",
    "        'Lie': {\n",
    "            'Good': 1, \n",
    "            '0': -1, \n",
    "            'Unknown': -1, \n",
    "            'Buried': 2\n",
    "        },\n",
    "        'Elevation': {\n",
    "            'With': 1, \n",
    "            'Below Ball': 2, \n",
    "            '0': -1, \n",
    "            'Unmapped': -1, \n",
    "            'Above Ball': 2, \n",
    "            'Unknown': -1\n",
    "        },\n",
    "        'Slope': {\n",
    "            'Level': 1, \n",
    "            'Downhill': 2,\n",
    "            '0': -1, \n",
    "            'Unknown': -1,\n",
    "            'Uphill': 2\n",
    "        },\n",
    "        'Fwy Firmness': {\n",
    "            'Medium': 1, \n",
    "            'Firm': 2, \n",
    "            'Soft': 0, \n",
    "            'Unknown': -1\n",
    "        },\n",
    "        'Grn Firmness': {\n",
    "            'Soft': 0, \n",
    "            'Medium': 1, \n",
    "            'Firm': 2,\n",
    "            'Unknown': -1\n",
    "        },\n",
    "        'From Location(Scorer)': {\n",
    "            'Tee Box': 0, \n",
    "            'Fairway': 1, \n",
    "            'Fringe': 2, \n",
    "            'Green': 3, \n",
    "            'Intermediate Rough': 4, \n",
    "            'Primary Rough': 5, \n",
    "            'Green Side Bunker': 6, \n",
    "            'Fairway Bunker': 7, \n",
    "            'Native Area': 8, \n",
    "            '0': -1, \n",
    "            'Unknown': -1, \n",
    "            'Other': 9, \n",
    "            'Water': 10\n",
    "        },\n",
    "        'To Location(Scorer)': {\n",
    "            'Tee Box': 0, \n",
    "            'Fairway': 1, \n",
    "            'Fringe': 2,\n",
    "            'Green': 3, \n",
    "            'Intermediate Rough': 4, \n",
    "            'Primary Rough': 5, \n",
    "            'Green Side Bunker': 6, \n",
    "            'Fairway Bunker': 7,\n",
    "            'Waste Bunker': 7, \n",
    "            'Tree Outline': 8, \n",
    "            'Rock Outline': 8, \n",
    "            'Dirt Outline': 8,\n",
    "            'Cart Path': 9, \n",
    "            'Path': 9,\n",
    "            'Native Area': 10, \n",
    "            'Water': 11,\n",
    "            '0': -1, \n",
    "            'Unknown': -1\n",
    "        }\n",
    "    }\n",
    "    df.replace(encodings, inplace=True)\n",
    "    \n",
    "    # rearrage columns\n",
    "    cols = df.columns.tolist()\n",
    "    df = df[cols[4:6] + cols[:4] + cols[6:]]\n",
    "    \n",
    "    # drop nan\n",
    "    df.dropna(inplace=True)\n",
    "    \n",
    "    return df"
   ]
  },
  {
   "cell_type": "code",
   "execution_count": 72,
   "metadata": {},
   "outputs": [],
   "source": [
    "def split_data(df):\n",
    "    # return X, y\n",
    "    return df[df.columns[2:]], df[df.columns[:2]]"
   ]
  },
  {
   "cell_type": "code",
   "execution_count": 73,
   "metadata": {},
   "outputs": [],
   "source": [
    "df_train = load_and_process_data(TRAIN_FILE)\n",
    "df_test = load_and_process_data(TEST_FILE)"
   ]
  },
  {
   "cell_type": "code",
   "execution_count": 74,
   "metadata": {},
   "outputs": [
    {
     "name": "stdout",
     "output_type": "stream",
     "text": [
      "Training Shape (33673, 35)\n",
      "Test Shape (4602, 34)\n"
     ]
    }
   ],
   "source": [
    "print('Training Shape', df_train.shape)\n",
    "print('Test Shape', df_test.shape)"
   ]
  },
  {
   "cell_type": "code",
   "execution_count": 75,
   "metadata": {},
   "outputs": [
    {
     "name": "stdout",
     "output_type": "stream",
     "text": [
      "Training X Shape (33673, 33)\n",
      "Training y Shape (33673, 2)\n",
      "Test X Shape (4602, 32)\n",
      "Test y Shape (4602, 2)\n"
     ]
    }
   ],
   "source": [
    "X_train, y_train = split_data(df_train)\n",
    "X_test, y_test = split_data(df_test)\n",
    "\n",
    "print('Training X Shape', X_train.shape)\n",
    "print('Training y Shape', y_train.shape)\n",
    "print('Test X Shape', X_test.shape)\n",
    "print('Test y Shape', y_test.shape)"
   ]
  },
  {
   "cell_type": "code",
   "execution_count": 76,
   "metadata": {},
   "outputs": [
    {
     "name": "stderr",
     "output_type": "stream",
     "text": [
      "C:\\Program Files (x86)\\Microsoft Visual Studio\\Shared\\Anaconda3_64\\lib\\site-packages\\ipykernel_launcher.py:2: SettingWithCopyWarning: \n",
      "A value is trying to be set on a copy of a slice from a DataFrame.\n",
      "Try using .loc[row_indexer,col_indexer] = value instead\n",
      "\n",
      "See the caveats in the documentation: http://pandas.pydata.org/pandas-docs/stable/indexing.html#indexing-view-versus-copy\n",
      "  \n"
     ]
    },
    {
     "data": {
      "text/plain": [
       "(4602, 33)"
      ]
     },
     "execution_count": 76,
     "metadata": {},
     "output_type": "execute_result"
    }
   ],
   "source": [
    "# Missing column from OHE \n",
    "X_test['1st_Putt_0'] = 0\n",
    "X_test.shape"
   ]
  },
  {
   "cell_type": "code",
   "execution_count": 77,
   "metadata": {},
   "outputs": [],
   "source": [
    "from sklearn.multioutput import MultiOutputRegressor\n",
    "from sklearn.linear_model import LinearRegression\n",
    "\n",
    "multi_reg = MultiOutputRegressor(LinearRegression())\n",
    "multi_reg.fit(X_train, y_train)\n",
    "\n",
    "reg = LinearRegression()\n",
    "reg.fit(X_train, y_train)\n",
    "\n",
    "y_pred_multi = multi_reg.predict(X_test)\n",
    "y_pred = reg.predict(X_test)"
   ]
  },
  {
   "cell_type": "code",
   "execution_count": 78,
   "metadata": {},
   "outputs": [
    {
     "data": {
      "image/png": "[encoded data removed]",
      "text/plain": [
       "<Figure size 432x288 with 1 Axes>"
      ]
     },
     "metadata": {},
     "output_type": "display_data"
    }
   ],
   "source": [
    "plt.figure()\n",
    "s = 50\n",
    "a = 0.4\n",
    "plt.scatter(y_test[y_test.columns[0]], y_test[y_test.columns[1]], edgecolor='k',\n",
    "            c=\"navy\", s=s, marker=\"s\", alpha=a, label=\"Data\")\n",
    "plt.scatter(y_pred_multi[:, 0], y_pred_multi[:, 1], edgecolor='k',\n",
    "            c=\"cornflowerblue\", s=s, alpha=a,\n",
    "            label=\"Multi RF score=%.2f\" % multi_reg.score(X_test, y_test))\n",
    "plt.scatter(y_pred[:, 0], y_pred[:, 1], edgecolor='k',\n",
    "            c=\"c\", s=s, marker=\"^\", alpha=a,\n",
    "            label=\"RF score=%.2f\" % reg.score(X_test, y_test))\n",
    "plt.xlim([-6, 6])\n",
    "plt.ylim([-6, 6])\n",
    "plt.xlabel(\"target 1\")\n",
    "plt.ylabel(\"target 2\")\n",
    "plt.title(\"Comparing random forests and the multi-output meta estimator\")\n",
    "plt.legend()\n",
    "plt.show()"
   ]
  },
  {
   "cell_type": "code",
   "execution_count": 79,
   "metadata": {},
   "outputs": [
    {
     "data": {
      "text/plain": [
       "0.6001321544597881"
      ]
     },
     "execution_count": 79,
     "metadata": {},
     "output_type": "execute_result"
    }
   ],
   "source": [
    "reg.score(X_test, y_test)"
   ]
  },
  {
   "cell_type": "code",
   "execution_count": 80,
   "metadata": {},
   "outputs": [
    {
     "data": {
      "text/plain": [
       "array([-6.05165297e+00, -8.82341517e+04])"
      ]
     },
     "execution_count": 80,
     "metadata": {},
     "output_type": "execute_result"
    }
   ],
   "source": [
    "reg.intercept_"
   ]
  },
  {
   "cell_type": "code",
   "execution_count": 81,
   "metadata": {},
   "outputs": [
    {
     "data": {
      "text/plain": [
       "array([[ 4.77056306e-03,  6.92993596e-03, -2.90873198e-04,\n",
       "         8.95141516e-02,  6.62238643e-02, -2.52731492e-01,\n",
       "         9.44668395e-02,  2.02906269e-03,  3.35676058e-04,\n",
       "         2.44052737e-02,  6.06279063e-02,  5.01859574e-04,\n",
       "        -1.64615466e-02, -3.88379644e-03, -7.08298050e-04,\n",
       "        -2.54599366e-03, -7.31212386e-04, -2.85684516e-03,\n",
       "         4.13072901e-03, -1.70894560e-03, -1.55912737e-04,\n",
       "        -2.97894330e-03,  2.20097876e-03, -2.13777624e-03,\n",
       "         8.50849922e-04, -2.17894265e+00,  2.17894265e+00,\n",
       "        -5.59873964e-02, -1.32632595e-01,  1.88619991e-01,\n",
       "        -2.43990168e+00,  1.22781235e+00,  1.21208933e+00],\n",
       "       [ 4.39276461e+01,  8.12470006e+01,  7.40158754e+00,\n",
       "        -1.47701874e+03, -6.62938551e+02,  2.96476076e+03,\n",
       "         1.35064933e+03,  7.34531978e+00, -1.41362465e+00,\n",
       "         5.25916217e+01, -1.01885727e+03,  3.94792494e+01,\n",
       "        -6.21098598e+01,  2.37911731e+01,  4.41570825e+01,\n",
       "        -6.76145346e+00,  7.99872006e-01, -2.65407913e+00,\n",
       "         2.76299900e+00,  1.06518194e+00,  2.12230224e+00,\n",
       "        -2.09088563e-01,  8.25761949e+00,  1.36424986e+00,\n",
       "         2.20095909e+00, -8.37009327e+02,  8.37009327e+02,\n",
       "         1.00479024e+03,  7.05735012e+02, -1.71052526e+03,\n",
       "        -2.16663735e+03,  1.15125342e+03,  1.01538393e+03]])"
      ]
     },
     "execution_count": 81,
     "metadata": {},
     "output_type": "execute_result"
    }
   ],
   "source": [
    "reg.coef_"
   ]
  },
  {
   "cell_type": "code",
   "execution_count": 82,
   "metadata": {},
   "outputs": [
    {
     "data": {
      "text/html": [
       "<div>\n",
       "<style scoped>\n",
       "    .dataframe tbody tr th:only-of-type {\n",
       "        vertical-align: middle;\n",
       "    }\n",
       "\n",
       "    .dataframe tbody tr th {\n",
       "        vertical-align: top;\n",
       "    }\n",
       "\n",
       "    .dataframe thead th {\n",
       "        text-align: right;\n",
       "    }\n",
       "</style>\n",
       "<table border=\"1\" class=\"dataframe\">\n",
       "  <thead>\n",
       "    <tr style=\"text-align: right;\">\n",
       "      <th></th>\n",
       "      <th>Year</th>\n",
       "      <th>Par Value</th>\n",
       "      <th>Yardage</th>\n",
       "      <th>From Location(Scorer)</th>\n",
       "      <th>Lie</th>\n",
       "      <th>Elevation</th>\n",
       "      <th>Slope</th>\n",
       "      <th>Distance from Center</th>\n",
       "      <th>Distance from Edge</th>\n",
       "      <th>Fwy Firmness</th>\n",
       "      <th>Fwy Height</th>\n",
       "      <th>Grn Firmness</th>\n",
       "      <th>Grn Height</th>\n",
       "      <th>Rough Height</th>\n",
       "      <th>Stimp</th>\n",
       "      <th>Fwy Width 250</th>\n",
       "      <th>Fwy Width 275</th>\n",
       "      <th>Fwy Width 300</th>\n",
       "      <th>Fwy Width 325</th>\n",
       "      <th>Fwy Width 350</th>\n",
       "      <th>Actual 250 Distance</th>\n",
       "      <th>Actual 275 Distance</th>\n",
       "      <th>Actual 300 Distance</th>\n",
       "      <th>Actual 325 Distance</th>\n",
       "      <th>Actual 350 Distance</th>\n",
       "      <th>Around_the_Green_N</th>\n",
       "      <th>Around_the_Green_Y</th>\n",
       "      <th>1st_Putt_N</th>\n",
       "      <th>1st_Putt_Y</th>\n",
       "      <th>Left_Right_0</th>\n",
       "      <th>Left_Right_L</th>\n",
       "      <th>Left_Right_R</th>\n",
       "      <th>1st_Putt_0</th>\n",
       "    </tr>\n",
       "  </thead>\n",
       "  <tbody>\n",
       "    <tr>\n",
       "      <th>0</th>\n",
       "      <td>2018</td>\n",
       "      <td>4</td>\n",
       "      <td>436</td>\n",
       "      <td>0</td>\n",
       "      <td>1</td>\n",
       "      <td>1</td>\n",
       "      <td>1</td>\n",
       "      <td>1793</td>\n",
       "      <td>1333</td>\n",
       "      <td>2</td>\n",
       "      <td>0.44</td>\n",
       "      <td>2</td>\n",
       "      <td>0.11</td>\n",
       "      <td>2.5</td>\n",
       "      <td>11.75</td>\n",
       "      <td>22.0</td>\n",
       "      <td>24.0</td>\n",
       "      <td>25.0</td>\n",
       "      <td>26.0</td>\n",
       "      <td>27.0</td>\n",
       "      <td>25.0</td>\n",
       "      <td>27.0</td>\n",
       "      <td>30.0</td>\n",
       "      <td>32.0</td>\n",
       "      <td>35.0</td>\n",
       "      <td>1</td>\n",
       "      <td>0</td>\n",
       "      <td>1</td>\n",
       "      <td>0</td>\n",
       "      <td>0</td>\n",
       "      <td>0</td>\n",
       "      <td>1</td>\n",
       "      <td>0</td>\n",
       "    </tr>\n",
       "  </tbody>\n",
       "</table>\n",
       "</div>"
      ],
      "text/plain": [
       "   Year  Par Value  Yardage  From Location(Scorer)  Lie  Elevation  Slope  \\\n",
       "0  2018          4      436                      0    1          1      1   \n",
       "\n",
       "   Distance from Center  Distance from Edge Fwy Firmness  Fwy Height  \\\n",
       "0                  1793                1333            2        0.44   \n",
       "\n",
       "  Grn Firmness  Grn Height  Rough Height  Stimp  Fwy Width 250  Fwy Width 275  \\\n",
       "0            2        0.11           2.5  11.75           22.0           24.0   \n",
       "\n",
       "   Fwy Width 300  Fwy Width 325  Fwy Width 350  Actual 250 Distance  \\\n",
       "0           25.0           26.0           27.0                 25.0   \n",
       "\n",
       "   Actual 275 Distance  Actual 300 Distance  Actual 325 Distance  \\\n",
       "0                 27.0                 30.0                 32.0   \n",
       "\n",
       "   Actual 350 Distance  Around_the_Green_N  Around_the_Green_Y  1st_Putt_N  \\\n",
       "0                 35.0                   1                   0           1   \n",
       "\n",
       "   1st_Putt_Y  Left_Right_0  Left_Right_L  Left_Right_R  1st_Putt_0  \n",
       "0           0             0             0             1           0  "
      ]
     },
     "execution_count": 82,
     "metadata": {},
     "output_type": "execute_result"
    }
   ],
   "source": [
    "X_test[:1]"
   ]
  },
  {
   "cell_type": "code",
   "execution_count": 83,
   "metadata": {},
   "outputs": [
    {
     "data": {
      "text/html": [
       "<div>\n",
       "<style scoped>\n",
       "    .dataframe tbody tr th:only-of-type {\n",
       "        vertical-align: middle;\n",
       "    }\n",
       "\n",
       "    .dataframe tbody tr th {\n",
       "        vertical-align: top;\n",
       "    }\n",
       "\n",
       "    .dataframe thead th {\n",
       "        text-align: right;\n",
       "    }\n",
       "</style>\n",
       "<table border=\"1\" class=\"dataframe\">\n",
       "  <thead>\n",
       "    <tr style=\"text-align: right;\">\n",
       "      <th></th>\n",
       "      <th>To Location(Scorer)</th>\n",
       "      <th>Distance to Pin</th>\n",
       "    </tr>\n",
       "  </thead>\n",
       "  <tbody>\n",
       "    <tr>\n",
       "      <th>0</th>\n",
       "      <td>5</td>\n",
       "      <td>15480</td>\n",
       "    </tr>\n",
       "  </tbody>\n",
       "</table>\n",
       "</div>"
      ],
      "text/plain": [
       "   To Location(Scorer)  Distance to Pin\n",
       "0                    5            15480"
      ]
     },
     "execution_count": 83,
     "metadata": {},
     "output_type": "execute_result"
    }
   ],
   "source": [
    "y_test[:1]"
   ]
  },
  {
   "cell_type": "code",
   "execution_count": 84,
   "metadata": {},
   "outputs": [
    {
     "data": {
      "text/plain": [
       "array([[6.37864353e+00, 2.08490782e+04]])"
      ]
     },
     "execution_count": 84,
     "metadata": {},
     "output_type": "execute_result"
    }
   ],
   "source": [
    "y_pred[:1]"
   ]
  },
  {
   "cell_type": "code",
   "execution_count": 85,
   "metadata": {},
   "outputs": [
    {
     "name": "stdout",
     "output_type": "stream",
     "text": [
      "0.9804229540352183\n",
      "0.9942496046509453\n"
     ]
    }
   ],
   "source": [
    "from sklearn.ensemble import RandomForestRegressor\n",
    "\n",
    "multi_rf_reg = MultiOutputRegressor(RandomForestRegressor(n_estimators=100, max_depth=30, random_state=0))\n",
    "rf_reg = RandomForestRegressor(n_estimators=100, max_depth=30, random_state=0)\n",
    "\n",
    "multi_rf_reg.fit(X_test, y_test)\n",
    "rf_reg.fit(X_test, y_test)\n",
    "\n",
    "y_pred_multi = multi_rf_reg.predict(X_test)\n",
    "y_pred = rf_reg.predict(X_test)\n",
    "\n",
    "print(multi_rf_reg.score(X_test, y_test))\n",
    "print(rf_reg.score(X_test, y_test))"
   ]
  },
  {
   "cell_type": "code",
   "execution_count": 86,
   "metadata": {},
   "outputs": [],
   "source": [
    "import pickle\n",
    "pickle.dump(rf_reg, open('./models/phil-mickelson-stroke.pkl', 'wb'))"
   ]
  },
  {
   "cell_type": "code",
   "execution_count": 90,
   "metadata": {},
   "outputs": [
    {
     "data": {
      "text/html": [
       "<div>\n",
       "<style scoped>\n",
       "    .dataframe tbody tr th:only-of-type {\n",
       "        vertical-align: middle;\n",
       "    }\n",
       "\n",
       "    .dataframe tbody tr th {\n",
       "        vertical-align: top;\n",
       "    }\n",
       "\n",
       "    .dataframe thead th {\n",
       "        text-align: right;\n",
       "    }\n",
       "</style>\n",
       "<table border=\"1\" class=\"dataframe\">\n",
       "  <thead>\n",
       "    <tr style=\"text-align: right;\">\n",
       "      <th></th>\n",
       "      <th>To Location(Scorer)</th>\n",
       "      <th>Distance to Pin</th>\n",
       "    </tr>\n",
       "  </thead>\n",
       "  <tbody>\n",
       "    <tr>\n",
       "      <th>0</th>\n",
       "      <td>5</td>\n",
       "      <td>15480</td>\n",
       "    </tr>\n",
       "  </tbody>\n",
       "</table>\n",
       "</div>"
      ],
      "text/plain": [
       "   To Location(Scorer)  Distance to Pin\n",
       "0                    5            15480"
      ]
     },
     "execution_count": 90,
     "metadata": {},
     "output_type": "execute_result"
    }
   ],
   "source": [
    "y_test[:1]"
   ]
  },
  {
   "cell_type": "code",
   "execution_count": 91,
   "metadata": {},
   "outputs": [
    {
     "data": {
      "text/plain": [
       "array([[5.030000e+00, 1.559232e+04]])"
      ]
     },
     "execution_count": 91,
     "metadata": {},
     "output_type": "execute_result"
    }
   ],
   "source": [
    "y_pred[:1]"
   ]
  },
  {
   "cell_type": "code",
   "execution_count": 110,
   "metadata": {},
   "outputs": [
    {
     "data": {
      "text/plain": [
       "array([[5.120000e+00, 1.560348e+04]])"
      ]
     },
     "execution_count": 110,
     "metadata": {},
     "output_type": "execute_result"
    }
   ],
   "source": [
    "y_pred_multi[:1]"
   ]
  },
  {
   "cell_type": "code",
   "execution_count": 109,
   "metadata": {},
   "outputs": [],
   "source": [
    "# TODO\n",
    "# - calculate the linear difficulty for each From Location and weight appropriately\n",
    "# - split regression of distance to pin and To location classifier into seperate models?\n",
    "# - test one hole from tee to finish to see if predict runs true (test hole outs)\n",
    "# - reduce dimensionality (remove year, tourn #, player #?, course #, round, hole, shot, time, \n",
    "#   one par, scorecard yrd, actual yrd, shot type, recovery shot)\n",
    "# - add starting distance to hole, and predict ending distance to hole\n"
   ]
  },
  {
   "cell_type": "code",
   "execution_count": 89,
   "metadata": {},
   "outputs": [],
   "source": [
    "model = pickle.load(open('./models/phil-mickelson-stroke.pkl', 'rb'))"
   ]
  },
  {
   "cell_type": "code",
   "execution_count": 93,
   "metadata": {},
   "outputs": [
    {
     "data": {
      "text/plain": [
       "Index(['Year', 'Par Value', 'Yardage', 'From Location(Scorer)', 'Lie',\n",
       "       'Elevation', 'Slope', 'Distance from Center', 'Distance from Edge',\n",
       "       'Fwy Firmness', 'Fwy Height', 'Grn Firmness', 'Grn Height',\n",
       "       'Rough Height', 'Stimp', 'Fwy Width 250', 'Fwy Width 275',\n",
       "       'Fwy Width 300', 'Fwy Width 325', 'Fwy Width 350',\n",
       "       'Actual 250 Distance', 'Actual 275 Distance', 'Actual 300 Distance',\n",
       "       'Actual 325 Distance', 'Actual 350 Distance', 'Around_the_Green_N',\n",
       "       'Around_the_Green_Y', '1st_Putt_N', '1st_Putt_Y', 'Left_Right_0',\n",
       "       'Left_Right_L', 'Left_Right_R', '1st_Putt_0'],\n",
       "      dtype='object')"
      ]
     },
     "execution_count": 93,
     "metadata": {},
     "output_type": "execute_result"
    }
   ],
   "source": [
    "X_test.columns"
   ]
  },
  {
   "cell_type": "code",
   "execution_count": 97,
   "metadata": {},
   "outputs": [
    {
     "data": {
      "text/plain": [
       "(1, 33)"
      ]
     },
     "execution_count": 97,
     "metadata": {},
     "output_type": "execute_result"
    }
   ],
   "source": [
    "d1 = {\n",
    "    'Year': 2019,\n",
    "    'Par Value': 5,\n",
    "    'Yardage': 503,\n",
    "    'From Location(Scorer)': 1, # Tee Box\n",
    "    'Lie': 1, # Good\n",
    "    'Elevation': 1, # With\n",
    "    'Slope': 1, # Level\n",
    "    'Distance from Center': 329,\n",
    "    'Distance from Edge': 241,\n",
    "    'Fwy Firmness': 2, # Firm\n",
    "    'Fwy Height': 0.36000001430511475,\n",
    "    'Grn Firmness': 2, # Firm\n",
    "    'Grn Height': 0.10000000149011612,\n",
    "    'Rough Height': 2.25,\n",
    "    'Stimp': 12.50,\n",
    "    'Fwy Width 250': 28.00,\n",
    "    'Fwy Width 275': 29.00,\n",
    "    'Fwy Width 300': 28.00,\n",
    "    'Fwy Width 325': 0.00,\n",
    "    'Fwy Width 350': 0.00,\n",
    "    'Actual 250 Distance': 25.00,\n",
    "    'Actual 275 Distance': 28.00,\n",
    "    'Actual 300 Distance': 30.00,\n",
    "    'Actual 325 Distance': 0.00,\n",
    "    'Actual 350 Distance': 0.00,\n",
    "    'Around_the_Green_N': 1,\n",
    "    'Around_the_Green_Y': 0,\n",
    "    '1st_Putt_N': 1,\n",
    "    '1st_Putt_Y': 0,\n",
    "    'Left_Right_0': 0,\n",
    "    'Left_Right_L': 1,\n",
    "    'Left_Right_R': 0,\n",
    "    '1st_Putt_0': 0\n",
    "}\n",
    "X_sim = pd.DataFrame(data=d1, index=[0])\n",
    "X_sim.shape"
   ]
  },
  {
   "cell_type": "code",
   "execution_count": 98,
   "metadata": {},
   "outputs": [
    {
     "data": {
      "text/html": [
       "<div>\n",
       "<style scoped>\n",
       "    .dataframe tbody tr th:only-of-type {\n",
       "        vertical-align: middle;\n",
       "    }\n",
       "\n",
       "    .dataframe tbody tr th {\n",
       "        vertical-align: top;\n",
       "    }\n",
       "\n",
       "    .dataframe thead th {\n",
       "        text-align: right;\n",
       "    }\n",
       "</style>\n",
       "<table border=\"1\" class=\"dataframe\">\n",
       "  <thead>\n",
       "    <tr style=\"text-align: right;\">\n",
       "      <th></th>\n",
       "      <th>Year</th>\n",
       "      <th>Par Value</th>\n",
       "      <th>Yardage</th>\n",
       "      <th>From Location(Scorer)</th>\n",
       "      <th>Lie</th>\n",
       "      <th>Elevation</th>\n",
       "      <th>Slope</th>\n",
       "      <th>Distance from Center</th>\n",
       "      <th>Distance from Edge</th>\n",
       "      <th>Fwy Firmness</th>\n",
       "      <th>Fwy Height</th>\n",
       "      <th>Grn Firmness</th>\n",
       "      <th>Grn Height</th>\n",
       "      <th>Rough Height</th>\n",
       "      <th>Stimp</th>\n",
       "      <th>Fwy Width 250</th>\n",
       "      <th>Fwy Width 275</th>\n",
       "      <th>Fwy Width 300</th>\n",
       "      <th>Fwy Width 325</th>\n",
       "      <th>Fwy Width 350</th>\n",
       "      <th>Actual 250 Distance</th>\n",
       "      <th>Actual 275 Distance</th>\n",
       "      <th>Actual 300 Distance</th>\n",
       "      <th>Actual 325 Distance</th>\n",
       "      <th>Actual 350 Distance</th>\n",
       "      <th>Around_the_Green_N</th>\n",
       "      <th>Around_the_Green_Y</th>\n",
       "      <th>1st_Putt_N</th>\n",
       "      <th>1st_Putt_Y</th>\n",
       "      <th>Left_Right_0</th>\n",
       "      <th>Left_Right_L</th>\n",
       "      <th>Left_Right_R</th>\n",
       "      <th>1st_Putt_0</th>\n",
       "    </tr>\n",
       "  </thead>\n",
       "  <tbody>\n",
       "    <tr>\n",
       "      <th>0</th>\n",
       "      <td>2019</td>\n",
       "      <td>5</td>\n",
       "      <td>503</td>\n",
       "      <td>1</td>\n",
       "      <td>1</td>\n",
       "      <td>1</td>\n",
       "      <td>1</td>\n",
       "      <td>329</td>\n",
       "      <td>241</td>\n",
       "      <td>2</td>\n",
       "      <td>0.36</td>\n",
       "      <td>2</td>\n",
       "      <td>0.1</td>\n",
       "      <td>2.25</td>\n",
       "      <td>12.5</td>\n",
       "      <td>28.0</td>\n",
       "      <td>29.0</td>\n",
       "      <td>28.0</td>\n",
       "      <td>0.0</td>\n",
       "      <td>0.0</td>\n",
       "      <td>25.0</td>\n",
       "      <td>28.0</td>\n",
       "      <td>30.0</td>\n",
       "      <td>0.0</td>\n",
       "      <td>0.0</td>\n",
       "      <td>1</td>\n",
       "      <td>0</td>\n",
       "      <td>1</td>\n",
       "      <td>0</td>\n",
       "      <td>0</td>\n",
       "      <td>1</td>\n",
       "      <td>0</td>\n",
       "      <td>0</td>\n",
       "    </tr>\n",
       "  </tbody>\n",
       "</table>\n",
       "</div>"
      ],
      "text/plain": [
       "   Year  Par Value  Yardage  From Location(Scorer)  Lie  Elevation  Slope  \\\n",
       "0  2019          5      503                      1    1          1      1   \n",
       "\n",
       "   Distance from Center  Distance from Edge  Fwy Firmness  Fwy Height  \\\n",
       "0                   329                 241             2        0.36   \n",
       "\n",
       "   Grn Firmness  Grn Height  Rough Height  Stimp  Fwy Width 250  \\\n",
       "0             2         0.1          2.25   12.5           28.0   \n",
       "\n",
       "   Fwy Width 275  Fwy Width 300  Fwy Width 325  Fwy Width 350  \\\n",
       "0           29.0           28.0            0.0            0.0   \n",
       "\n",
       "   Actual 250 Distance  Actual 275 Distance  Actual 300 Distance  \\\n",
       "0                 25.0                 28.0                 30.0   \n",
       "\n",
       "   Actual 325 Distance  Actual 350 Distance  Around_the_Green_N  \\\n",
       "0                  0.0                  0.0                   1   \n",
       "\n",
       "   Around_the_Green_Y  1st_Putt_N  1st_Putt_Y  Left_Right_0  Left_Right_L  \\\n",
       "0                   0           1           0             0             1   \n",
       "\n",
       "   Left_Right_R  1st_Putt_0  \n",
       "0             0           0  "
      ]
     },
     "execution_count": 98,
     "metadata": {},
     "output_type": "execute_result"
    }
   ],
   "source": [
    "X_sim"
   ]
  },
  {
   "cell_type": "code",
   "execution_count": 101,
   "metadata": {},
   "outputs": [
    {
     "data": {
      "text/plain": [
       "array([[3.24000e+00, 7.09588e+03]])"
      ]
     },
     "execution_count": 101,
     "metadata": {},
     "output_type": "execute_result"
    }
   ],
   "source": [
    "y_sim_pred = model.predict(X_sim)\n",
    "y_sim_pred"
   ]
  },
  {
   "cell_type": "code",
   "execution_count": 100,
   "metadata": {},
   "outputs": [],
   "source": [
    "# Location 3\n",
    "# Distance 7095.88 (198 yards)\n",
    "# Actual Location 5\n",
    "# Actual Distance 7416 inches (206 yards)"
   ]
  },
  {
   "cell_type": "code",
   "execution_count": 106,
   "metadata": {},
   "outputs": [
    {
     "name": "stdout",
     "output_type": "stream",
     "text": [
      "Predicted Location 3.0\n",
      "Predicted Distance to Pin 197.0\n"
     ]
    }
   ],
   "source": [
    "print('Predicted Location', round(y_sim_pred[0][0], 0))\n",
    "print('Predicted Distance to Pin', round(y_sim_pred[0][1] / 36.0, 0))"
   ]
  },
  {
   "cell_type": "markdown",
   "metadata": {},
   "source": [
    "##### Phil Mickelson - 2019 Genesis Open, Round 1, Hole 1\n",
    "Shot 5 in the hole\n",
    "\n",
    "Shot 4 putt 13 ft 5 in., 2 ft 11 in. to hole\n",
    "\n",
    "Shot 3 65 ft 1 in. to green, 10 ft 3 in. to hole\n",
    "\n",
    "Shot 2 182 yds to front center green side bunker, 74 ft 11 in. to hole\n",
    "\n",
    "Shot 1 307 yds to left rough, 206 yds to hole\n"
   ]
  },
  {
   "cell_type": "code",
   "execution_count": 107,
   "metadata": {},
   "outputs": [
    {
     "data": {
      "text/html": [
       "<div>\n",
       "<style scoped>\n",
       "    .dataframe tbody tr th:only-of-type {\n",
       "        vertical-align: middle;\n",
       "    }\n",
       "\n",
       "    .dataframe tbody tr th {\n",
       "        vertical-align: top;\n",
       "    }\n",
       "\n",
       "    .dataframe thead th {\n",
       "        text-align: right;\n",
       "    }\n",
       "</style>\n",
       "<table border=\"1\" class=\"dataframe\">\n",
       "  <thead>\n",
       "    <tr style=\"text-align: right;\">\n",
       "      <th></th>\n",
       "      <th>Year</th>\n",
       "      <th>Par Value</th>\n",
       "      <th>Yardage</th>\n",
       "      <th>From Location(Scorer)</th>\n",
       "      <th>Lie</th>\n",
       "      <th>Elevation</th>\n",
       "      <th>Slope</th>\n",
       "      <th>Distance from Center</th>\n",
       "      <th>Distance from Edge</th>\n",
       "      <th>Fwy Firmness</th>\n",
       "      <th>Fwy Height</th>\n",
       "      <th>Grn Firmness</th>\n",
       "      <th>Grn Height</th>\n",
       "      <th>Rough Height</th>\n",
       "      <th>Stimp</th>\n",
       "      <th>Fwy Width 250</th>\n",
       "      <th>Fwy Width 275</th>\n",
       "      <th>Fwy Width 300</th>\n",
       "      <th>Fwy Width 325</th>\n",
       "      <th>Fwy Width 350</th>\n",
       "      <th>Actual 250 Distance</th>\n",
       "      <th>Actual 275 Distance</th>\n",
       "      <th>Actual 300 Distance</th>\n",
       "      <th>Actual 325 Distance</th>\n",
       "      <th>Actual 350 Distance</th>\n",
       "      <th>Around_the_Green_N</th>\n",
       "      <th>Around_the_Green_Y</th>\n",
       "      <th>1st_Putt_N</th>\n",
       "      <th>1st_Putt_Y</th>\n",
       "      <th>Left_Right_0</th>\n",
       "      <th>Left_Right_L</th>\n",
       "      <th>Left_Right_R</th>\n",
       "      <th>1st_Putt_0</th>\n",
       "    </tr>\n",
       "  </thead>\n",
       "  <tbody>\n",
       "    <tr>\n",
       "      <th>0</th>\n",
       "      <td>2019</td>\n",
       "      <td>5</td>\n",
       "      <td>503</td>\n",
       "      <td>5</td>\n",
       "      <td>0</td>\n",
       "      <td>0</td>\n",
       "      <td>0</td>\n",
       "      <td>NaN</td>\n",
       "      <td>NaN</td>\n",
       "      <td>2</td>\n",
       "      <td>0.36</td>\n",
       "      <td>2</td>\n",
       "      <td>0.1</td>\n",
       "      <td>2.25</td>\n",
       "      <td>12.5</td>\n",
       "      <td>28.0</td>\n",
       "      <td>29.0</td>\n",
       "      <td>28.0</td>\n",
       "      <td>0.0</td>\n",
       "      <td>0.0</td>\n",
       "      <td>25.0</td>\n",
       "      <td>28.0</td>\n",
       "      <td>30.0</td>\n",
       "      <td>0.0</td>\n",
       "      <td>0.0</td>\n",
       "      <td>1</td>\n",
       "      <td>0</td>\n",
       "      <td>1</td>\n",
       "      <td>0</td>\n",
       "      <td>0</td>\n",
       "      <td>1</td>\n",
       "      <td>0</td>\n",
       "      <td>0</td>\n",
       "    </tr>\n",
       "  </tbody>\n",
       "</table>\n",
       "</div>"
      ],
      "text/plain": [
       "   Year  Par Value  Yardage  From Location(Scorer)  Lie  Elevation  Slope  \\\n",
       "0  2019          5      503                      5    0          0      0   \n",
       "\n",
       "   Distance from Center  Distance from Edge  Fwy Firmness  Fwy Height  \\\n",
       "0                   NaN                 NaN             2        0.36   \n",
       "\n",
       "   Grn Firmness  Grn Height  Rough Height  Stimp  Fwy Width 250  \\\n",
       "0             2         0.1          2.25   12.5           28.0   \n",
       "\n",
       "   Fwy Width 275  Fwy Width 300  Fwy Width 325  Fwy Width 350  \\\n",
       "0           29.0           28.0            0.0            0.0   \n",
       "\n",
       "   Actual 250 Distance  Actual 275 Distance  Actual 300 Distance  \\\n",
       "0                 25.0                 28.0                 30.0   \n",
       "\n",
       "   Actual 325 Distance  Actual 350 Distance  Around_the_Green_N  \\\n",
       "0                  0.0                  0.0                   1   \n",
       "\n",
       "   Around_the_Green_Y  1st_Putt_N  1st_Putt_Y  Left_Right_0  Left_Right_L  \\\n",
       "0                   0           1           0             0             1   \n",
       "\n",
       "   Left_Right_R  1st_Putt_0  \n",
       "0             0           0  "
      ]
     },
     "execution_count": 107,
     "metadata": {},
     "output_type": "execute_result"
    }
   ],
   "source": [
    "# using actual result to predict result of 2nd shot\n",
    "d2 = {\n",
    "    'Year': 2019,\n",
    "    'Par Value': 5,\n",
    "    'Yardage': 503,\n",
    "    'From Location(Scorer)': 5, # Primary Rough\n",
    "    'Lie': 0, # UNKNOWN\n",
    "    'Elevation': 0, # UNKNOWN\n",
    "    'Slope': 0, # UNKNOWN\n",
    "    'Distance from Center': float('nan'), # UNKNOWN\n",
    "    'Distance from Edge': float('nan'), # UNKNOWN\n",
    "    'Fwy Firmness': 2, # Firm\n",
    "    'Fwy Height': 0.36000001430511475,\n",
    "    'Grn Firmness': 2, # Firm\n",
    "    'Grn Height': 0.10000000149011612,\n",
    "    'Rough Height': 2.25,\n",
    "    'Stimp': 12.50,\n",
    "    'Fwy Width 250': 28.00,\n",
    "    'Fwy Width 275': 29.00,\n",
    "    'Fwy Width 300': 28.00,\n",
    "    'Fwy Width 325': 0.00,\n",
    "    'Fwy Width 350': 0.00,\n",
    "    'Actual 250 Distance': 25.00,\n",
    "    'Actual 275 Distance': 28.00,\n",
    "    'Actual 300 Distance': 30.00,\n",
    "    'Actual 325 Distance': 0.00,\n",
    "    'Actual 350 Distance': 0.00,\n",
    "    'Around_the_Green_N': 1,\n",
    "    'Around_the_Green_Y': 0,\n",
    "    '1st_Putt_N': 1,\n",
    "    '1st_Putt_Y': 0,\n",
    "    'Left_Right_0': 0,\n",
    "    'Left_Right_L': 1,\n",
    "    'Left_Right_R': 0,\n",
    "    '1st_Putt_0': 0\n",
    "}\n",
    "X_sim = pd.DataFrame(data=d2, index=[0])\n",
    "X_sim"
   ]
  },
  {
   "cell_type": "code",
   "execution_count": 108,
   "metadata": {},
   "outputs": [
    {
     "ename": "ValueError",
     "evalue": "Input contains NaN, infinity or a value too large for dtype('float32').",
     "output_type": "error",
     "traceback": [
      "\u001b[1;31m---------------------------------------------------------------------------\u001b[0m",
      "\u001b[1;31mValueError\u001b[0m                                Traceback (most recent call last)",
      "\u001b[1;32m<ipython-input-108-15667910e910>\u001b[0m in \u001b[0;36m<module>\u001b[1;34m()\u001b[0m\n\u001b[1;32m----> 1\u001b[1;33m \u001b[0my_sim_pred\u001b[0m \u001b[1;33m=\u001b[0m \u001b[0mmodel\u001b[0m\u001b[1;33m.\u001b[0m\u001b[0mpredict\u001b[0m\u001b[1;33m(\u001b[0m\u001b[0mX_sim\u001b[0m\u001b[1;33m)\u001b[0m\u001b[1;33m\u001b[0m\u001b[0m\n\u001b[0m\u001b[0;32m      2\u001b[0m \u001b[0my_sim_pred\u001b[0m\u001b[1;33m\u001b[0m\u001b[0m\n",
      "\u001b[1;32mC:\\Program Files (x86)\\Microsoft Visual Studio\\Shared\\Anaconda3_64\\lib\\site-packages\\sklearn\\ensemble\\forest.py\u001b[0m in \u001b[0;36mpredict\u001b[1;34m(self, X)\u001b[0m\n\u001b[0;32m    679\u001b[0m         \u001b[0mcheck_is_fitted\u001b[0m\u001b[1;33m(\u001b[0m\u001b[0mself\u001b[0m\u001b[1;33m,\u001b[0m \u001b[1;34m'estimators_'\u001b[0m\u001b[1;33m)\u001b[0m\u001b[1;33m\u001b[0m\u001b[0m\n\u001b[0;32m    680\u001b[0m         \u001b[1;31m# Check data\u001b[0m\u001b[1;33m\u001b[0m\u001b[1;33m\u001b[0m\u001b[0m\n\u001b[1;32m--> 681\u001b[1;33m         \u001b[0mX\u001b[0m \u001b[1;33m=\u001b[0m \u001b[0mself\u001b[0m\u001b[1;33m.\u001b[0m\u001b[0m_validate_X_predict\u001b[0m\u001b[1;33m(\u001b[0m\u001b[0mX\u001b[0m\u001b[1;33m)\u001b[0m\u001b[1;33m\u001b[0m\u001b[0m\n\u001b[0m\u001b[0;32m    682\u001b[0m \u001b[1;33m\u001b[0m\u001b[0m\n\u001b[0;32m    683\u001b[0m         \u001b[1;31m# Assign chunk of trees to jobs\u001b[0m\u001b[1;33m\u001b[0m\u001b[1;33m\u001b[0m\u001b[0m\n",
      "\u001b[1;32mC:\\Program Files (x86)\\Microsoft Visual Studio\\Shared\\Anaconda3_64\\lib\\site-packages\\sklearn\\ensemble\\forest.py\u001b[0m in \u001b[0;36m_validate_X_predict\u001b[1;34m(self, X)\u001b[0m\n\u001b[0;32m    355\u001b[0m                                  \"call `fit` before exploiting the model.\")\n\u001b[0;32m    356\u001b[0m \u001b[1;33m\u001b[0m\u001b[0m\n\u001b[1;32m--> 357\u001b[1;33m         \u001b[1;32mreturn\u001b[0m \u001b[0mself\u001b[0m\u001b[1;33m.\u001b[0m\u001b[0mestimators_\u001b[0m\u001b[1;33m[\u001b[0m\u001b[1;36m0\u001b[0m\u001b[1;33m]\u001b[0m\u001b[1;33m.\u001b[0m\u001b[0m_validate_X_predict\u001b[0m\u001b[1;33m(\u001b[0m\u001b[0mX\u001b[0m\u001b[1;33m,\u001b[0m \u001b[0mcheck_input\u001b[0m\u001b[1;33m=\u001b[0m\u001b[1;32mTrue\u001b[0m\u001b[1;33m)\u001b[0m\u001b[1;33m\u001b[0m\u001b[0m\n\u001b[0m\u001b[0;32m    358\u001b[0m \u001b[1;33m\u001b[0m\u001b[0m\n\u001b[0;32m    359\u001b[0m     \u001b[1;33m@\u001b[0m\u001b[0mproperty\u001b[0m\u001b[1;33m\u001b[0m\u001b[0m\n",
      "\u001b[1;32mC:\\Program Files (x86)\\Microsoft Visual Studio\\Shared\\Anaconda3_64\\lib\\site-packages\\sklearn\\tree\\tree.py\u001b[0m in \u001b[0;36m_validate_X_predict\u001b[1;34m(self, X, check_input)\u001b[0m\n\u001b[0;32m    371\u001b[0m         \u001b[1;34m\"\"\"Validate X whenever one tries to predict, apply, predict_proba\"\"\"\u001b[0m\u001b[1;33m\u001b[0m\u001b[0m\n\u001b[0;32m    372\u001b[0m         \u001b[1;32mif\u001b[0m \u001b[0mcheck_input\u001b[0m\u001b[1;33m:\u001b[0m\u001b[1;33m\u001b[0m\u001b[0m\n\u001b[1;32m--> 373\u001b[1;33m             \u001b[0mX\u001b[0m \u001b[1;33m=\u001b[0m \u001b[0mcheck_array\u001b[0m\u001b[1;33m(\u001b[0m\u001b[0mX\u001b[0m\u001b[1;33m,\u001b[0m \u001b[0mdtype\u001b[0m\u001b[1;33m=\u001b[0m\u001b[0mDTYPE\u001b[0m\u001b[1;33m,\u001b[0m \u001b[0maccept_sparse\u001b[0m\u001b[1;33m=\u001b[0m\u001b[1;34m\"csr\"\u001b[0m\u001b[1;33m)\u001b[0m\u001b[1;33m\u001b[0m\u001b[0m\n\u001b[0m\u001b[0;32m    374\u001b[0m             if issparse(X) and (X.indices.dtype != np.intc or\n\u001b[0;32m    375\u001b[0m                                 X.indptr.dtype != np.intc):\n",
      "\u001b[1;32mC:\\Program Files (x86)\\Microsoft Visual Studio\\Shared\\Anaconda3_64\\lib\\site-packages\\sklearn\\utils\\validation.py\u001b[0m in \u001b[0;36mcheck_array\u001b[1;34m(array, accept_sparse, dtype, order, copy, force_all_finite, ensure_2d, allow_nd, ensure_min_samples, ensure_min_features, warn_on_dtype, estimator)\u001b[0m\n\u001b[0;32m    451\u001b[0m                              % (array.ndim, estimator_name))\n\u001b[0;32m    452\u001b[0m         \u001b[1;32mif\u001b[0m \u001b[0mforce_all_finite\u001b[0m\u001b[1;33m:\u001b[0m\u001b[1;33m\u001b[0m\u001b[0m\n\u001b[1;32m--> 453\u001b[1;33m             \u001b[0m_assert_all_finite\u001b[0m\u001b[1;33m(\u001b[0m\u001b[0marray\u001b[0m\u001b[1;33m)\u001b[0m\u001b[1;33m\u001b[0m\u001b[0m\n\u001b[0m\u001b[0;32m    454\u001b[0m \u001b[1;33m\u001b[0m\u001b[0m\n\u001b[0;32m    455\u001b[0m     \u001b[0mshape_repr\u001b[0m \u001b[1;33m=\u001b[0m \u001b[0m_shape_repr\u001b[0m\u001b[1;33m(\u001b[0m\u001b[0marray\u001b[0m\u001b[1;33m.\u001b[0m\u001b[0mshape\u001b[0m\u001b[1;33m)\u001b[0m\u001b[1;33m\u001b[0m\u001b[0m\n",
      "\u001b[1;32mC:\\Program Files (x86)\\Microsoft Visual Studio\\Shared\\Anaconda3_64\\lib\\site-packages\\sklearn\\utils\\validation.py\u001b[0m in \u001b[0;36m_assert_all_finite\u001b[1;34m(X)\u001b[0m\n\u001b[0;32m     42\u001b[0m             and not np.isfinite(X).all()):\n\u001b[0;32m     43\u001b[0m         raise ValueError(\"Input contains NaN, infinity\"\n\u001b[1;32m---> 44\u001b[1;33m                          \" or a value too large for %r.\" % X.dtype)\n\u001b[0m\u001b[0;32m     45\u001b[0m \u001b[1;33m\u001b[0m\u001b[0m\n\u001b[0;32m     46\u001b[0m \u001b[1;33m\u001b[0m\u001b[0m\n",
      "\u001b[1;31mValueError\u001b[0m: Input contains NaN, infinity or a value too large for dtype('float32')."
     ]
    }
   ],
   "source": [
    "y_sim_pred = model.predict(X_sim)\n",
    "y_sim_pred"
   ]
  },
  {
   "cell_type": "code",
   "execution_count": null,
   "metadata": {},
   "outputs": [],
   "source": []
  }
 ],
 "metadata": {
  "kernelspec": {
   "display_name": "Python 3",
   "language": "python",
   "name": "python3"
  },
  "language_info": {
   "codemirror_mode": {
    "name": "ipython",
    "version": 3
   },
   "file_extension": ".py",
   "mimetype": "text/x-python",
   "name": "python",
   "nbconvert_exporter": "python",
   "pygments_lexer": "ipython3",
   "version": "3.6.5"
  }
 },
 "nbformat": 4,
 "nbformat_minor": 2
}
